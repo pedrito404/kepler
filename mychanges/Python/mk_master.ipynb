{
 "cells": [
  {
   "cell_type": "code",
   "execution_count": 3,
   "metadata": {},
   "outputs": [],
   "source": [
    "import astropy.io.fits\n",
    "import numpy as np\n",
    "import scipy\n",
    "from scipy import stats\n",
    "from os import path\n",
    "import math\n",
    "import time\n",
    "import pandas as pd\n",
    "#import relevant libraries for a list\n",
    "import glob, os\n",
    "from os import listdir\n",
    "from os.path import isfile, join, exists\n",
    "from astropy.io import fits"
   ]
  },
  {
   "cell_type": "code",
   "execution_count": 4,
   "metadata": {},
   "outputs": [],
   "source": [
    "# we have to take out the file misaligned Kepler2009170043915"
   ]
  },
  {
   "cell_type": "code",
   "execution_count": 5,
   "metadata": {},
   "outputs": [],
   "source": [
    "###UPDATE HERE#####\n",
    "#what field are you looking at?\n",
    "blknum = 52 #how many images go into each holder?\n",
    "\n",
    "#this program will select the images to make the E and W master frames\n",
    "#useful directories\n",
    "cdedir = '/home/usuario/dia_kepler/mychanges/Python/' #code directory\n",
    "clndir = '/home/usuario/Documents/Mestrado/FFIs/testeall/clean/' #directory where the cleaned images reside\n",
    "old='/home/usuario/Documents/Mestrado/FFIs/'\n",
    "\n",
    "###END UPDATE###"
   ]
  },
  {
   "cell_type": "code",
   "execution_count": 6,
   "metadata": {},
   "outputs": [],
   "source": [
    "#get the image list and the number of files which need reduction\n",
    "files = np.loadtxt(cdedir+'images.dat', dtype = 'str')\n",
    "files = list(files)\n",
    "files = sorted(files)\n",
    "nfiles = len(files)\n",
    "files2 = np.loadtxt(cdedir+'images2.dat',dtype = 'str')\n",
    "files2=list(files2)\n",
    "files2 = sorted(files2)"
   ]
  },
  {
   "cell_type": "code",
   "execution_count": 8,
   "metadata": {},
   "outputs": [],
   "source": [
    "cnt = 0 #counter for the number of images used\n",
    "kk = 0 #the jumper for file placement\n",
    "name = \"align\"\n",
    "name2 = \"exposure\"\n",
    "#value = \"df[df['skygroup']==i]['file']\"\n",
    "value = \"[]\"\n",
    "for k in range(4):\n",
    "    for i in range(85):\n",
    "        command_variable = \"\"\n",
    "        command2 = \"\"\n",
    "        command_variable = name + str(k) + str(i) + \" = \" + value\n",
    "        command2 = name2 + str(k) + str(i) + \" = \" + value\n",
    "        exec(command_variable)\n",
    "        exec(command2)"
   ]
  },
  {
   "cell_type": "code",
   "execution_count": 9,
   "metadata": {},
   "outputs": [],
   "source": [
    "for ii in range(0,len(files)):\n",
    "    hdu = fits.open(clndir+files[ii])\n",
    "    hdu2 = fits.open(old+files2[ii])\n",
    "    if (ii ==0):\n",
    "        nx=hdu[1].header['naxis2']\n",
    "        ny=hdu[1].header['naxis1']\n",
    "        all_data = np.ndarray(shape=(blknum,nx,ny))\n",
    "        expt = np.zeros(blknum)\n",
    "    for js in range(1,len(hdu)):\n",
    "        season = hdu2[0].header['season']\n",
    "        header = hdu[js].header\n",
    "        sky = header['skygroup']\n",
    "        data = hdu[js].data\n",
    "        exp = hdu[js].header['exposure']\n",
    "        \n",
    "        align = locals()['align' + str(season)+str(sky)]\n",
    "        exposure = locals()['exposure'+str(season)+str(sky)]\n",
    "        align.append(data)\n",
    "        exposure.append(exp)\n",
    "        if ii == len(files)-10:\n",
    "            #combined_data = np.median(align1,axis=0)\n",
    "\n",
    "            # Write data to new file    \n",
    "            new_image = fits.PrimaryHDU(np.median(align,axis=0))\n",
    "            new_image.header.set('NUMCOMB', cnt)\n",
    "            new_image.header.set('EXPTIME', np.median(exposure))\n",
    "            new_image.header.set('SKYGROUP',sky)\n",
    "            new_image.header.set('SEASON',season)\n",
    "\n",
    "            #print the file with the appropriate counter\n",
    "            new_image.writeto(clndir+'/masters/'+'season'+str(season)+'/'+str(sky)+'.fits',overwrite=True)\n",
    "        elif ii == len(files)-7:\n",
    "            new_image = fits.PrimaryHDU(np.median(align,axis=0))\n",
    "            new_image.header.set('NUMCOMB', cnt)\n",
    "            new_image.header.set('EXPTIME', np.median(exposure))\n",
    "            new_image.header.set('SKYGROUP',sky)\n",
    "            new_image.header.set('SEASON',season)\n",
    "            new_image.writeto(clndir+'/masters/'+'season'+str(season)+'/'+str(sky)+'.fits',overwrite=True)\n",
    "        elif ii == len(files)-4:\n",
    "            new_image = fits.PrimaryHDU(np.median(align,axis=0))\n",
    "            new_image.header.set('NUMCOMB', cnt)\n",
    "            new_image.header.set('EXPTIME', np.median(exposure))\n",
    "            new_image.header.set('SKYGROUP',sky)\n",
    "            new_image.header.set('SEASON',season)\n",
    "            new_image.writeto(clndir+'/masters/'+'season'+str(season)+'/'+str(sky)+'.fits',overwrite=True)\n",
    "        elif ii == len(files)-1:\n",
    "            new_image = fits.PrimaryHDU(np.median(align,axis=0))\n",
    "            new_image.header.set('NUMCOMB', cnt)\n",
    "            new_image.header.set('EXPTIME', np.median(exposure))\n",
    "            new_image.header.set('SKYGROUP',sky)\n",
    "            new_image.header.set('SEASON',season)\n",
    "            new_image.writeto(clndir+'/masters/'+'season'+str(season)+'/'+str(sky)+'.fits',overwrite=True)\n",
    "\n",
    "        cnt = cnt+1"
   ]
  }
 ],
 "metadata": {
  "kernelspec": {
   "display_name": "Python 3",
   "language": "python",
   "name": "python3"
  },
  "language_info": {
   "codemirror_mode": {
    "name": "ipython",
    "version": 3
   },
   "file_extension": ".py",
   "mimetype": "text/x-python",
   "name": "python",
   "nbconvert_exporter": "python",
   "pygments_lexer": "ipython3",
   "version": "3.6.5"
  }
 },
 "nbformat": 4,
 "nbformat_minor": 2
}
