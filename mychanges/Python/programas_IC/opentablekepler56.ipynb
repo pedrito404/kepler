{
 "cells": [
  {
   "cell_type": "code",
   "execution_count": 1,
   "metadata": {
    "collapsed": true
   },
   "outputs": [],
   "source": [
    "% matplotlib inline\n",
    "import pandas as pd\n",
    "import matplotlib.pyplot as plt\n",
    "import numpy as np"
   ]
  },
  {
   "cell_type": "code",
   "execution_count": 2,
   "metadata": {
    "collapsed": true
   },
   "outputs": [],
   "source": [
    "a = 'a'\n",
    "t = 't'\n",
    "e = 'e'\n",
    "inc = 'inc'\n",
    "capom = 'capom'\n",
    "omega = 'omega'\n",
    "capm = 'capm'\n",
    "peri = 'peri'\n",
    "apo = 'apo'\n",
    "obar = 'obar'"
   ]
  },
  {
   "cell_type": "code",
   "execution_count": 3,
   "metadata": {
    "collapsed": false
   },
   "outputs": [],
   "source": [
    "table_56_b = pd.read_csv(\"follow(-2_56_b).out\",delim_whitespace=True,header=None,engine='c')\n"
   ]
  },
  {
   "cell_type": "code",
   "execution_count": 4,
   "metadata": {
    "collapsed": true
   },
   "outputs": [],
   "source": [
    "table_56_c = pd.read_csv(\"follow(-3_56_c).out\",delim_whitespace=True,header=None,engine='c')\n"
   ]
  },
  {
   "cell_type": "code",
   "execution_count": 5,
   "metadata": {
    "collapsed": true
   },
   "outputs": [],
   "source": [
    "table_56_d = pd.read_csv(\"follow(-4_56_d).out\",delim_whitespace=True,header=None,engine='c')\n"
   ]
  },
  {
   "cell_type": "code",
   "execution_count": 6,
   "metadata": {
    "collapsed": false
   },
   "outputs": [],
   "source": [
    "table_56_d.columns =['t','a','e','inc','capom','omega','capm','peri','apo','obar']\n",
    "table_56_c.columns =['t','a','e','inc','capom','omega','capm','peri','apo','obar']\n",
    "table_56_b.columns =['t','a','e','inc','capom','omega','capm','peri','apo','obar']"
   ]
  },
  {
   "cell_type": "markdown",
   "metadata": {},
   "source": [
    "a é semi-eixo maior (a partir do centro)  \n",
    "Capom é longitude do nodo ascendente (omegão)  \n",
    "Omega é argumento do pericentro  \n",
    "Capm é anomalia média (M)  \n",
    "Peri é pericentro (a partir do foco)  \n",
    "Apo é apocentro (a partir do foco)  \n",
    "Obar é omega_barra que é longitude do pericentro que é a soma do argumento do pericentro com longitude do nodo  "
   ]
  },
  {
   "cell_type": "code",
   "execution_count": 7,
   "metadata": {
    "collapsed": true
   },
   "outputs": [],
   "source": [
    "t_b = table_56_b['t']\n",
    "t_c = table_56_c['t']\n",
    "t_d = table_56_d['t']\n",
    "\n",
    "a_b = table_56_b['a']\n",
    "a_c = table_56_c['a']\n",
    "a_d = table_56_d['a']\n",
    "\n",
    "e_b = table_56_b['e']\n",
    "e_c = table_56_c['e']\n",
    "e_d = table_56_d['e']\n",
    "\n",
    "inc_b = table_56_b['inc']\n",
    "inc_c = table_56_c['inc']\n",
    "inc_d = table_56_d['inc']\n",
    "\n",
    "capom_b = table_56_b['capom']\n",
    "capom_c = table_56_c['capom']\n",
    "capom_d = table_56_d['capom']\n",
    "\n",
    "omega_b = table_56_b['omega']\n",
    "omega_c = table_56_c['omega']\n",
    "omega_d = table_56_d['omega']\n",
    "\n",
    "capm_b = table_56_b['capm']\n",
    "capm_c = table_56_c['capm']\n",
    "capm_d = table_56_d['capm']\n",
    "\n",
    "peri_b = table_56_b['peri']\n",
    "peri_c = table_56_c['peri']\n",
    "peri_d = table_56_d['peri']\n",
    "\n",
    "apo_b = table_56_b['apo']\n",
    "apo_c = table_56_c['apo']\n",
    "apo_d = table_56_d['apo']\n",
    "\n",
    "obar_b = table_56_b['obar']\n",
    "obar_c = table_56_c['obar']\n",
    "obar_d = table_56_d['obar']"
   ]
  },
  {
   "cell_type": "code",
   "execution_count": 8,
   "metadata": {
    "collapsed": true
   },
   "outputs": [],
   "source": [
    "n = 10 # fator de redução da quantidade de pontos\n",
    "t_d = []\n",
    "e_d = []\n",
    "t_c = []\n",
    "e_c = []\n",
    "t_b =[]\n",
    "e_b =[]\n",
    "for j in range(0,(len(table_56_d)-1)//n):\n",
    "    t_d.append(table_56_d[t][n*j])\n",
    "    e_d.append(table_56_d[e][n*j])\n",
    "    t_c.append(table_56_c[t][n*j])\n",
    "    t_b.append(table_56_b[t][n*j])\n",
    "    e_c.append(table_56_c[e][n*j])\n",
    "    e_b.append(table_56_b[e][n*j])"
   ]
  },
  {
   "cell_type": "code",
   "execution_count": 14,
   "metadata": {
    "collapsed": true
   },
   "outputs": [],
   "source": [
    "n = 100 # fator de redução da quantidade de pontos\n",
    "t_d = []\n",
    "a_d = []\n",
    "t_c = []\n",
    "a_c = []\n",
    "t_b =[]\n",
    "a_b =[]\n",
    "for j in range(0,(len(table_56_d)-1)//n):\n",
    "    t_d.append(table_56_d[t][n*j])\n",
    "    a_d.append(table_56_d[a][n*j])\n",
    "    t_c.append(table_56_c[t][n*j])\n",
    "    t_b.append(table_56_b[t][n*j])\n",
    "    a_c.append(table_56_c[a][n*j])\n",
    "    a_b.append(table_56_b[a][n*j])"
   ]
  },
  {
   "cell_type": "code",
   "execution_count": 10,
   "metadata": {
    "collapsed": true
   },
   "outputs": [],
   "source": [
    "n = 10 # fator de redução da quantidade de pontos\n",
    "t_d = []\n",
    "inc_d = []\n",
    "t_c = []\n",
    "inc_c = []\n",
    "t_b =[]\n",
    "inc_b =[]\n",
    "for j in range(0,(len(table_56_d)-1)//n):\n",
    "    t_d.append(table_56_d[t][n*j])\n",
    "    inc_d.append(table_56_d[inc][n*j])\n",
    "    t_c.append(table_56_c[t][n*j])\n",
    "    t_b.append(table_56_b[t][n*j])\n",
    "    inc_c.append(table_56_c[inc][n*j])\n",
    "    inc_b.append(table_56_b[inc][n*j])"
   ]
  },
  {
   "cell_type": "markdown",
   "metadata": {},
   "source": [
    "## Excentricidade vs Tempo"
   ]
  },
  {
   "cell_type": "code",
   "execution_count": 11,
   "metadata": {
    "collapsed": false,
    "scrolled": false
   },
   "outputs": [
    {
     "data": {
      "image/png": "[encoded data removed]",
      "text/plain": [
       "<matplotlib.figure.Figure at 0x7f141f266f28>"
      ]
     },
     "metadata": {},
     "output_type": "display_data"
    }
   ],
   "source": [
    "plt.plot(t_d,e_d,color = 'yellow',label = 'Kepler-56d')\n",
    "plt.plot(t_c,e_c,color = 'red',label = 'Kepler-56c')\n",
    "plt.plot(t_b,e_b,color = 'green',label = 'Kepler-56b')\n",
    "plt.ylabel('excentricidade')\n",
    "plt.xlabel('t')\n",
    "\n",
    "plt.legend(loc =5,shadow=True,mode = \"Expand\",ncol = 1)\n",
    "plt.title('KEPLER-56 SWIFT - inc=30')\n",
    "plt.ylabel('excentricidade')\n",
    "plt.xlabel('t (dias)')\n",
    "plt.savefig('excentricidade vs tempo - kepler56_e.png')"
   ]
  },
  {
   "cell_type": "markdown",
   "metadata": {},
   "source": [
    "## Semi-eixo maior vs Tempo"
   ]
  },
  {
   "cell_type": "code",
   "execution_count": 15,
   "metadata": {
    "collapsed": false
   },
   "outputs": [
    {
     "data": {
      "image/png": "[encoded data removed]",
      "text/plain": [
       "<matplotlib.figure.Figure at 0x7f141ba50358>"
      ]
     },
     "metadata": {},
     "output_type": "display_data"
    }
   ],
   "source": [
    "plt.plot(t_d,a_d,color = 'yellow',label = 'Kepler-56d')\n",
    "plt.plot(t_c,a_c,color = 'red',label = 'Kepler-56c')\n",
    "plt.plot(t_b,a_b,color = 'green',label = 'Kepler-56b')\n",
    "\n",
    "plt.legend(loc =5,shadow=True,mode = \"Expand\",ncol = 1)\n",
    "plt.title('KEPLER-56 SWIFT - inc=30')\n",
    "plt.ylabel('semi-eixo maior')\n",
    "plt.xlabel('t (dias)')\n",
    "plt.savefig('semi-eixo maior vs tempo - kepler56_a.png')"
   ]
  },
  {
   "cell_type": "markdown",
   "metadata": {
    "collapsed": true
   },
   "source": [
    "## Inclinação vs Tempo"
   ]
  },
  {
   "cell_type": "code",
   "execution_count": 13,
   "metadata": {
    "collapsed": false
   },
   "outputs": [
    {
     "data": {
      "image/png": "[encoded data removed]",
      "text/plain": [
       "<matplotlib.figure.Figure at 0x7f141bab74e0>"
      ]
     },
     "metadata": {},
     "output_type": "display_data"
    }
   ],
   "source": [
    "plt.plot(t_b,inc_b,color = 'green',label = 'Kepler-56b',alpha = 0.6)\n",
    "plt.plot(t_c,inc_c,color = 'yellow',label = 'Kepler-56c',alpha = 0.4)\n",
    "plt.plot(t_d,inc_d,color = 'black',label = 'Kepler-56d',alpha = 1)\n",
    "\n",
    "\n",
    "plt.legend(loc ='lower right',shadow=True,mode = \"Expand\",ncol = 1)\n",
    "\n",
    "plt.title('KEPLER-56 SWIFT - inc=30')\n",
    "plt.ylabel('inclinacao')\n",
    "plt.xlabel('t (dias)')\n",
    "plt.savefig('inclinacao vs tempo - kepler56_i.png')"
   ]
  },
  {
   "cell_type": "markdown",
   "metadata": {},
   "source": [
    "## Longitude do nodo vs Tempo"
   ]
  },
  {
   "cell_type": "code",
   "execution_count": null,
   "metadata": {
    "collapsed": false
   },
   "outputs": [],
   "source": [
    "plt.plot(t_d,capom_d,color = 'yellow',label = 'Kepler-56d')\n",
    "plt.plot(t_c,capom_c,color = 'red',label = 'Kepler-56c')\n",
    "plt.plot(t_b,capom_b,color = 'green',label = 'Kepler-56b',alpha = 0.5)\n",
    "\n",
    "plt.legend(loc =5,shadow=True,mode = \"Expand\",ncol = 1)\n",
    "plt.title('KEPLER-56 SWIFT')\n",
    "plt.ylabel('Longnodo')\n",
    "plt.xlabel('t (dias)')\n",
    "plt.savefig('capom vs tempo - kepler56_capom.png')"
   ]
  },
  {
   "cell_type": "markdown",
   "metadata": {},
   "source": [
    "## Argumento do pericentro vs Tempo"
   ]
  },
  {
   "cell_type": "code",
   "execution_count": null,
   "metadata": {
    "collapsed": false
   },
   "outputs": [],
   "source": [
    "plt.plot(t_d,omega_d,color = 'yellow',label = 'Kepler-56d')\n",
    "plt.plot(t_c,omega_c,color = 'red',label = 'Kepler-56c')\n",
    "plt.plot(t_b,omega_b,color = 'green',label = 'Kepler-56b')\n",
    "#plt.xlim(0,1e7)\n",
    "\n",
    "\n",
    "\n",
    "plt.legend(loc =5,shadow=True,mode = \"Expand\",ncol = 1)\n",
    "plt.title('KEPLER-56 SWIFT')\n",
    "plt.ylabel('omega')\n",
    "plt.xlabel('t (dias)')\n",
    "plt.savefig('omega vs tempo - kepler56_omega.png')"
   ]
  },
  {
   "cell_type": "markdown",
   "metadata": {},
   "source": [
    "## Anomalia média vs Tempo"
   ]
  },
  {
   "cell_type": "code",
   "execution_count": null,
   "metadata": {
    "collapsed": false
   },
   "outputs": [],
   "source": [
    "plt.plot(t_d,capm_d,color = 'yellow',label = 'Kepler-56d')\n",
    "plt.plot(t_c,capm_c,color = 'green',label = 'Kepler-56c')\n",
    "plt.plot(t_b,capm_b,color = 'blue',label = 'Kepler-56b')\n",
    "plt.xlim(0,1e7)\n",
    "\n",
    "plt.legend(loc ='upper left',shadow=True,mode = \"Expand\",ncol = 1)\n",
    "plt.title('KEPLER-56 SWIFT')\n",
    "plt.ylabel('capm')\n",
    "plt.xlabel('t (dias)')\n",
    "plt.savefig('capm vs tempo - kepler56_omega.png')\n",
    "\n"
   ]
  },
  {
   "cell_type": "code",
   "execution_count": null,
   "metadata": {
    "collapsed": false
   },
   "outputs": [],
   "source": [
    "h_d = table_56_d[e]*np.sin(table_56_d[obar])"
   ]
  },
  {
   "cell_type": "code",
   "execution_count": null,
   "metadata": {
    "collapsed": false
   },
   "outputs": [],
   "source": [
    "k_d = table_56_d[e]*np.cos(table_56_d[obar])"
   ]
  },
  {
   "cell_type": "code",
   "execution_count": null,
   "metadata": {
    "collapsed": false
   },
   "outputs": [],
   "source": [
    "plt.scatter(k_d,h_d)"
   ]
  },
  {
   "cell_type": "code",
   "execution_count": null,
   "metadata": {
    "collapsed": true
   },
   "outputs": [],
   "source": []
  }
 ],
 "metadata": {
  "anaconda-cloud": {},
  "kernelspec": {
   "display_name": "Python 3",
   "language": "python",
   "name": "python3"
  },
  "language_info": {
   "codemirror_mode": {
    "name": "ipython",
    "version": 3
   },
   "file_extension": ".py",
   "mimetype": "text/x-python",
   "name": "python",
   "nbconvert_exporter": "python",
   "pygments_lexer": "ipython3",
   "version": "3.6.0"
  }
 },
 "nbformat": 4,
 "nbformat_minor": 0
}
