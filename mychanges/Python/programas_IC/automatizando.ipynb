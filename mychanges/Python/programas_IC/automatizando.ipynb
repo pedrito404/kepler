{
 "cells": [
  {
   "cell_type": "code",
   "execution_count": 1,
   "metadata": {
    "collapsed": true
   },
   "outputs": [],
   "source": [
    "#trying to open a file and to optimize my work"
   ]
  },
  {
   "cell_type": "code",
   "execution_count": 1,
   "metadata": {
    "collapsed": true
   },
   "outputs": [],
   "source": [
    "% matplotlib inline\n",
    "import pandas as pd\n",
    "import matplotlib.pyplot as plt\n",
    "import numpy as np\n",
    "import math"
   ]
  },
  {
   "cell_type": "markdown",
   "metadata": {},
   "source": [
    "## Para Mercury"
   ]
  },
  {
   "cell_type": "code",
   "execution_count": 3,
   "metadata": {
    "collapsed": true
   },
   "outputs": [],
   "source": [
    "#  Asteroidal = Keplerian orbital elements, in an `asteroidal' format.\n",
    "#               i.e.  a e I g n M, where\n",
    "#                a = semi-major axis (in AU)\n",
    "#                e = eccentricity\n",
    "#                I = inclination (degrees)\n",
    "#                g = argument of pericentre (degrees)\n",
    "#                n = longitude of the ascending node (degrees)\n",
    "#                M = mean anomaly (degrees)\n",
    "\n",
    "# Na saída do tipo \".aei\" temos:\n",
    "\n",
    "#                  Time (years)\n",
    "#                  a = semi-major axis (in AU)\n",
    "#                  e = eccentricity\n",
    "#                  i = inclination\n",
    "#                  peri = argumento do pericentro (?)\n",
    "#                  node = Longitude do nodo(?)\n",
    "#                  M = mean anomaly (degrees)\n",
    "#                  mass = \n",
    "\n"
   ]
  },
  {
   "cell_type": "markdown",
   "metadata": {},
   "source": [
    "## Para SWIFT"
   ]
  },
  {
   "cell_type": "code",
   "execution_count": 4,
   "metadata": {
    "collapsed": true
   },
   "outputs": [],
   "source": [
    "\n",
    "# The elements are \n",
    "#                      a = semi-major axis (AU)\n",
    "#                      e = eccentricity\n",
    "#                      i = inclination \n",
    "#                      OMEGA = the long. of ascending node\n",
    "#                      omega = the arg. of peri\n",
    "#                      M =  mean anomaly\n",
    "\n",
    "# Na saída follow temos as seguintes abreviações na seguinte ordem:\n",
    "\n",
    "#                     t = time(dias)\n",
    "#                     a = semi-major axis (AU) \n",
    "#                     e = eccentricity\n",
    "#                     inc = inclination (radian)\n",
    "#                     capom = the long. of ascending node (radian)\n",
    "#                     omega = the arg. of peri (radian)\n",
    "#                     capm = mean anomaly (radian)\n",
    "#                     peri = posição do pericentro [ a*(1 - e)]\n",
    "#                     apo = posição do apocentro [ a*(1 + e)]\n",
    "#                     obar = omega barra ( Longitude do nodo [ capom ] + argumento do pericentro [ omega ] )\n",
    "\n",
    "\n",
    "#ordem em pl.in:\n",
    "#                 gmb,ialpha,a,e,inc,capom,omega,capm"
   ]
  },
  {
   "cell_type": "markdown",
   "metadata": {
    "collapsed": true
   },
   "source": [
    "## Cálculo de GM para coordob3 (com G = 1), graus em rad"
   ]
  },
  {
   "cell_type": "code",
   "execution_count": 5,
   "metadata": {},
   "outputs": [
    {
     "name": "stdout",
     "output_type": "stream",
     "text": [
      "semi-eixo de um planeta 0\n",
      "periodo 0\n"
     ]
    },
    {
     "ename": "ZeroDivisionError",
     "evalue": "float division by zero",
     "output_type": "error",
     "traceback": [
      "\u001b[0;31m---------------------------------------------------------------------------\u001b[0m",
      "\u001b[0;31mZeroDivisionError\u001b[0m                         Traceback (most recent call last)",
      "\u001b[0;32m<ipython-input-5-c3e00b0e752d>\u001b[0m in \u001b[0;36m<module>\u001b[0;34m()\u001b[0m\n\u001b[1;32m      5\u001b[0m \u001b[0;31m# terceira de Kepler\u001b[0m\u001b[0;34m\u001b[0m\u001b[0;34m\u001b[0m\u001b[0m\n\u001b[1;32m      6\u001b[0m \u001b[0;34m\u001b[0m\u001b[0m\n\u001b[0;32m----> 7\u001b[0;31m \u001b[0mGM\u001b[0m \u001b[0;34m=\u001b[0m \u001b[0;34m(\u001b[0m\u001b[0;34m(\u001b[0m\u001b[0ma\u001b[0m\u001b[0;34m**\u001b[0m\u001b[0;36m3\u001b[0m\u001b[0;34m)\u001b[0m\u001b[0;34m*\u001b[0m\u001b[0;36m4\u001b[0m\u001b[0;34m*\u001b[0m\u001b[0;34m(\u001b[0m\u001b[0mmath\u001b[0m\u001b[0;34m.\u001b[0m\u001b[0mpi\u001b[0m\u001b[0;34m)\u001b[0m\u001b[0;34m**\u001b[0m\u001b[0;36m2\u001b[0m\u001b[0;34m)\u001b[0m\u001b[0;34m/\u001b[0m\u001b[0;34m(\u001b[0m\u001b[0mT\u001b[0m\u001b[0;34m**\u001b[0m\u001b[0;36m2\u001b[0m\u001b[0;34m)\u001b[0m\u001b[0;34m\u001b[0m\u001b[0m\n\u001b[0m\u001b[1;32m      8\u001b[0m \u001b[0mprint\u001b[0m\u001b[0;34m(\u001b[0m\u001b[0;34m\"GM is: {:.9e}\"\u001b[0m\u001b[0;34m.\u001b[0m\u001b[0mformat\u001b[0m\u001b[0;34m(\u001b[0m\u001b[0mGM\u001b[0m\u001b[0;34m)\u001b[0m\u001b[0;34m)\u001b[0m\u001b[0;34m\u001b[0m\u001b[0m\n",
      "\u001b[0;31mZeroDivisionError\u001b[0m: float division by zero"
     ]
    }
   ],
   "source": [
    "#Msol = input('massa do corpo central em massas solares')\n",
    "a = float(input('semi-eixo de um planeta '))\n",
    "T = float(input('periodo '))\n",
    "\n",
    "# terceira de Kepler\n",
    "\n",
    "GM = ((a**3)*4*(math.pi)**2)/(T**2)\n",
    "print(\"GM is: {:.9e}\".format(GM))"
   ]
  },
  {
   "cell_type": "markdown",
   "metadata": {},
   "source": [
    "## Cálculo da anomalia verdadeira para a média dada anomalia em radianos"
   ]
  },
  {
   "cell_type": "code",
   "execution_count": null,
   "metadata": {},
   "outputs": [],
   "source": [
    "V = float(input('anomalia verdadeira'))\n",
    "e = float(input('excentricidade'))\n",
    "V_rad = V*math.pi/180\n",
    "E = 2*math.atan(math.tan(V_rad/2)*(1-e)/(1+e))\n",
    "M = E - e*math.sin(E)\n",
    "M_degree = M*180/math.pi\n",
    "print(M_degree)\n"
   ]
  },
  {
   "cell_type": "markdown",
   "metadata": {
    "collapsed": true
   },
   "source": [
    "## Raio de jupiter para raio em UA"
   ]
  },
  {
   "cell_type": "code",
   "execution_count": null,
   "metadata": {
    "scrolled": false
   },
   "outputs": [],
   "source": [
    "Rj = float(input('raio de jupiter '))\n",
    "\n",
    "# 1 Jupiter Radius = 7.1492x10**7 m\n",
    "# 1 Solar Radius  = 6.9599x10**8 m \n",
    "# 1 AU = 1.4960x10**11 m\n",
    "# 1 Rj  = (7.1492*10**7)/(1.4960*10**11)\n",
    "# 7.1492x107 * 1 AU/1.4960x1011 = quantos AU tem em um Rj\n",
    "\n",
    "print('a resposta do raio em Au é',Rj*(7.1492*10**7)/(1.4960*10**11))"
   ]
  },
  {
   "cell_type": "markdown",
   "metadata": {},
   "source": [
    "## Massa de Jupiter para Msolar"
   ]
  },
  {
   "cell_type": "code",
   "execution_count": 1,
   "metadata": {},
   "outputs": [
    {
     "name": "stdout",
     "output_type": "stream",
     "text": [
      "massa em Mj 1\n",
      "a resposta da massa do planeta em massas solares é  0.0009547511312217194\n"
     ]
    }
   ],
   "source": [
    "Mj = float(input('massa em Mj '))\n",
    "\n",
    "#1 Solar Mass = 1.989x1030 kg\n",
    "#1 Jupiter Mass = 1.899x1027 kg \n",
    "# 1 Mj (quantas Msolares tem em um Mj) = (1.899*10**27)/(1.989*10**30)\n",
    "Mps = Mj*(1.899*10**27)/(1.989*10**30)\n",
    "print('a resposta da massa do planeta em massas solares é ',Mps)"
   ]
  },
  {
   "cell_type": "code",
   "execution_count": null,
   "metadata": {
    "collapsed": true
   },
   "outputs": [],
   "source": [
    "# 1 massa solar é 1047,3946 massas de jupiter"
   ]
  },
  {
   "cell_type": "markdown",
   "metadata": {},
   "source": [
    "## Calculando Massa em Msolar para a unidade em que G=1"
   ]
  },
  {
   "cell_type": "code",
   "execution_count": null,
   "metadata": {},
   "outputs": [],
   "source": [
    "Mj = float(input('massa em Mj '))\n",
    "\n",
    "#1 Solar Mass = 1.989x1030 kg\n",
    "#1 Jupiter Mass = 1.899x1027 kg \n",
    "# 1 Mj (quantas Msolares tem em um Mj) = (1.899*10**27)/(1.989*10**30)\n",
    "Mps = Mj*(1.899*(10**27))/(1.989*(10**30))\n",
    "#print('a resposta da massa em massas solares é ',Mps)\n",
    "\n",
    "#Ms = float(input('massa estrela em Msolar '))\n",
    "Ms = 1.0\n",
    "#MG1 = float(input('massa estrela qdo G = 1 '))\n",
    "MG1 = 3.112042303e-04\n",
    "#Mps = float(input('massa planeta em Msolar '))\n",
    "print('a massa do planeta qdo G = 1 é',Mps*MG1/Ms)"
   ]
  },
  {
   "cell_type": "code",
   "execution_count": null,
   "metadata": {},
   "outputs": [],
   "source": [
    "import math\n",
    "r3 = (5.61*3*1.899*(10**27))/(4*math.pi*1330)\n",
    "print (r3)\n",
    "print (r3**(1/3))"
   ]
  },
  {
   "cell_type": "code",
   "execution_count": null,
   "metadata": {},
   "outputs": [],
   "source": [
    "print(124122122.05862609/(7.1492*(10**7)))"
   ]
  }
 ],
 "metadata": {
  "kernelspec": {
   "display_name": "Python 3",
   "language": "python",
   "name": "python3"
  },
  "language_info": {
   "codemirror_mode": {
    "name": "ipython",
    "version": 3
   },
   "file_extension": ".py",
   "mimetype": "text/x-python",
   "name": "python",
   "nbconvert_exporter": "python",
   "pygments_lexer": "ipython3",
   "version": "3.6.4"
  }
 },
 "nbformat": 4,
 "nbformat_minor": 2
}
