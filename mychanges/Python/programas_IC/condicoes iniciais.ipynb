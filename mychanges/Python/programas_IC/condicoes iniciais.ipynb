{
 "cells": [
  {
   "cell_type": "code",
   "execution_count": 1,
   "metadata": {
    "collapsed": true
   },
   "outputs": [],
   "source": [
    "import pandas as pd\n",
    "import numpy as np"
   ]
  },
  {
   "cell_type": "code",
   "execution_count": 2,
   "metadata": {
    "collapsed": true
   },
   "outputs": [],
   "source": [
    "table_9_b = pd.read_csv(\"follow( -3).out\",delim_whitespace=True,header=None,engine='c')\n",
    "table_9_c = pd.read_csv(\"follow( -4).out\",delim_whitespace=True,header=None,engine='c')\n",
    "table_9_d = pd.read_csv(\"follow( -2).out\",delim_whitespace=True,header=None,engine='c')"
   ]
  },
  {
   "cell_type": "code",
   "execution_count": 3,
   "metadata": {
    "collapsed": false
   },
   "outputs": [],
   "source": [
    "table_9_d.columns =['t','a','e','inc','capom','omega','capm','peri','apo','obar']\n",
    "table_9_c.columns =['t','a','e','inc','capom','omega','capm','peri','apo','obar']\n",
    "table_9_b.columns =['t','a','e','inc','capom','omega','capm','peri','apo','obar']"
   ]
  },
  {
   "cell_type": "code",
   "execution_count": 4,
   "metadata": {
    "collapsed": false
   },
   "outputs": [
    {
     "name": "stdout",
     "output_type": "stream",
     "text": [
      "0.000765\n",
      "0.000000\n"
     ]
    }
   ],
   "source": [
    "ab = np.mean(table_9_b['a'])\n",
    "deltaab = '{:.6f}'.format(5*(np.std(table_9_b['a'])))\n",
    "print(deltaab)\n",
    "ac = np.mean(table_9_c['a'])\n",
    "deltaac =  '{:.6f}'.format(5*(np.std(table_9_c['a'])))\n",
    "ad = np.mean(table_9_d['a'])\n",
    "deltaad ='{:.6f}'.format(5*(np.std(table_9_d['a'])))\n",
    "print(deltaad)"
   ]
  },
  {
   "cell_type": "code",
   "execution_count": 16,
   "metadata": {
    "collapsed": true
   },
   "outputs": [],
   "source": [
    "columns=['Configuração',r'$\\bar{a}$ (UA)',r'$\\sigma _{a}$ (UA)']\n",
    "index =[r'']+['Caso1']+3*[r''] + ['Caso2'] + 3*[r''] + ['Caso3'] + 2*[r'']"
   ]
  },
  {
   "cell_type": "code",
   "execution_count": 17,
   "metadata": {
    "collapsed": true
   },
   "outputs": [],
   "source": [
    "k9 = pd.DataFrame(columns = columns, index=  index)\n",
    "k9['Configuração'][0] = 'Kepler9d_d'\n",
    "k9['Configuração'][1] = 'Kepler9db_d'\n",
    "k9['Configuração'][2] = 'Kepler9dc_d'\n",
    "k9['Configuração'][3] = 'Kepler9dbc_d'"
   ]
  },
  {
   "cell_type": "code",
   "execution_count": 18,
   "metadata": {
    "collapsed": true
   },
   "outputs": [],
   "source": [
    "k9['Configuração'][4] = 'Kepler9b_b'\n",
    "k9['Configuração'][5] = 'Kepler9db_b'\n",
    "k9['Configuração'][6] = 'Kepler9bc_b'\n",
    "k9['Configuração'][7] = 'Kepler9dbc_b'"
   ]
  },
  {
   "cell_type": "code",
   "execution_count": 19,
   "metadata": {
    "collapsed": false
   },
   "outputs": [],
   "source": [
    "k9['Configuração'][8] = 'Kepler9c_c'\n",
    "k9['Configuração'][9] = 'Kepler9bc_c'\n",
    "k9['Configuração'][10] = 'Kepler9dc_c'\n",
    "k9['Configuração'][11] = 'Kepler9dbc_c'"
   ]
  },
  {
   "cell_type": "code",
   "execution_count": 20,
   "metadata": {
    "collapsed": false
   },
   "outputs": [
    {
     "data": {
      "text/html": [
       "<div>\n",
       "<table border=\"1\" class=\"dataframe\">\n",
       "  <thead>\n",
       "    <tr style=\"text-align: right;\">\n",
       "      <th></th>\n",
       "      <th>Configuração</th>\n",
       "      <th>$\\bar{a}$ (UA)</th>\n",
       "      <th>$\\sigma _{a}$ (UA)</th>\n",
       "    </tr>\n",
       "  </thead>\n",
       "  <tbody>\n",
       "    <tr>\n",
       "      <th></th>\n",
       "      <td>Kepler9d_d</td>\n",
       "      <td></td>\n",
       "      <td></td>\n",
       "    </tr>\n",
       "    <tr>\n",
       "      <th>Caso1</th>\n",
       "      <td>Kepler9db_d</td>\n",
       "      <td>0.0273</td>\n",
       "      <td>0.000000</td>\n",
       "    </tr>\n",
       "    <tr>\n",
       "      <th></th>\n",
       "      <td>Kepler9dc_d</td>\n",
       "      <td></td>\n",
       "      <td></td>\n",
       "    </tr>\n",
       "    <tr>\n",
       "      <th></th>\n",
       "      <td>Kepler9dbc_d</td>\n",
       "      <td></td>\n",
       "      <td></td>\n",
       "    </tr>\n",
       "    <tr>\n",
       "      <th></th>\n",
       "      <td>Kepler9b_b</td>\n",
       "      <td></td>\n",
       "      <td></td>\n",
       "    </tr>\n",
       "    <tr>\n",
       "      <th>Caso2</th>\n",
       "      <td>Kepler9db_b</td>\n",
       "      <td>0.141023</td>\n",
       "      <td>0.000765</td>\n",
       "    </tr>\n",
       "    <tr>\n",
       "      <th></th>\n",
       "      <td>Kepler9bc_b</td>\n",
       "      <td></td>\n",
       "      <td></td>\n",
       "    </tr>\n",
       "    <tr>\n",
       "      <th></th>\n",
       "      <td>Kepler9dbc_b</td>\n",
       "      <td></td>\n",
       "      <td></td>\n",
       "    </tr>\n",
       "    <tr>\n",
       "      <th></th>\n",
       "      <td>Kepler9c_c</td>\n",
       "      <td></td>\n",
       "      <td></td>\n",
       "    </tr>\n",
       "    <tr>\n",
       "      <th>Caso3</th>\n",
       "      <td>Kepler9bc_c</td>\n",
       "      <td>0.224033</td>\n",
       "      <td>0.002779</td>\n",
       "    </tr>\n",
       "    <tr>\n",
       "      <th></th>\n",
       "      <td>Kepler9dc_c</td>\n",
       "      <td></td>\n",
       "      <td></td>\n",
       "    </tr>\n",
       "    <tr>\n",
       "      <th></th>\n",
       "      <td>Kepler9dbc_c</td>\n",
       "      <td></td>\n",
       "      <td></td>\n",
       "    </tr>\n",
       "  </tbody>\n",
       "</table>\n",
       "</div>"
      ],
      "text/plain": [
       "       Configuração $\\bar{a}$ (UA) $\\sigma _{a}$ (UA)\n",
       "         Kepler9d_d                                  \n",
       "Caso1   Kepler9db_d         0.0273           0.000000\n",
       "        Kepler9dc_d                                  \n",
       "       Kepler9dbc_d                                  \n",
       "         Kepler9b_b                                  \n",
       "Caso2   Kepler9db_b       0.141023           0.000765\n",
       "        Kepler9bc_b                                  \n",
       "       Kepler9dbc_b                                  \n",
       "         Kepler9c_c                                  \n",
       "Caso3   Kepler9bc_c       0.224033           0.002779\n",
       "        Kepler9dc_c                                  \n",
       "       Kepler9dbc_c                                  "
      ]
     },
     "execution_count": 20,
     "metadata": {},
     "output_type": "execute_result"
    }
   ],
   "source": [
    "k9[r'$\\bar{a}$ (UA)']['Caso1'] = ad\n",
    "k9[r'$\\bar{a}$ (UA)']['Caso2'] = ab\n",
    "k9[r'$\\bar{a}$ (UA)']['Caso3'] = ac\n",
    "\n",
    "k9[r'$\\sigma _{a}$ (UA)']['Caso1'] = deltaad\n",
    "k9[r'$\\sigma _{a}$ (UA)']['Caso2'] = deltaab\n",
    "k9[r'$\\sigma _{a}$ (UA)']['Caso3'] = deltaac\n",
    "\n",
    "k9 = k9.fillna('')\n",
    "k9"
   ]
  },
  {
   "cell_type": "code",
   "execution_count": 10,
   "metadata": {
    "collapsed": false
   },
   "outputs": [],
   "source": [
    "tabkepler9 = open('k9.tex','w')\n",
    "tabkepler9.write(r'\\documentclass[13pt, a4paper]{article}''\\n')\n",
    "tabkepler9.write(r'\\usepackage[utf8]{inputenc}''\\n')\n",
    "tabkepler9.write(r'\\usepackage[portuguese]{babel}''\\n')\n",
    "tabkepler9.write(r'\\usepackage{booktabs}''\\n') \n",
    "tabkepler9.write(r'\\usepackage{adjustbox}''\\n')\n",
    "tabkepler9.write(r'\\begin{document}''\\n')\n",
    "tabkepler9.write(r'\\begin{table}[h]''\\n')\n",
    "tabkepler9.write(r'\\centering''\\n')\n",
    "tabkepler9.write(r'\\begin{adjustbox}{max width=\\textwidth}''\\n')\n",
    "tabkepler9.write(k9.to_latex(escape=False).replace(r'\\toprule',r'\\hline').replace(r'\\midrule',r'\\hline').replace(r'\\bottomrule',r'\\hline').replace(r'_',r'\\underline{\\space}'))\n",
    "tabkepler9.write(r'\\end{adjustbox}''\\n')\n",
    "tabkepler9.write(r'\\caption{um nome qualquer}''\\n')\n",
    "tabkepler9.write(r'\\end{table}''\\n')\n",
    "tabkepler9.write(r'\\end{document}''\\n')\n",
    "tabkepler9.close()"
   ]
  }
 ],
 "metadata": {
  "kernelspec": {
   "display_name": "Python 3",
   "language": "python",
   "name": "python3"
  },
  "language_info": {
   "codemirror_mode": {
    "name": "ipython",
    "version": 3
   },
   "file_extension": ".py",
   "mimetype": "text/x-python",
   "name": "python",
   "nbconvert_exporter": "python",
   "pygments_lexer": "ipython3",
   "version": "3.6.0"
  }
 },
 "nbformat": 4,
 "nbformat_minor": 2
}
