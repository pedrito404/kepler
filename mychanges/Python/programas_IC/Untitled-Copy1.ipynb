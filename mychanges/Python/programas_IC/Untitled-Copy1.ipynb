{
 "cells": [
  {
   "cell_type": "code",
   "execution_count": 1,
   "metadata": {
    "collapsed": true
   },
   "outputs": [],
   "source": [
    "#Output - Arquivo list mem no caminho SWIFT/example\n",
    "# encoding utf-8\n",
    "import pandas as pd\n",
    "import numpy as np\n",
    "\n",
    "filename=\"follow.out*\""
   ]
  },
  {
   "cell_type": "markdown",
   "metadata": {},
   "source": [
    "## K9 - 4 casos"
   ]
  },
  {
   "cell_type": "code",
   "execution_count": 2,
   "metadata": {
    "collapsed": true
   },
   "outputs": [],
   "source": [
    "k9b1M=!find /home/sonic/SWIFT/example/grades/k9/Em_b/out/M60 -name $filename -type d \n",
    "k9b1om=!find /home/sonic/SWIFT/example/grades/k9/Em_b/out/omega60 -name $filename -type d \n",
    "\n",
    "k9b2M=!find /home/sonic/SWIFT/example/grades/k9/Em_b/out/2M60 -name $filename -type d\n",
    "k9b2om=!find /home/sonic/SWIFT/example/grades/k9/Em_b/out/2omega60 -name $filename -type d \n",
    "\n",
    "k9b3M=!find /home/sonic/SWIFT/example/grades/k9/Em_b/out/3M60 -name $filename -type d\n",
    "k9b3om=!find /home/sonic/SWIFT/example/grades/k9/Em_b/out/3omega60 -name $filename -type d \n",
    "\n",
    "k9b4M=!find /home/sonic/SWIFT/example/grades/k9/Em_b/out/4M60 -name $filename -type d\n",
    "k9b4om=!find /home/sonic/SWIFT/example/grades/k9/Em_b/out/4omega60 -name $filename -type d \n",
    "\n",
    "k9c1M=!find /home/sonic/SWIFT/example/grades/k9/Em_c/out/M60 -name $filename -type d\n",
    "k9c1om=!find /home/sonic/SWIFT/example/grades/k9/Em_c/out/omega60 -name $filename -type d \n",
    "\n",
    "k9c2M=!find /home/sonic/SWIFT/example/grades/k9/Em_c/out/2M60 -name $filename -type d\n",
    "k9c2om=!find /home/sonic/SWIFT/example/grades/k9/Em_c/out/2omega60 -name $filename -type d \n",
    "\n",
    "k9c3M=!find /home/sonic/SWIFT/example/grades/k9/Em_c/out/3M60 -name $filename -type d\n",
    "k9c3om=!find /home/sonic/SWIFT/example/grades/k9/Em_c/out/3omega60 -name $filename -type d \n",
    "\n",
    "k9c4M=!find /home/sonic/SWIFT/example/grades/k9/Em_c/out/4M60 -name $filename -type d\n",
    "k9c4om=!find /home/sonic/SWIFT/example/grades/k9/Em_c/out/4omega60 -name $filename -type d \n",
    "\n",
    "k9d1M=!find /home/sonic/SWIFT/example/grades/k9/Em_d/out/M60 -name $filename -type d\n",
    "k9d1om=!find /home/sonic/SWIFT/example/grades/k9/Em_d/out/omega60 -name $filename -type d \n",
    "\n",
    "k9d2M=!find /home/sonic/SWIFT/example/grades/k9/Em_d/out/2M60 -name $filename -type d\n",
    "k9d2om=!find /home/sonic/SWIFT/example/grades/k9/Em_d/out/2omega60 -name $filename -type d \n",
    "\n",
    "k9d3M=!find /home/sonic/SWIFT/example/grades/k9/Em_d/out/3M60 -name $filename -type d\n",
    "k9d3om=!find /home/sonic/SWIFT/example/grades/k9/Em_d/out/3omega60 -name $filename -type d \n",
    "\n",
    "k9d4M=!find /home/sonic/SWIFT/example/grades/k9/Em_d/out/4M60 -name $filename -type d\n",
    "k9d4om=!find /home/sonic/SWIFT/example/grades/k9/Em_d/out/4omega60 -name $filename -type d "
   ]
  },
  {
   "cell_type": "markdown",
   "metadata": {},
   "source": [
    "## K56 - Modelo 1 - 4 casos"
   ]
  },
  {
   "cell_type": "code",
   "execution_count": 3,
   "metadata": {
    "collapsed": true
   },
   "outputs": [],
   "source": [
    "k56b1M=!find /home/sonic/SWIFT/example/grades/k56_mod1/Em_b/out/M60 -name $filename -type d\n",
    "k56b1om=!find /home/sonic/SWIFT/example/grades/k56_mod1/Em_b/out/omega60 -name $filename -type d \n",
    "\n",
    "k56b2M=!find /home/sonic/SWIFT/example/grades/k56_mod1/Em_b/out/2M60 -name $filename -type d\n",
    "k56b2om=!find /home/sonic/SWIFT/example/grades/k56_mod1/Em_b/out/2omega60 -name $filename -type d \n",
    "\n",
    "k56b3M=!find /home/sonic/SWIFT/example/grades/k56_mod1/Em_b/out/3M60 -name $filename -type d\n",
    "k56b3om=!find /home/sonic/SWIFT/example/grades/k56_mod1/Em_b/out/3omega60 -name $filename -type d \n",
    "\n",
    "k56b4M=!find /home/sonic/SWIFT/example/grades/k56_mod1/Em_b/out/4M60 -name $filename -type d\n",
    "k56b4om=!find /home/sonic/SWIFT/example/grades/k56_mod1/Em_b/out/4omega60 -name $filename -type d \n",
    "\n",
    "k56c1M=!find /home/sonic/SWIFT/example/grades/k56_mod1/Em_c/out/M60 -name $filename -type d\n",
    "k56c1om=!find /home/sonic/SWIFT/example/grades/k56_mod1/Em_c/out/omega60 -name $filename -type d \n",
    "\n",
    "k56c2M=!find /home/sonic/SWIFT/example/grades/k56_mod1/Em_c/out/2M60 -name $filename -type d\n",
    "k56c2om=!find /home/sonic/SWIFT/example/grades/k56_mod1/Em_c/out/2omega60 -name $filename -type d \n",
    "\n",
    "k56c3M=!find /home/sonic/SWIFT/example/grades/k56_mod1/Em_c/out/3M60 -name $filename -type d\n",
    "k56c3om=!find /home/sonic/SWIFT/example/grades/k56_mod1/Em_c/out/3omega60 -name $filename -type d \n",
    "\n",
    "k56c4M=!find /home/sonic/SWIFT/example/grades/k56_mod1/Em_c/out/4M60 -name $filename -type d\n",
    "k56c4om=!find /home/sonic/SWIFT/example/grades/k56_mod1/Em_c/out/4omega60 -name $filename -type d \n",
    "\n",
    "k56d1M=!find /home/sonic/SWIFT/example/grades/k56_mod1/Em_d/out/M60 -name $filename -type d\n",
    "k56d1om=!find /home/sonic/SWIFT/example/grades/k56_mod1/Em_d/out/omega60 -name $filename -type d \n",
    "\n",
    "k56d2M=!find /home/sonic/SWIFT/example/grades/k56_mod1/Em_d/out/2M60 -name $filename -type d\n",
    "k56d2om=!find /home/sonic/SWIFT/example/grades/k56_mod1/Em_d/out/2omega60 -name $filename -type d \n",
    "\n",
    "k56d3M=!find /home/sonic/SWIFT/example/grades/k56_mod1/Em_d/out/3M60 -name $filename -type d\n",
    "k56d3om=!find /home/sonic/SWIFT/example/grades/k56_mod1/Em_d/out/3omega60 -name $filename -type d \n",
    "\n",
    "k56d4M=!find /home/sonic/SWIFT/example/grades/k56_mod1/Em_d/out/4M60 -name $filename -type d\n",
    "k56d4om=!find /home/sonic/SWIFT/example/grades/k56_mod1/Em_d/out/4omega60 -name $filename -type d  "
   ]
  },
  {
   "cell_type": "markdown",
   "metadata": {},
   "source": [
    "## K56 - modelo 2 - 4 casos"
   ]
  },
  {
   "cell_type": "code",
   "execution_count": 4,
   "metadata": {
    "collapsed": true
   },
   "outputs": [],
   "source": [
    "k56b1M2=!find /home/sonic/SWIFT/example/grades/k56_mod2/Em_b/out/M60 -name $filename -type d\n",
    "k56b1om2=!find /home/sonic/SWIFT/example/grades/k56_mod2/Em_b/out/omega60 -name $filename -type d \n",
    "\n",
    "k56b2M2=!find /home/sonic/SWIFT/example/grades/k56_mod2/Em_b/out/2M60 -name $filename -type d\n",
    "k56b2om2=!find /home/sonic/SWIFT/example/grades/k56_mod2/Em_b/out/2omega60 -name $filename -type d \n",
    "\n",
    "k56b3M2=!find /home/sonic/SWIFT/example/grades/k56_mod2/Em_b/out/3M60 -name $filename -type d\n",
    "k56b3om2=!find /home/sonic/SWIFT/example/grades/k56_mod2/Em_b/out/3omega60 -name $filename -type d \n",
    "\n",
    "k56b4M2=!find /home/sonic/SWIFT/example/grades/k56_mod2/Em_b/out/4M60 -name $filename -type d\n",
    "k56b4om2=!find /home/sonic/SWIFT/example/grades/k56_mod2/Em_b/out/4omega60 -name $filename -type d \n",
    "\n",
    "k56c1M2=!find /home/sonic/SWIFT/example/grades/k56_mod2/Em_c/out/M60 -name $filename -type d\n",
    "k56c1om2=!find /home/sonic/SWIFT/example/grades/k56_mod2/Em_c/out/omega60 -name $filename -type d \n",
    "\n",
    "k56c2M2=!find /home/sonic/SWIFT/example/grades/k56_mod2/Em_c/out/2M60 -name $filename -type d\n",
    "k56c2om2=!find /home/sonic/SWIFT/example/grades/k56_mod2/Em_c/out/2omega60 -name $filename -type d \n",
    "\n",
    "k56c3M2=!find /home/sonic/SWIFT/example/grades/k56_mod2/Em_c/out/3M60 -name $filename -type d\n",
    "k56c3om2=!find /home/sonic/SWIFT/example/grades/k56_mod2/Em_c/out/3omega60 -name $filename -type d \n",
    "\n",
    "k56c4M2=!find /home/sonic/SWIFT/example/grades/k56_mod2/Em_c/out/4M60 -name $filename -type d\n",
    "k56c4om2=!find /home/sonic/SWIFT/example/grades/k56_mod2/Em_c/out/4omega60 -name $filename -type d \n",
    "\n",
    "k56d1M2=!find /home/sonic/SWIFT/example/grades/k56_mod2/Em_d/out/M60 -name $filename -type d\n",
    "k56d1om2=!find /home/sonic/SWIFT/example/grades/k56_mod2/Em_d/out/omega60 -name $filename -type d \n",
    "\n",
    "k56d2M2=!find /home/sonic/SWIFT/example/grades/k56_mod2/Em_d/out/2M60 -name $filename -type d\n",
    "k56d2om2=!find /home/sonic/SWIFT/example/grades/k56_mod2/Em_d/out/2omega60 -name $filename -type d \n",
    "\n",
    "k56d3M2=!find /home/sonic/SWIFT/example/grades/k56_mod2/Em_d/out/3M60 -name $filename -type d\n",
    "k56d3om2=!find /home/sonic/SWIFT/example/grades/k56_mod2/Em_d/out/3omega60 -name $filename -type d \n",
    "\n",
    "k56d4M2=!find /home/sonic/SWIFT/example/grades/k56_mod2/Em_d/out/4M60 -name $filename -type d\n",
    "k56d4om2=!find /home/sonic/SWIFT/example/grades/k56_mod2/Em_d/out/4omega60 -name $filename -type d  "
   ]
  },
  {
   "cell_type": "code",
   "execution_count": 5,
   "metadata": {
    "collapsed": false
   },
   "outputs": [],
   "source": [
    "real = [k9b1M,k9b1om,k9b2M,k9b2om,k9b3M,k9b3om,k9b4M,k9b4om,k9c1M,k9c1om,k9c2M,k9c2om,k9c3M,k9c3om,k9c4M,k9c4om,k9d1M,k9d1om,k9d2M,k9d2om,k9d3M,k9d3om,k9d4M,k9d4om,k56b1M,k56b1om,k56b2M,k56b2om,k56b3M,k56b3om,k56b4M,k56b4om,k56c1M,k56c1om,k56c2M,k56c2om,k56c3M,k56c3om,k56c4M,k56c4om,k56d1M,k56d1om,k56d2M,k56d2om,k56d3M,k56d3om,k56d4M,k56d4om,k56b1M2,k56b1om2,k56b2M2,k56b2om2,k56b3M2,k56b3om2,k56b4M2,k56b4om2,k56c1M2,k56c1om2,k56c2M2,k56c2om2,k56c3M2,k56c3om2,k56c4M2,k56c4om2,k56d1M2,k56d1om2,k56d2M2,k56d2om2,k56d3M2,k56d3om2,k56d4M2,k56d4om2]\n",
    "realstr = ['k9b1M','k9b1om','k9b2M','k9b2om','k9b3M','k9b3om','k9b4M','k9b4om','k9c1M','k9c1om','k9c2M','k9c2om','k9c3M','k9c3om','k9c4M','k9c4om','k9d1M','k9d1om','k9d2M','k9d2om','k9d3M','k9d3om','k9d4M','k9d4om','k56b1M','k56b1om','k56b2M','k56b2om','k56b3M','k56b3om','k56b4M','k56b4om','k56c1M','k56c1om','k56c2M','k56c2om','k56c3M','k56c3om','k56c4M','k56c4om','k56d1M','k56d1om','k56d2M','k56d2om','k56d3M','k56d3om','k56d4M','k56d4om','k56b1M2','k56b1om2','k56b2M2','k56b2om2','k56b3M2','k56b3om2','k56b4M2','k56b4om2','k56c1M2','k56c1om2','k56c2M2','k56c2om2','k56c3M2','k56c3om2','k56c4M2','k56c4om2','k56d1M2','k56d1om2','k56d2M2','k56d2om2','k56d3M2','k56d3om2','k56d4M2','k56d4om2']"
   ]
  },
  {
   "cell_type": "code",
   "execution_count": 6,
   "metadata": {
    "collapsed": false
   },
   "outputs": [],
   "source": [
    "k=0\n",
    "for j in real:\n",
    "    caminho=[]\n",
    "    t_final=[]\n",
    "    a_inicio=[]\n",
    "    e_inicio=[]\n",
    "    e_max=[]\n",
    "    stde=[]\n",
    "    stda=[]\n",
    "    columns=['Caminho','Tempo_Final','Semi-ini','Exc_ini','E_max','Desvio_a','Desvio_e']\n",
    "    for i in range(len(j)):\n",
    "        semi=[]\n",
    "        exc=[]\n",
    "        #print(j[i])\n",
    "        c = pd.read_csv(j[i],delim_whitespace=True,header =None,engine='c')\n",
    "        c = c.replace('^\\*+$','0.0',regex=True)\n",
    "        c[0] = pd.to_numeric(c[0], downcast='float')\n",
    "        c[1] = pd.to_numeric(c[1], downcast='float')\n",
    "        c[2] = pd.to_numeric(c[2], downcast='float')\n",
    "#        c = pd.read_csv('/home/sonic/SWIFT/example/grades/k9/Em_b/out/omega60/troiano098/follow.out',delim_whitespace=True,header =None,engine='c')\n",
    "#         c[1] = c[1].replace('^\\*+$',np.nan,regex=True)\n",
    "#         c[1] = np.nan_to_num(c[1])\n",
    "#         c[2] = c[2].replace('^\\*+$',np.nan,regex=True)\n",
    "#         c[2] = np.nan_to_num(c[2])      \n",
    "        caminho.append(j[i].split('/')[6:])\n",
    "        t_final.append(c[0][len(c[0])-1])\n",
    "        a_inicio.append(c[1][0])        \n",
    "        e_inicio.append(\"{:.1f}\".format(c[2][0]))\n",
    "        e_max.append(\"{:.2f}\".format(max(c[2])))\n",
    "        stda.append(\"{:.5f}\".format(np.std(c[1],ddof=1)))\n",
    "        stde.append(\"{:.5f}\".format(np.std(c[2],ddof=1)))\n",
    "   \n",
    "#        semi = [float(c[1][l]) for l in range(len(c[1]))]\n",
    "#        semi.remove(np.nan)\n",
    "#        exc = [float(c[2][l]) for l in range(len(c[2]))]\n",
    "#        exc.remove(np.nan)\n",
    "    df3 = pd.DataFrame(columns=columns)\n",
    "    df3['Caminho']=caminho\n",
    "    df3['Tempo_Final']= t_final\n",
    "    df3['Semi-ini']=a_inicio\n",
    "    df3['Exc_ini']= e_inicio\n",
    "    df3['E_max']=e_max\n",
    "    df3['Desvio_a']=stda\n",
    "    df3['Desvio_e']=stde\n",
    "\n",
    "\n",
    "    df3.to_csv('./mapas_de_cor/'+realstr[k]+'.txt')\n",
    "    k=k+1"
   ]
  },
  {
   "cell_type": "code",
   "execution_count": 1,
   "metadata": {
    "collapsed": true
   },
   "outputs": [],
   "source": [
    "s= '/home/sonic/SWIFT/example/grades/k9/Em_b/out/M60/troiano084/follow.out'"
   ]
  },
  {
   "cell_type": "code",
   "execution_count": null,
   "metadata": {
    "collapsed": false
   },
   "outputs": [],
   "source": []
  },
  {
   "cell_type": "code",
   "execution_count": null,
   "metadata": {
    "collapsed": true
   },
   "outputs": [],
   "source": []
  }
 ],
 "metadata": {
  "kernelspec": {
   "display_name": "Python 3",
   "language": "python",
   "name": "python3"
  },
  "language_info": {
   "codemirror_mode": {
    "name": "ipython",
    "version": 3
   },
   "file_extension": ".py",
   "mimetype": "text/x-python",
   "name": "python",
   "nbconvert_exporter": "python",
   "pygments_lexer": "ipython3",
   "version": "3.6.0"
  }
 },
 "nbformat": 4,
 "nbformat_minor": 2
}
