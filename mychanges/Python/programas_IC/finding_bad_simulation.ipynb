{
 "cells": [
  {
   "cell_type": "code",
   "execution_count": 1,
   "metadata": {
    "collapsed": true
   },
   "outputs": [],
   "source": [
    "#Output - Arquivo list mem no caminho SWIFT/example\n",
    "# encoding utf-8\n",
    "import pandas as pd\n",
    "import os\n",
    "import matplotlib.pyplot as plt\n",
    "import numpy as np"
   ]
  },
  {
   "cell_type": "code",
   "execution_count": 2,
   "metadata": {},
   "outputs": [],
   "source": [
    "# filename=\"troiano*\"\t\n",
    "\n",
    "# k9b1=!find /home/sonic/SWIFT/example/grades/k9/Em_b/out/M60 -name $filename -type d && find /home/sonic/SWIFT/example/grades/k9/Em_b/out/omega60 -name $filename -type d \n",
    "# k9b2=!find /home/sonic/SWIFT/example/grades/k9/Em_b/out/2M60 -name $filename -type d && find /home/sonic/SWIFT/example/grades/k9/Em_b/out/2omega60 -name $filename -type d \n",
    "# k9b3=!find /home/sonic/SWIFT/example/grades/k9/Em_b/out/3M60 -name $filename -type d && find /home/sonic/SWIFT/example/grades/k9/Em_b/out/3omega60 -name $filename -type d \n",
    "# k9b4=!find /home/sonic/SWIFT/example/grades/k9/Em_b/out/4M60 -name $filename -type d && find /home/sonic/SWIFT/example/grades/k9/Em_b/out/4omega60 -name $filename -type d \n",
    "\n",
    "# k9c1=!find /home/sonic/SWIFT/example/grades/k9/Em_c/out/M60 -name $filename -type d && find /home/sonic/SWIFT/example/grades/k9/Em_c/out/omega60 -name $filename -type d \n",
    "# k9c2=!find /home/sonic/SWIFT/example/grades/k9/Em_c/out/2M60 -name $filename -type d && find /home/sonic/SWIFT/example/grades/k9/Em_c/out/2omega60 -name $filename -type d \n",
    "# k9c3=!find /home/sonic/SWIFT/example/grades/k9/Em_c/out/3M60 -name $filename -type d && find /home/sonic/SWIFT/example/grades/k9/Em_c/out/3omega60 -name $filename -type d \n",
    "# k9c4=!find /home/sonic/SWIFT/example/grades/k9/Em_c/out/4M60 -name $filename -type d && find /home/sonic/SWIFT/example/grades/k9/Em_c/out/4omega60 -name $filename -type d \n",
    "\n",
    "# k9d1=!find /home/sonic/SWIFT/example/grades/k9/Em_d/out/M60 -name $filename -type d && find /home/sonic/SWIFT/example/grades/k9/Em_d/out/omega60 -name $filename -type d \n",
    "# k9d2=!find /home/sonic/SWIFT/example/grades/k9/Em_d/out/2M60 -name $filename -type d && find /home/sonic/SWIFT/example/grades/k9/Em_d/out/2omega60 -name $filename -type d \n",
    "# k9d3=!find /home/sonic/SWIFT/example/grades/k9/Em_d/out/3M60 -name $filename -type d && find /home/sonic/SWIFT/example/grades/k9/Em_d/out/3omega60 -name $filename -type d \n",
    "# k9d4=!find /home/sonic/SWIFT/example/grades/k9/Em_d/out/4M60 -name $filename -type d && find /home/sonic/SWIFT/example/grades/k9/Em_d/out/4omega60 -name $filename -type d \n",
    "\n",
    "# k56b1=!find /home/sonic/SWIFT/example/grades/k56*/Em_b/out/M60 -name $filename -type d && find /home/sonic/SWIFT/example/grades/k56*/Em_b/out/omega60 -name $filename -type d \n",
    "# k56b2=!find /home/sonic/SWIFT/example/grades/k56*/Em_b/out/2M60 -name $filename -type d && find /home/sonic/SWIFT/example/grades/k56*/Em_b/out/2omega60 -name $filename -type d \n",
    "# k56b3=!find /home/sonic/SWIFT/example/grades/k56*/Em_b/out/3M60 -name $filename -type d && find /home/sonic/SWIFT/example/grades/k56*/Em_b/out/3omega60 -name $filename -type d \n",
    "# k56b4=!find /home/sonic/SWIFT/example/grades/k56*/Em_b/out/4M60 -name $filename -type d && find /home/sonic/SWIFT/example/grades/k56*/Em_b/out/4omega60 -name $filename -type d \n",
    "\n",
    "# k56c1=!find /home/sonic/SWIFT/example/grades/k56*/Em_c/out/M60 -name $filename -type d && find /home/sonic/SWIFT/example/grades/k56*/Em_c/out/omega60 -name $filename -type d \n",
    "# k56c2=!find /home/sonic/SWIFT/example/grades/k56*/Em_c/out/2M60 -name $filename -type d && find /home/sonic/SWIFT/example/grades/k56*/Em_c/out/2omega60 -name $filename -type d \n",
    "# k56c3=!find /home/sonic/SWIFT/example/grades/k56*/Em_c/out/3M60 -name $filename -type d && find /home/sonic/SWIFT/example/grades/k56*/Em_c/out/3omega60 -name $filename -type d \n",
    "# k56c4=!find /home/sonic/SWIFT/example/grades/k56*/Em_c/out/4M60 -name $filename -type d && find /home/sonic/SWIFT/example/grades/k56*/Em_c/out/4omega60 -name $filename -type d \n",
    "\n",
    "# k56d1=!find /home/sonic/SWIFT/example/grades/k56*/Em_d/out/M60 -name $filename -type d && find /home/sonic/SWIFT/example/grades/k56*/Em_d/out/omega60 -name $filename -type d \n",
    "# k56d2=!find /home/sonic/SWIFT/example/grades/k56*/Em_d/out/2M60 -name $filename -type d && find /home/sonic/SWIFT/example/grades/k56*/Em_d/out/2omega60 -name $filename -type d \n",
    "# k56d3=!find /home/sonic/SWIFT/example/grades/k56*/Em_d/out/3M60 -name $filename -type d && find /home/sonic/SWIFT/example/grades/k56*/Em_d/out/3omega60 -name $filename -type d \n",
    "# k56d4=!find /home/sonic/SWIFT/example/grades/k56*/Em_d/out/4M60 -name $filename -type d && find /home/sonic/SWIFT/example/grades/k56*/Em_d/out/4omega60 -name $filename -type d  "
   ]
  },
  {
   "cell_type": "code",
   "execution_count": 3,
   "metadata": {},
   "outputs": [],
   "source": [
    "#k9b1\n"
   ]
  },
  {
   "cell_type": "code",
   "execution_count": 4,
   "metadata": {},
   "outputs": [],
   "source": [
    "# real = [k9b1,k9b2,k9b3,k9b4,k9c1,k9c2,k9c3,k9c4,k9d1,k9d2,k9d3,k9d4,k56b1,k56b2,k56b3,k56b4,k56c1,k56c2,k56c3,k56c4,k56d1,k56d2,k56d3,k56d4]\n",
    "# realstr = ['k9b1','k9b2','k9b3','k9b4','k9c1','k9c2','k9c3','k9c4','k9d1','k9d2','k9d3','k9d4','k56b1','k56b2','k56b3','k56b4','k56c1','k56c2','k56c3','k56c4','k56d1','k56d2','k56d3','k56d4']\n"
   ]
  },
  {
   "cell_type": "code",
   "execution_count": 5,
   "metadata": {
    "scrolled": false
   },
   "outputs": [],
   "source": [
    "\n",
    "# for r in range(len(real)):\n",
    "#     print(realstr[r])\n",
    "#     caminho=[]\n",
    "#     time=[]\n",
    "#     fracao=[]\n",
    "#     fugiu=[]\n",
    "#     tempo_fugiu=[]\n",
    "#     for i in real[r]:\n",
    "# #         print(i)\n",
    "#         arq_screen = open(i+'/screen.out','r')\n",
    "#         arq_screen_splitlines = arq_screen.read().splitlines()\n",
    "#         arq_screen_last = arq_screen_splitlines[-1].split()\n",
    "#         caminho.append(i)\n",
    "#         if arq_screen_last[0] == 'Time':\n",
    "#             time.append(arq_screen_last[2])\n",
    "#             fracao.append(arq_screen_last[6])\n",
    "#             arq_disc = open(i+'/discard_mass.out','r')\n",
    "#             arq_disc_splitlines = arq_disc.read().splitlines()\n",
    "#             if len(arq_disc_splitlines)!= 0:\n",
    "#                 arq_disc_last = arq_disc_splitlines[0].split()\n",
    "#                 fugiu.append('Sim')\n",
    "#                 tempo_fugiu.append(arq_disc_last[0])\n",
    "#             else:\n",
    "#                 fugiu.append('Nao')\n",
    "#                 tempo_fugiu.append('---')\n",
    "#         else:\n",
    "#             time.append('correto')\n",
    "#             fracao.append('correto')\n",
    "#             fugiu.append('correto')\n",
    "#             tempo_fugiu.append('correto')\n",
    "#     columns=['Caminho','Tempo_Final','Fração_término','Descarte','Tempo_descarte']\n",
    "#     df2 = pd.DataFrame(columns=columns)\n",
    "#     df2['Caminho']=caminho\n",
    "#     df2['Tempo_Final']= time\n",
    "#     df2['Fração_término']= fracao\n",
    "#     df2['Descarte']= fugiu\n",
    "#     df2['Tempo_descarte']=tempo_fugiu\n",
    "#     df2.to_csv('./diagnostico/'+realstr[r]+'.txt')"
   ]
  },
  {
   "cell_type": "code",
   "execution_count": 6,
   "metadata": {
    "scrolled": false
   },
   "outputs": [],
   "source": [
    "# #agora só simulacao sem discard e que nao completa\n",
    "\n",
    "# for s in range(len(real)):\n",
    "#     caminho2=[]\n",
    "#     time2=[]\n",
    "#     fracao2=[]\n",
    "#     print(s)\n",
    "#     for j in real[s]:\n",
    "#         arq_screen2 = open(j+'/screen.out','r')\n",
    "#         arq_screen_splitlines2 = arq_screen2.read().splitlines()\n",
    "#         arq_screen_last2 = arq_screen_splitlines2[-1].split()\n",
    "#         if arq_screen_last2[0] == 'Time':\n",
    "#             arq_disc2 = open(j+'/discard_mass.out','r')\n",
    "#             arq_disc_splitlines2 = arq_disc2.read().splitlines()\n",
    "#             if len(arq_disc_splitlines2) == 0:\n",
    "#                 caminho2.append(j)\n",
    "#                 time2.append(arq_screen_last2[2])\n",
    "#                 fracao2.append(arq_screen_last2[6])\n",
    "#     columns2=['Caminho','Tempo_Final','Fração_término']\n",
    "#     df3 = pd.DataFrame(columns=columns2)\n",
    "#     df3['Caminho']=caminho2\n",
    "#     df3['Tempo_Final']= time2\n",
    "#     df3['Fração_término']= fracao2\n",
    "#     df3.to_csv('./diagnostico_erro/'+realstr[s]+'.txt')"
   ]
  },
  {
   "cell_type": "code",
   "execution_count": null,
   "metadata": {
    "collapsed": true
   },
   "outputs": [],
   "source": []
  },
  {
   "cell_type": "code",
   "execution_count": 7,
   "metadata": {},
   "outputs": [],
   "source": [
    "# #agora só simulacao que nao completa !!!! so no screen.out\n",
    "\n",
    "# for t in range(len(real)):\n",
    "#     caminho3=[]\n",
    "#     time3=[]\n",
    "#     fracao3=[]\n",
    "#     print(t)\n",
    "#     for k in real[t]:\n",
    "#         arq_screen3 = open(k+'/screen.out','r')\n",
    "#         arq_screen_splitlines3 = arq_screen3.read().splitlines()\n",
    "#         arq_screen_last3 = arq_screen_splitlines3[-1].split()\n",
    "#         if arq_screen_last3[0] == 'Time':\n",
    "#             caminho3.append(j)\n",
    "#             time3.append(arq_screen_last3[2])\n",
    "#             fracao3.append(arq_screen_last3[6])\n",
    "#     columns3=['Caminho','Tempo_Final','Fração_término']\n",
    "#     df4 = pd.DataFrame(columns=columns3)\n",
    "#     df4['Caminho']=caminho3\n",
    "#     df4['Tempo_Final']= time3\n",
    "#     df4['Fração_término']= fracao3\n",
    "#     df4.to_csv('./diagnostico_erro_onlyscreen/'+realstr[t]+'.txt')"
   ]
  },
  {
   "cell_type": "markdown",
   "metadata": {},
   "source": [
    "# EXEMPLO"
   ]
  },
  {
   "cell_type": "code",
   "execution_count": 8,
   "metadata": {
    "collapsed": true
   },
   "outputs": [],
   "source": [
    "# correto = \"/home/sonic/SWIFT/example/grades/k56_mod2/Em_d/out/M60/troiano098/\"\n",
    "# errado_com_disc = \"/home/sonic/SWIFT/example/grades/k9/Em_b/out/2M60/troiano052/\"\n",
    "# errado_sem_disc=\"/home/sonic/SWIFT/example/grades/k9/Em_d/out/M60/troiano023/\"\n",
    "# exemplo = [correto,errado_com_disc,errado_sem_disc]"
   ]
  },
  {
   "cell_type": "markdown",
   "metadata": {},
   "source": [
    "## Correto não fugiu"
   ]
  },
  {
   "cell_type": "code",
   "execution_count": 9,
   "metadata": {},
   "outputs": [],
   "source": [
    "# disc_cor = open(correto+'discard_mass.out','r')\n",
    "# disc_cor.read().splitlines()"
   ]
  },
  {
   "cell_type": "code",
   "execution_count": 10,
   "metadata": {},
   "outputs": [],
   "source": [
    "# screen_cor = open(correto+'screen.out','r')\n",
    "# a = screen_cor.read().splitlines()\n",
    "# a_a=a[-1].split()\n",
    "# a_a\n",
    "# if a_a[0] == \"Time\":\n",
    "#     print('showzera')\n",
    "# print(a_a[0])"
   ]
  },
  {
   "cell_type": "markdown",
   "metadata": {},
   "source": [
    "## Errado que fugiu"
   ]
  },
  {
   "cell_type": "code",
   "execution_count": 11,
   "metadata": {},
   "outputs": [],
   "source": [
    "# disc_fugiu = open(errado_com_disc+'discard_mass.out','r')\n",
    "# f = disc_fugiu.read().splitlines()\n",
    "# f"
   ]
  },
  {
   "cell_type": "code",
   "execution_count": 12,
   "metadata": {},
   "outputs": [],
   "source": [
    "# screen_fugiu = open(errado_com_disc+'screen.out','r')\n",
    "# b = screen_fugiu.read().splitlines()\n",
    "# b_b=b[-1].split()\n",
    "# b_b\n",
    "# # if b_b[0] == \"Time\":\n",
    "# #     print('showzera')\n",
    "# print(b_b)"
   ]
  },
  {
   "cell_type": "markdown",
   "metadata": {},
   "source": [
    "## Errado que nao fugiu"
   ]
  },
  {
   "cell_type": "code",
   "execution_count": 13,
   "metadata": {},
   "outputs": [],
   "source": [
    "# disc_nao_fugiu = open(errado_sem_disc+'discard_mass.out','r')\n",
    "# g = disc_nao_fugiu.read().splitlines()\n",
    "# len(g)"
   ]
  },
  {
   "cell_type": "code",
   "execution_count": 14,
   "metadata": {},
   "outputs": [],
   "source": [
    "# screen_nao_fugiu = open(errado_sem_disc+'screen.out','r')\n",
    "# c = screen_nao_fugiu.read().splitlines()\n",
    "# c_c=c[-1].split()\n",
    "# c_c\n",
    "# #if c_c[0] == \"Time\":\n",
    "# #    print('showzera')\n"
   ]
  },
  {
   "cell_type": "code",
   "execution_count": 15,
   "metadata": {
    "scrolled": true
   },
   "outputs": [],
   "source": [
    "# caminho=[]\n",
    "# time=[]\n",
    "# fracao=[]\n",
    "# fugiu=[]\n",
    "# tempo_fugiu=[]\n",
    "# for i in exemplo:\n",
    "#     arq_screen = open(i+'screen.out','r')\n",
    "#     arq_screen_splitlines = arq_screen.read().splitlines()\n",
    "#     arq_screen_last = arq_screen_splitlines[-1].split()\n",
    "#     print(i)\n",
    "#     caminho.append(i)\n",
    "#     if arq_screen_last[0] == 'Time':\n",
    "#         time.append(arq_screen_last[2])\n",
    "#         fracao.append(arq_screen_last[6])\n",
    "#         arq_disc = open(i+'discard_mass.out','r')\n",
    "#         arq_disc_splitlines = arq_disc.read().splitlines()\n",
    "#         if len(arq_disc_splitlines)!= 0:\n",
    "#             arq_disc_last = arq_disc_splitlines[0].split()\n",
    "        \n",
    "#             fugiu.append('Sim')\n",
    "#             tempo_fugiu.append(arq_disc_last[0])\n",
    "#         else:\n",
    "#             fugiu.append('Nao')\n",
    "#             tempo_fugiu.append('---')\n",
    "#     else:\n",
    "#         time.append('correto')\n",
    "#         fracao.append('correto')\n",
    "#         fugiu.append('correto')\n",
    "#         tempo_fugiu.append('correto')\n",
    "# columns=['Caminho','Tempo_Final','Fração_término','Descarte','Tempo_descarte']\n",
    "# df1 = pd.DataFrame(columns=columns)\n",
    "# df1['Caminho']=caminho\n",
    "# df1['Tempo_Final']= time\n",
    "# df1['Fração_término']= fracao\n",
    "# df1['Descarte']= fugiu\n",
    "# df1['Tempo_descarte']=tempo_fugiu"
   ]
  },
  {
   "cell_type": "code",
   "execution_count": 16,
   "metadata": {},
   "outputs": [],
   "source": [
    "# df1.to_csv('final_exemplo.txt')"
   ]
  },
  {
   "cell_type": "code",
   "execution_count": 17,
   "metadata": {},
   "outputs": [],
   "source": [
    "# ESTA PORRA ESTA DANDO PROBLEMA - NAO HA NADA EM SCREENOUT /home/sonic/SWIFT/example/grades/k56_mod1/Em_d/out/M60/troiano345\n",
    "#ESSE AQUI TA PIOR QUE OUTRO REPORTAR /home/sonic/SWIFT/example/grades/k9/Em_b/out/omega60/troiano367\n",
    "#SEM ARQUIVO SCREEN.OUT/home/sonic/SWIFT/example/grades/k9/Em_d/out/4omega60/troiano236"
   ]
  },
  {
   "cell_type": "code",
   "execution_count": 18,
   "metadata": {
    "collapsed": true
   },
   "outputs": [],
   "source": [
    "# os.chdir('diagnostico')"
   ]
  },
  {
   "cell_type": "code",
   "execution_count": 19,
   "metadata": {
    "scrolled": true
   },
   "outputs": [],
   "source": [
    "\n",
    "# dia_erro = !ls k9*.txt\n",
    "\n",
    "# dia_erro\n",
    "# fracao=[]\n",
    "# for g in dia_erro:\n",
    "#     cat = pd.read_csv(g)\n",
    "#     for h in range(len(cat['Fração_término'])):\n",
    "#         if cat['Fração_término'][h] == 'correto':\n",
    "#             fracao.append(1.)\n",
    "#         else:\n",
    "#             fracao.append(float(cat['Fração_término'][h]))\n",
    "        \n",
    "# plt.hist(fracao,bins = 40)\n",
    "# plt.title('K9')\n",
    "# plt.xlabel('Fração')\n",
    "# plt.savefig('hist_k9.pdf')\n",
    "\n",
    "\n"
   ]
  },
  {
   "cell_type": "code",
   "execution_count": 20,
   "metadata": {},
   "outputs": [],
   "source": [
    "# os.chdir(/home/sonic/SWIFT/example/diagnostico_erro)"
   ]
  },
  {
   "cell_type": "code",
   "execution_count": 21,
   "metadata": {},
   "outputs": [],
   "source": [
    "\n",
    "# dia_erro = !ls k56*.txt\n",
    "\n",
    "# dia_erro\n",
    "# fracao=[]\n",
    "# for g in dia_erro:\n",
    "#     cat = pd.read_csv(g)\n",
    "#     for h in range(len(cat['Fração_término'])):\n",
    "#         if cat['Fração_término'][h] == 'correto':\n",
    "#             fracao.append(1.)\n",
    "#         else:\n",
    "#             fracao.append(float(cat['Fração_término'][h]))\n",
    "        \n",
    "# plt.hist(fracao,bins = 40)\n",
    "# plt.title('K56')\n",
    "# plt.xlabel('Fração')\n",
    "# plt.ylim(0,50)\n",
    "# plt.savefig('hist_k56_ate_50.pdf')\n",
    "\n",
    "# plt.ylim(0,20000)\n",
    "# plt.savefig('hist_k56_total.pdf')\n",
    "\n"
   ]
  }
 ],
 "metadata": {
  "kernelspec": {
   "display_name": "Python 3",
   "language": "python",
   "name": "python3"
  },
  "language_info": {
   "codemirror_mode": {
    "name": "ipython",
    "version": 3
   },
   "file_extension": ".py",
   "mimetype": "text/x-python",
   "name": "python",
   "nbconvert_exporter": "python",
   "pygments_lexer": "ipython3",
   "version": "3.6.4"
  }
 },
 "nbformat": 4,
 "nbformat_minor": 2
}
