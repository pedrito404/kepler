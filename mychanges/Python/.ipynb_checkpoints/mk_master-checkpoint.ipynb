{
 "cells": [
  {
   "cell_type": "code",
   "execution_count": 1,
   "metadata": {},
   "outputs": [
    {
     "name": "stderr",
     "output_type": "stream",
     "text": [
      "/home/sonic/anaconda3/envs/iraf27/lib/python2.7/site-packages/pyfits/__init__.py:22: PyFITSDeprecationWarning: PyFITS is deprecated, please use astropy.io.fits\n",
      "  PyFITSDeprecationWarning)  # noqa\n"
     ]
    }
   ],
   "source": [
    "#this program will combine images to make a master frame\n",
    "\n",
    "#if you use this code, please cite Oelkers & Stassun 2018\n",
    "\n",
    "#import the relevant libraries for basic tools\n",
    "import pyfits\n",
    "import numpy as np\n",
    "import scipy\n",
    "from scipy import stats\n",
    "from os import path\n",
    "import math\n",
    "import time\n",
    "\n",
    "#import relevant libraries for a list\n",
    "import glob, os\n",
    "from os import listdir\n",
    "from os.path import isfile, join, exists"
   ]
  },
  {
   "cell_type": "code",
   "execution_count": 2,
   "metadata": {},
   "outputs": [
    {
     "ename": "IOError",
     "evalue": "[Errno 2] No such file or directory: '/home/oelkerrj/FFI/code/master/images.dat'",
     "output_type": "error",
     "traceback": [
      "\u001b[0;31m---------------------------------------------------------------------------\u001b[0m",
      "\u001b[0;31mIOError\u001b[0m                                   Traceback (most recent call last)",
      "\u001b[0;32m<ipython-input-2-8cb01a47ae05>\u001b[0m in \u001b[0;36m<module>\u001b[0;34m()\u001b[0m\n\u001b[1;32m     13\u001b[0m \u001b[0;34m\u001b[0m\u001b[0m\n\u001b[1;32m     14\u001b[0m \u001b[0;31m#get the image list and the number of files which need reduction\u001b[0m\u001b[0;34m\u001b[0m\u001b[0;34m\u001b[0m\u001b[0m\n\u001b[0;32m---> 15\u001b[0;31m \u001b[0mfiles\u001b[0m \u001b[0;34m=\u001b[0m \u001b[0mnp\u001b[0m\u001b[0;34m.\u001b[0m\u001b[0mloadtxt\u001b[0m\u001b[0;34m(\u001b[0m\u001b[0mcdedir\u001b[0m\u001b[0;34m+\u001b[0m\u001b[0;34m'images.dat'\u001b[0m\u001b[0;34m,\u001b[0m \u001b[0mdtype\u001b[0m \u001b[0;34m=\u001b[0m \u001b[0;34m'string'\u001b[0m\u001b[0;34m,\u001b[0m \u001b[0munpack\u001b[0m \u001b[0;34m=\u001b[0m \u001b[0;36m1\u001b[0m\u001b[0;34m,\u001b[0m \u001b[0musecols\u001b[0m \u001b[0;34m=\u001b[0m \u001b[0;34m(\u001b[0m\u001b[0;36m0\u001b[0m\u001b[0;34m)\u001b[0m\u001b[0;34m)\u001b[0m\u001b[0;34m\u001b[0m\u001b[0m\n\u001b[0m\u001b[1;32m     16\u001b[0m \u001b[0mnfiles\u001b[0m \u001b[0;34m=\u001b[0m \u001b[0mlen\u001b[0m\u001b[0;34m(\u001b[0m\u001b[0mfiles\u001b[0m\u001b[0;34m)\u001b[0m\u001b[0;34m\u001b[0m\u001b[0m\n\u001b[1;32m     17\u001b[0m \u001b[0;34m\u001b[0m\u001b[0m\n",
      "\u001b[0;32m/home/sonic/anaconda3/envs/iraf27/lib/python2.7/site-packages/numpy/lib/npyio.pyc\u001b[0m in \u001b[0;36mloadtxt\u001b[0;34m(fname, dtype, comments, delimiter, converters, skiprows, usecols, unpack, ndmin)\u001b[0m\n\u001b[1;32m    894\u001b[0m                 \u001b[0mfh\u001b[0m \u001b[0;34m=\u001b[0m \u001b[0miter\u001b[0m\u001b[0;34m(\u001b[0m\u001b[0mbz2\u001b[0m\u001b[0;34m.\u001b[0m\u001b[0mBZ2File\u001b[0m\u001b[0;34m(\u001b[0m\u001b[0mfname\u001b[0m\u001b[0;34m)\u001b[0m\u001b[0;34m)\u001b[0m\u001b[0;34m\u001b[0m\u001b[0m\n\u001b[1;32m    895\u001b[0m             \u001b[0;32melif\u001b[0m \u001b[0msys\u001b[0m\u001b[0;34m.\u001b[0m\u001b[0mversion_info\u001b[0m\u001b[0;34m[\u001b[0m\u001b[0;36m0\u001b[0m\u001b[0;34m]\u001b[0m \u001b[0;34m==\u001b[0m \u001b[0;36m2\u001b[0m\u001b[0;34m:\u001b[0m\u001b[0;34m\u001b[0m\u001b[0m\n\u001b[0;32m--> 896\u001b[0;31m                 \u001b[0mfh\u001b[0m \u001b[0;34m=\u001b[0m \u001b[0miter\u001b[0m\u001b[0;34m(\u001b[0m\u001b[0mopen\u001b[0m\u001b[0;34m(\u001b[0m\u001b[0mfname\u001b[0m\u001b[0;34m,\u001b[0m \u001b[0;34m'U'\u001b[0m\u001b[0;34m)\u001b[0m\u001b[0;34m)\u001b[0m\u001b[0;34m\u001b[0m\u001b[0m\n\u001b[0m\u001b[1;32m    897\u001b[0m             \u001b[0;32melse\u001b[0m\u001b[0;34m:\u001b[0m\u001b[0;34m\u001b[0m\u001b[0m\n\u001b[1;32m    898\u001b[0m                 \u001b[0mfh\u001b[0m \u001b[0;34m=\u001b[0m \u001b[0miter\u001b[0m\u001b[0;34m(\u001b[0m\u001b[0mopen\u001b[0m\u001b[0;34m(\u001b[0m\u001b[0mfname\u001b[0m\u001b[0;34m)\u001b[0m\u001b[0;34m)\u001b[0m\u001b[0;34m\u001b[0m\u001b[0m\n",
      "\u001b[0;31mIOError\u001b[0m: [Errno 2] No such file or directory: '/home/oelkerrj/FFI/code/master/images.dat'"
     ]
    }
   ],
   "source": [
    "###UPDATE HERE#####\n",
    "#what field are you looking at?\n",
    "camera = '2'\n",
    "ccd = '2'\n",
    "blknum = 50 #how many images go into each holder?\n",
    "\n",
    "#this program will select the images to make the E and W master frames\n",
    "#useful directories\n",
    "cdedir = '/home/oelkerrj/FFI/code/master/' #code directory\n",
    "clndir = '/net/jovan/export/jovan/oelkerrj/FFI/test/clean/' #directory where the cleaned images reside\n",
    "\n",
    "###END UPDATE###\n",
    "\n",
    "#get the image list and the number of files which need reduction\n",
    "files = np.loadtxt(cdedir+'images.dat', dtype = 'string', unpack = 1, usecols = (0))\n",
    "nfiles = len(files)\n",
    "\n",
    "#iterate through the files\n",
    "cnt = 0 #counter for the number of images used\n",
    "kk = 0 #the jumper for file placement\n",
    "\n",
    "for ii in range(0,len(files)):\n",
    "\n",
    "        if (ii == 0):  # get size on first iteration only\n",
    "                nx = pyfits.getval(clndir+files[0], 'NAXIS2')\n",
    "                ny = pyfits.getval(clndir+files[0], 'NAXIS1')\n",
    "                all_data = np.ndarray(shape=(blknum,nx,ny))\n",
    "                expt = np.zeros(blknum)\n",
    "\n",
    "        #read in the image\n",
    "        img_data = pyfits.getdata(clndir+files[ii])\n",
    "        expt[cnt] = pyfits.getval(clndir+files[ii],'EXPOSURE')\n",
    "\n",
    "        #add the image to the vector\n",
    "        all_data[cnt] = img_data \n",
    "        cnt = cnt+1\n",
    "\n",
    "        if (ii % 10 == 0) and (ii > 0):\n",
    "                print 'Finished with 10 images at '+str(time.strftime(\"%a %d %b %Y %H:%M:%S\"))+'.'\n",
    "\n",
    "        if (ii == len(files)-1) or ((ii+1) % blknum == 0):\n",
    "                \n",
    "                #median combine the data\n",
    "                combined_data = np.median(all_data,axis=0)\n",
    "\n",
    "                # Write data to new file    \n",
    "                new_image = pyfits.PrimaryHDU(combined_data)\n",
    "                new_image.header.set('NUMCOMB', cnt)\n",
    "                new_image.header.set('EXPTIME', np.median(expt))\n",
    "\n",
    "                #print the file with the appropriate counter\n",
    "                if (kk < 10):\n",
    "                        new_image.writeto(cdedir+'frames/'+camera+'_'+ccd+'_master_0'+str(kk)+'.fits',clobber=True)\n",
    "                else:\n",
    "                        if (kk >= 10) and (kk < 100):\n",
    "                                new_image.writeto(cdedir+'frames/'+camera+'_'+ccd+'_master_'+str(kk)+'.fits',clobber=True)\n",
    "\n",
    "                print \"The master frame hold was created using a median of \"+str(cnt)+\" images.\"\n",
    "                kk = kk+1\n",
    "                cnt = 0\n",
    "\n",
    "                #clear the data file\n",
    "                all_data = np.ndarray(shape=(blknum,nx,ny))\n",
    "                expt = np.zeros(blknum)\n",
    "\n",
    "del all_data, img_data # clear up some memory"
   ]
  },
  {
   "cell_type": "code",
   "execution_count": null,
   "metadata": {},
   "outputs": [],
   "source": []
  }
 ],
 "metadata": {
  "kernelspec": {
   "display_name": "Python 2",
   "language": "python",
   "name": "python2"
  },
  "language_info": {
   "codemirror_mode": {
    "name": "ipython",
    "version": 2
   },
   "file_extension": ".py",
   "mimetype": "text/x-python",
   "name": "python",
   "nbconvert_exporter": "python",
   "pygments_lexer": "ipython2",
   "version": "2.7.15"
  }
 },
 "nbformat": 4,
 "nbformat_minor": 2
}
