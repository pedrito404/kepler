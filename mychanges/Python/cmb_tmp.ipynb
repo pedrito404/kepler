{
 "cells": [
  {
   "cell_type": "code",
   "execution_count": 2,
   "metadata": {},
   "outputs": [],
   "source": [
    "#this program will combine images to make a master frame\n",
    "\n",
    "#if you use this code, please cite Oelkers et al. 2015, AJ, 149, 50\n",
    "\n",
    "#import the relevant libraries for basic tools\n",
    "import pyfits\n",
    "import numpy as np\n",
    "import scipy\n",
    "from scipy import stats\n",
    "from os import path\n",
    "import math\n",
    "import time\n",
    "\n",
    "#import relevant libraries for a list\n",
    "import glob, os\n",
    "from os import listdir\n",
    "from os.path import isfile, join, exists"
   ]
  },
  {
   "cell_type": "code",
   "execution_count": 2,
   "metadata": {},
   "outputs": [
    {
     "ename": "OSError",
     "evalue": "[Errno 2] No such file or directory: '/home/oelkerrj/FFI/code/master/frames/'",
     "output_type": "error",
     "traceback": [
      "\u001b[0;31m---------------------------------------------------------------------------\u001b[0m",
      "\u001b[0;31mOSError\u001b[0m                                   Traceback (most recent call last)",
      "\u001b[0;32m<ipython-input-2-a22cc404f4dd>\u001b[0m in \u001b[0;36m<module>\u001b[0;34m()\u001b[0m\n\u001b[1;32m     11\u001b[0m \u001b[0;34m\u001b[0m\u001b[0m\n\u001b[1;32m     12\u001b[0m \u001b[0;31m#get the image list and the number of files which need reduction\u001b[0m\u001b[0;34m\u001b[0m\u001b[0;34m\u001b[0m\u001b[0m\n\u001b[0;32m---> 13\u001b[0;31m \u001b[0mos\u001b[0m\u001b[0;34m.\u001b[0m\u001b[0mchdir\u001b[0m\u001b[0;34m(\u001b[0m\u001b[0mmstdir\u001b[0m\u001b[0;34m)\u001b[0m \u001b[0;31m#changes to the raw image direcotory\u001b[0m\u001b[0;34m\u001b[0m\u001b[0m\n\u001b[0m\u001b[1;32m     14\u001b[0m \u001b[0mfiles\u001b[0m \u001b[0;34m=\u001b[0m \u001b[0;34m[\u001b[0m\u001b[0mf\u001b[0m \u001b[0;32mfor\u001b[0m \u001b[0mf\u001b[0m \u001b[0;32min\u001b[0m \u001b[0mglob\u001b[0m\u001b[0;34m.\u001b[0m\u001b[0mglob\u001b[0m\u001b[0;34m(\u001b[0m\u001b[0mcamera\u001b[0m\u001b[0;34m+\u001b[0m\u001b[0;34m\"_\"\u001b[0m\u001b[0;34m+\u001b[0m\u001b[0mccd\u001b[0m\u001b[0;34m+\u001b[0m\u001b[0;34m\"_*.fits\"\u001b[0m\u001b[0;34m)\u001b[0m \u001b[0;32mif\u001b[0m \u001b[0misfile\u001b[0m\u001b[0;34m(\u001b[0m\u001b[0mjoin\u001b[0m\u001b[0;34m(\u001b[0m\u001b[0mmstdir\u001b[0m\u001b[0;34m,\u001b[0m \u001b[0mf\u001b[0m\u001b[0;34m)\u001b[0m\u001b[0;34m)\u001b[0m\u001b[0;34m]\u001b[0m \u001b[0;31m#gets the relevant files with the proper extension\u001b[0m\u001b[0;34m\u001b[0m\u001b[0m\n\u001b[1;32m     15\u001b[0m \u001b[0mfiles\u001b[0m\u001b[0;34m.\u001b[0m\u001b[0msort\u001b[0m\u001b[0;34m(\u001b[0m\u001b[0;34m)\u001b[0m\u001b[0;34m\u001b[0m\u001b[0m\n",
      "\u001b[0;31mOSError\u001b[0m: [Errno 2] No such file or directory: '/home/oelkerrj/FFI/code/master/frames/'"
     ]
    }
   ],
   "source": [
    "###UPDATE HERE#####\n",
    "#what field are you looking at?\n",
    "camera = '2'\n",
    "ccd = '2'\n",
    "\n",
    "#useful directories\n",
    "cdedir = '/home/oelkerrj/FFI/code/master/' #code directory\n",
    "mstdir = '/home/oelkerrj/FFI/code/master/frames/' #directory where the cleaned images reside\n",
    "findir = '/home/oelkerrj/FFI/code/master/fin/' #directory for the final master frame\n",
    "###END UPDATE###\n",
    "\n",
    "#get the image list and the number of files which need reduction\n",
    "os.chdir(mstdir) #changes to the raw image direcotory\n",
    "files = [f for f in glob.glob(camera+\"_\"+ccd+\"_*.fits\") if isfile(join(mstdir, f))] #gets the relevant files with the proper extension\n",
    "files.sort()\n",
    "nfiles = len(files)\n",
    "os.chdir(cdedir) #changes back to the code directory\n",
    "\n",
    "#set up the holder for the final fiel count\n",
    "nx = pyfits.getval(mstdir+files[0], 'NAXIS2')\n",
    "ny = pyfits.getval(mstdir+files[0], 'NAXIS1')\n",
    "all_data = np.ndarray(shape=(nfiles,nx,ny))\n",
    "expt = np.zeros(nfiles)\n",
    "num = np.zeros(nfiles)\n",
    "\n",
    "for ii in range(0,nfiles):\n",
    "\n",
    "        #read in the image\n",
    "        img_data = pyfits.getdata(mstdir+files[ii])\n",
    "        expt[ii] = pyfits.getval(mstdir+files[ii],'EXPTIME')\n",
    "        num[ii] = pyfits.getval(mstdir+files[ii],'NUMCOMB')\n",
    "\n",
    "        #add the image to the vector\n",
    "        all_data[ii] = img_data \n",
    "\n",
    "        if (ii % 10 == 0) and (ii > 0):\n",
    "                print 'Finished with 10 images at '+str(time.strftime(\"%a %d %b %Y %H:%M:%S\"))+'.'\n",
    "\n",
    "#median combine the data\n",
    "combined_data = np.median(all_data,axis=0)\n",
    "\n",
    "# Write data to new file    \n",
    "new_image = pyfits.PrimaryHDU(combined_data)\n",
    "new_image.header.set('NUMCOMB', np.sum(num))\n",
    "new_image.header.set('EXPTIME', np.median(expt))\n",
    "\n",
    "#print the file with the appropriate counter\n",
    "new_image.writeto(findir+camera+'_'+ccd+'_master.fits',clobber=True)\n",
    "\n",
    "print \"The master frame was created using a median of \"+str(np.sum(num))+\" images.\"\n",
    "\n",
    "del all_data, img_data # clear up some memory"
   ]
  },
  {
   "cell_type": "code",
   "execution_count": null,
   "metadata": {},
   "outputs": [],
   "source": []
  }
 ],
 "metadata": {
  "kernelspec": {
   "display_name": "Python 3",
   "language": "python",
   "name": "python3"
  },
  "language_info": {
   "codemirror_mode": {
    "name": "ipython",
    "version": 3
   },
   "file_extension": ".py",
   "mimetype": "text/x-python",
   "name": "python",
   "nbconvert_exporter": "python",
   "pygments_lexer": "ipython3",
   "version": "3.6.4"
  }
 },
 "nbformat": 4,
 "nbformat_minor": 2
}
