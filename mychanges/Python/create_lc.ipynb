{
 "cells": [
  {
   "cell_type": "code",
   "execution_count": 1,
   "metadata": {},
   "outputs": [],
   "source": [
    "#this program will make the raw magnitude data files\n",
    "\n",
    "#if you use this code, please cite Oelkers & Stassun 2018\n",
    "#import the relevant libraries for basic tools\n",
    "import numpy as np\n",
    "\n",
    "#import relevant libraries for a list\n",
    "import glob, os\n",
    "from os import listdir\n",
    "from os.path import isfile, join, exists\n",
    "from time import strftime\n",
    "import pandas as pd\n",
    "import astropy.io.fits as fits\n",
    "import matplotlib.pyplot as plt"
   ]
  },
  {
   "cell_type": "code",
   "execution_count": 42,
   "metadata": {},
   "outputs": [],
   "source": [
    "season = 3\n",
    "skygroup = 1\n",
    "skygroup = str(skygroup)\n",
    "season = str(season)\n",
    "sky = str(skygroup).zfill(2)\n",
    "\n",
    "comp = 'usuario'\n",
    "####UPDATE INFORMATION HERE####\n",
    "###be sure to update the number of light curves on line 40, now for simplicity, it is set to 100\n",
    "#useful directories\n",
    "cdedir = '/home/'+comp+'/dia_kepler/mychanges/Python/' # code directory\n",
    "#difer = '/home/'+comp+'/Documents/Mestrado/FFIs/testeall/clean/s'+season+'/'\n",
    "difdir = '/home/'+comp+'/Documents/Mestrado/FFIs/testeall/clean/s'+season+'/dif'+season+'/' # directory to put the differenced images\n",
    "caldir = '/home/'+comp+'/Documents/Mestrado/FFIs/testeall/clean/masters/season' # directory with master frame information\n",
    "lcdir  = '/home/usuario/lc/' # directory to put the light curves"
   ]
  },
  {
   "cell_type": "code",
   "execution_count": 43,
   "metadata": {},
   "outputs": [],
   "source": [
    "#open the dif.flux files depois vou ter que aprender a somar com outras seasons - escolher por skygroup\n",
    "#get the flux lists\n",
    "os.chdir(difdir) #changes to the raw image direcotory\n",
    "files = [f for f in glob.glob(\"*.flux\") if isfile(join(difdir, f))] #gets the relevant files with the proper extension\n",
    "files.sort()\n",
    "nfiles = len(files)\n",
    "os.chdir(cdedir) #changes back to the code directory\n",
    "\n",
    "#read in the master frame information to get the star count\n",
    "ids, xm, ym, ttmg, mstmg, mstmge = np.loadtxt(caldir+season+'/'+skygroup+'_master.ap', unpack =1,delimiter=',',usecols=(0,1,2,3,4,5))\n",
    "nstars = len(ids)\n",
    "\n",
    "cols = ('ids','xm','ttmg','mstmg','mstmge')\n",
    "master = pd.read_csv(caldir+season+'/'+skygroup+'_master.ap',sep =',',header=None,names=cols)\n",
    "nstars = len(master['ids'])\n",
    "# files\n",
    "\n",
    "#/home/sonic/Documents/Mestrado/FFIs/testeall/clean/s\n",
    "\n",
    "holder = [[]]*nfiles\n",
    "\n",
    "cols_difer = ('idd', 'mx', 'my', 'jdh', 'flxh', 'flx_errh','mgh','mgh_errh','season')\n",
    "for i in range(nfiles):\n",
    "    difer_table = pd.read_csv(difdir+files[i],sep =',',header=None,names=cols_difer)\n",
    "    holder[i] = difer_table\n",
    "#     #condition with bad magnitude flag?\n",
    "#     for j in range(len(difer_table['idd'])):\n",
    "#         difer_ref.loc[j].append(difer_table.loc[j])\n",
    "\n",
    "for j in range(0, nstars): \n",
    "    #make a file name from the ticid\n",
    "    nm=str(holder[0].loc[j]['idd'])+'.lcxx'\n",
    "\n",
    "    #write out the light curve\n",
    "    output1=open(lcdir+nm, 'w')\n",
    "    for jj in range(0, nfiles):\n",
    "        output1.write(str(holder[jj].loc[j]['jdh'])+','+str(holder[jj].loc[j]['flxh'])+','+str(holder[jj].loc[j]['flx_errh'])+','+str(holder[jj].loc[j]['mgh'])+','+str(holder[jj].loc[j]['mgh_errh'])+','+str(holder[jj].loc[j]['season'])+'\\n')\n",
    "                      #jd, str(numpy.round(mg[jj,ii], decimals = 6)), str(numpy.round(er[jj,ii], decimals = 6)))\n",
    "    output1.close()\n"
   ]
  },
  {
   "cell_type": "markdown",
   "metadata": {},
   "source": [
    "## Define the kic id"
   ]
  },
  {
   "cell_type": "code",
   "execution_count": 241,
   "metadata": {},
   "outputs": [],
   "source": [
    "season = str(0)\n",
    "os.chdir('/home/usuario/lc'+season)\n",
    "\n",
    "# files = [f for f in glob.glob(\"*.lcxx\") if isfile(join('/home/usuario/lc'+season, f))]\n",
    "# files[0].split('.')[0]"
   ]
  },
  {
   "cell_type": "code",
   "execution_count": 242,
   "metadata": {},
   "outputs": [
    {
     "name": "stdout",
     "output_type": "stream",
     "text": [
      "choose the kic id 11413213\n"
     ]
    }
   ],
   "source": [
    "name = input(\"choose the kic id \")\n",
    "star = str(name)+'.0.lcxx'"
   ]
  },
  {
   "cell_type": "markdown",
   "metadata": {},
   "source": [
    "## READ 1 STAR OF SEASON 0"
   ]
  },
  {
   "cell_type": "code",
   "execution_count": 243,
   "metadata": {},
   "outputs": [
    {
     "ename": "FileNotFoundError",
     "evalue": "File b'11413213.0.lcxx' does not exist",
     "output_type": "error",
     "traceback": [
      "\u001b[0;31m---------------------------------------------------------------------------\u001b[0m",
      "\u001b[0;31mFileNotFoundError\u001b[0m                         Traceback (most recent call last)",
      "\u001b[0;32m<ipython-input-243-d21e775794fb>\u001b[0m in \u001b[0;36m<module>\u001b[0;34m()\u001b[0m\n\u001b[1;32m      8\u001b[0m \u001b[0;34m\u001b[0m\u001b[0m\n\u001b[1;32m      9\u001b[0m \u001b[0mcols\u001b[0m \u001b[0;34m=\u001b[0m \u001b[0;34m(\u001b[0m\u001b[0;34m'jd'\u001b[0m\u001b[0;34m,\u001b[0m\u001b[0;34m'flx'\u001b[0m\u001b[0;34m,\u001b[0m\u001b[0;34m'flx_err'\u001b[0m\u001b[0;34m,\u001b[0m\u001b[0;34m'mag'\u001b[0m\u001b[0;34m,\u001b[0m\u001b[0;34m'magerr'\u001b[0m\u001b[0;34m,\u001b[0m\u001b[0;34m'season'\u001b[0m\u001b[0;34m)\u001b[0m\u001b[0;34m\u001b[0m\u001b[0m\n\u001b[0;32m---> 10\u001b[0;31m \u001b[0ma\u001b[0m \u001b[0;34m=\u001b[0m \u001b[0mpd\u001b[0m\u001b[0;34m.\u001b[0m\u001b[0mread_csv\u001b[0m\u001b[0;34m(\u001b[0m\u001b[0mstar\u001b[0m\u001b[0;34m,\u001b[0m\u001b[0msep\u001b[0m \u001b[0;34m=\u001b[0m\u001b[0;34m','\u001b[0m\u001b[0;34m,\u001b[0m\u001b[0mheader\u001b[0m\u001b[0;34m=\u001b[0m\u001b[0;32mNone\u001b[0m\u001b[0;34m,\u001b[0m\u001b[0mnames\u001b[0m\u001b[0;34m=\u001b[0m\u001b[0mcols\u001b[0m\u001b[0;34m)\u001b[0m\u001b[0;34m\u001b[0m\u001b[0m\n\u001b[0m",
      "\u001b[0;32m~/anaconda3/lib/python3.6/site-packages/pandas/io/parsers.py\u001b[0m in \u001b[0;36mparser_f\u001b[0;34m(filepath_or_buffer, sep, delimiter, header, names, index_col, usecols, squeeze, prefix, mangle_dupe_cols, dtype, engine, converters, true_values, false_values, skipinitialspace, skiprows, nrows, na_values, keep_default_na, na_filter, verbose, skip_blank_lines, parse_dates, infer_datetime_format, keep_date_col, date_parser, dayfirst, iterator, chunksize, compression, thousands, decimal, lineterminator, quotechar, quoting, escapechar, comment, encoding, dialect, tupleize_cols, error_bad_lines, warn_bad_lines, skipfooter, doublequote, delim_whitespace, low_memory, memory_map, float_precision)\u001b[0m\n\u001b[1;32m    676\u001b[0m                     skip_blank_lines=skip_blank_lines)\n\u001b[1;32m    677\u001b[0m \u001b[0;34m\u001b[0m\u001b[0m\n\u001b[0;32m--> 678\u001b[0;31m         \u001b[0;32mreturn\u001b[0m \u001b[0m_read\u001b[0m\u001b[0;34m(\u001b[0m\u001b[0mfilepath_or_buffer\u001b[0m\u001b[0;34m,\u001b[0m \u001b[0mkwds\u001b[0m\u001b[0;34m)\u001b[0m\u001b[0;34m\u001b[0m\u001b[0m\n\u001b[0m\u001b[1;32m    679\u001b[0m \u001b[0;34m\u001b[0m\u001b[0m\n\u001b[1;32m    680\u001b[0m     \u001b[0mparser_f\u001b[0m\u001b[0;34m.\u001b[0m\u001b[0m__name__\u001b[0m \u001b[0;34m=\u001b[0m \u001b[0mname\u001b[0m\u001b[0;34m\u001b[0m\u001b[0m\n",
      "\u001b[0;32m~/anaconda3/lib/python3.6/site-packages/pandas/io/parsers.py\u001b[0m in \u001b[0;36m_read\u001b[0;34m(filepath_or_buffer, kwds)\u001b[0m\n\u001b[1;32m    438\u001b[0m \u001b[0;34m\u001b[0m\u001b[0m\n\u001b[1;32m    439\u001b[0m     \u001b[0;31m# Create the parser.\u001b[0m\u001b[0;34m\u001b[0m\u001b[0;34m\u001b[0m\u001b[0m\n\u001b[0;32m--> 440\u001b[0;31m     \u001b[0mparser\u001b[0m \u001b[0;34m=\u001b[0m \u001b[0mTextFileReader\u001b[0m\u001b[0;34m(\u001b[0m\u001b[0mfilepath_or_buffer\u001b[0m\u001b[0;34m,\u001b[0m \u001b[0;34m**\u001b[0m\u001b[0mkwds\u001b[0m\u001b[0;34m)\u001b[0m\u001b[0;34m\u001b[0m\u001b[0m\n\u001b[0m\u001b[1;32m    441\u001b[0m \u001b[0;34m\u001b[0m\u001b[0m\n\u001b[1;32m    442\u001b[0m     \u001b[0;32mif\u001b[0m \u001b[0mchunksize\u001b[0m \u001b[0;32mor\u001b[0m \u001b[0miterator\u001b[0m\u001b[0;34m:\u001b[0m\u001b[0;34m\u001b[0m\u001b[0m\n",
      "\u001b[0;32m~/anaconda3/lib/python3.6/site-packages/pandas/io/parsers.py\u001b[0m in \u001b[0;36m__init__\u001b[0;34m(self, f, engine, **kwds)\u001b[0m\n\u001b[1;32m    785\u001b[0m             \u001b[0mself\u001b[0m\u001b[0;34m.\u001b[0m\u001b[0moptions\u001b[0m\u001b[0;34m[\u001b[0m\u001b[0;34m'has_index_names'\u001b[0m\u001b[0;34m]\u001b[0m \u001b[0;34m=\u001b[0m \u001b[0mkwds\u001b[0m\u001b[0;34m[\u001b[0m\u001b[0;34m'has_index_names'\u001b[0m\u001b[0;34m]\u001b[0m\u001b[0;34m\u001b[0m\u001b[0m\n\u001b[1;32m    786\u001b[0m \u001b[0;34m\u001b[0m\u001b[0m\n\u001b[0;32m--> 787\u001b[0;31m         \u001b[0mself\u001b[0m\u001b[0;34m.\u001b[0m\u001b[0m_make_engine\u001b[0m\u001b[0;34m(\u001b[0m\u001b[0mself\u001b[0m\u001b[0;34m.\u001b[0m\u001b[0mengine\u001b[0m\u001b[0;34m)\u001b[0m\u001b[0;34m\u001b[0m\u001b[0m\n\u001b[0m\u001b[1;32m    788\u001b[0m \u001b[0;34m\u001b[0m\u001b[0m\n\u001b[1;32m    789\u001b[0m     \u001b[0;32mdef\u001b[0m \u001b[0mclose\u001b[0m\u001b[0;34m(\u001b[0m\u001b[0mself\u001b[0m\u001b[0;34m)\u001b[0m\u001b[0;34m:\u001b[0m\u001b[0;34m\u001b[0m\u001b[0m\n",
      "\u001b[0;32m~/anaconda3/lib/python3.6/site-packages/pandas/io/parsers.py\u001b[0m in \u001b[0;36m_make_engine\u001b[0;34m(self, engine)\u001b[0m\n\u001b[1;32m   1012\u001b[0m     \u001b[0;32mdef\u001b[0m \u001b[0m_make_engine\u001b[0m\u001b[0;34m(\u001b[0m\u001b[0mself\u001b[0m\u001b[0;34m,\u001b[0m \u001b[0mengine\u001b[0m\u001b[0;34m=\u001b[0m\u001b[0;34m'c'\u001b[0m\u001b[0;34m)\u001b[0m\u001b[0;34m:\u001b[0m\u001b[0;34m\u001b[0m\u001b[0m\n\u001b[1;32m   1013\u001b[0m         \u001b[0;32mif\u001b[0m \u001b[0mengine\u001b[0m \u001b[0;34m==\u001b[0m \u001b[0;34m'c'\u001b[0m\u001b[0;34m:\u001b[0m\u001b[0;34m\u001b[0m\u001b[0m\n\u001b[0;32m-> 1014\u001b[0;31m             \u001b[0mself\u001b[0m\u001b[0;34m.\u001b[0m\u001b[0m_engine\u001b[0m \u001b[0;34m=\u001b[0m \u001b[0mCParserWrapper\u001b[0m\u001b[0;34m(\u001b[0m\u001b[0mself\u001b[0m\u001b[0;34m.\u001b[0m\u001b[0mf\u001b[0m\u001b[0;34m,\u001b[0m \u001b[0;34m**\u001b[0m\u001b[0mself\u001b[0m\u001b[0;34m.\u001b[0m\u001b[0moptions\u001b[0m\u001b[0;34m)\u001b[0m\u001b[0;34m\u001b[0m\u001b[0m\n\u001b[0m\u001b[1;32m   1015\u001b[0m         \u001b[0;32melse\u001b[0m\u001b[0;34m:\u001b[0m\u001b[0;34m\u001b[0m\u001b[0m\n\u001b[1;32m   1016\u001b[0m             \u001b[0;32mif\u001b[0m \u001b[0mengine\u001b[0m \u001b[0;34m==\u001b[0m \u001b[0;34m'python'\u001b[0m\u001b[0;34m:\u001b[0m\u001b[0;34m\u001b[0m\u001b[0m\n",
      "\u001b[0;32m~/anaconda3/lib/python3.6/site-packages/pandas/io/parsers.py\u001b[0m in \u001b[0;36m__init__\u001b[0;34m(self, src, **kwds)\u001b[0m\n\u001b[1;32m   1706\u001b[0m         \u001b[0mkwds\u001b[0m\u001b[0;34m[\u001b[0m\u001b[0;34m'usecols'\u001b[0m\u001b[0;34m]\u001b[0m \u001b[0;34m=\u001b[0m \u001b[0mself\u001b[0m\u001b[0;34m.\u001b[0m\u001b[0musecols\u001b[0m\u001b[0;34m\u001b[0m\u001b[0m\n\u001b[1;32m   1707\u001b[0m \u001b[0;34m\u001b[0m\u001b[0m\n\u001b[0;32m-> 1708\u001b[0;31m         \u001b[0mself\u001b[0m\u001b[0;34m.\u001b[0m\u001b[0m_reader\u001b[0m \u001b[0;34m=\u001b[0m \u001b[0mparsers\u001b[0m\u001b[0;34m.\u001b[0m\u001b[0mTextReader\u001b[0m\u001b[0;34m(\u001b[0m\u001b[0msrc\u001b[0m\u001b[0;34m,\u001b[0m \u001b[0;34m**\u001b[0m\u001b[0mkwds\u001b[0m\u001b[0;34m)\u001b[0m\u001b[0;34m\u001b[0m\u001b[0m\n\u001b[0m\u001b[1;32m   1709\u001b[0m \u001b[0;34m\u001b[0m\u001b[0m\n\u001b[1;32m   1710\u001b[0m         \u001b[0mpassed_names\u001b[0m \u001b[0;34m=\u001b[0m \u001b[0mself\u001b[0m\u001b[0;34m.\u001b[0m\u001b[0mnames\u001b[0m \u001b[0;32mis\u001b[0m \u001b[0;32mNone\u001b[0m\u001b[0;34m\u001b[0m\u001b[0m\n",
      "\u001b[0;32mpandas/_libs/parsers.pyx\u001b[0m in \u001b[0;36mpandas._libs.parsers.TextReader.__cinit__\u001b[0;34m()\u001b[0m\n",
      "\u001b[0;32mpandas/_libs/parsers.pyx\u001b[0m in \u001b[0;36mpandas._libs.parsers.TextReader._setup_parser_source\u001b[0;34m()\u001b[0m\n",
      "\u001b[0;31mFileNotFoundError\u001b[0m: File b'11413213.0.lcxx' does not exist"
     ]
    }
   ],
   "source": [
    "season = str(0)\n",
    "os.chdir('/home/usuario/lc'+season)\n",
    "\n",
    "#changes to the raw image direcotory\n",
    "# files = [f for f in glob.glob(\"*.lcxx\") if isfile(join('/home/usuario/lc'+season, f))] #gets the relevant files with the proper extension\n",
    "# files.sort()\n",
    "# nfiles = len(files)\n",
    "\n",
    "cols = ('jd','flx','flx_err','mag','magerr','season')\n",
    "a = pd.read_csv(star,sep =',',header=None,names=cols)"
   ]
  },
  {
   "cell_type": "code",
   "execution_count": 229,
   "metadata": {},
   "outputs": [
    {
     "data": {
      "text/plain": [
       "'12159893.0.lcxx'"
      ]
     },
     "execution_count": 229,
     "metadata": {},
     "output_type": "execute_result"
    }
   ],
   "source": [
    "star"
   ]
  },
  {
   "cell_type": "markdown",
   "metadata": {},
   "source": [
    "## READ 1 STAR OF SEASON 1"
   ]
  },
  {
   "cell_type": "code",
   "execution_count": 230,
   "metadata": {},
   "outputs": [],
   "source": [
    "season = str(1)\n",
    "os.chdir('/home/usuario/lc'+season) #changes to the raw image direcotory\n",
    "# files = [f for f in glob.glob(\"*.lcxx\") if isfile(join('/home/usuario/lc'+season, f))] #gets the relevant files with the proper extension\n",
    "# files.sort()\n",
    "# nfiles = len(files)\n",
    "\n",
    "cols = ('jd','flx','flx_err','mag','magerr','season')\n",
    "b = pd.read_csv(star,sep =',',header=None,names=cols)"
   ]
  },
  {
   "cell_type": "markdown",
   "metadata": {},
   "source": [
    "## READ 1 STAR OF SEASON 2"
   ]
  },
  {
   "cell_type": "code",
   "execution_count": 231,
   "metadata": {},
   "outputs": [],
   "source": [
    "season = str(2)\n",
    "os.chdir('/home/usuario/lc'+season) #changes to the raw image direcotory\n",
    "\n",
    "# files = [f for f in glob.glob(\"*.lcxx\") if isfile(join('/home/usuario/lc'+season, f))] #gets the relevant files with the proper extension\n",
    "# files.sort()\n",
    "# nfiles = len(files)\n",
    "\n",
    "cols = ('jd','flx','flx_err','mag','magerr','season')\n",
    "c = pd.read_csv(star,sep =',',header=None,names=cols)"
   ]
  },
  {
   "cell_type": "markdown",
   "metadata": {},
   "source": [
    "## READ 1 STAR OF SEASON 3"
   ]
  },
  {
   "cell_type": "code",
   "execution_count": 232,
   "metadata": {},
   "outputs": [],
   "source": [
    "season = str(3)\n",
    "os.chdir('/home/usuario/lc'+season) #changes to the raw image direcotory\n",
    "\n",
    "# files = [f for f in glob.glob(\"*.lcxx\") if isfile(join('/home/usuario/lc'+season, f))] #gets the relevant files with the proper extension\n",
    "# files.sort()\n",
    "# nfiles = len(files)\n",
    "\n",
    "cols = ('jd','flx','flx_err','mag','magerr','season')\n",
    "d = pd.read_csv(star,sep =',',header=None,names=cols)"
   ]
  },
  {
   "cell_type": "code",
   "execution_count": 233,
   "metadata": {},
   "outputs": [
    {
     "data": {
      "image/png": "[encoded data removed]",
      "text/plain": [
       "<Figure size 432x288 with 1 Axes>"
      ]
     },
     "metadata": {},
     "output_type": "display_data"
    }
   ],
   "source": [
    "plt.errorbar(a['jd'],a['flx'],a['flx_err'],fmt='s',ecolor='black',color='green',markersize=3,label='season 0')#,barsabove=True)\n",
    "plt.errorbar(b['jd'],b['flx'],b['flx_err'],fmt='^',ecolor='black',color='red',markersize=3,label='season 1')#,barsabove=True)\n",
    "plt.errorbar(c['jd'],c['flx'],c['flx_err'],fmt='v',ecolor='black',color='b',markersize=3,label='season 2')#,barsabove=True)\n",
    "plt.errorbar(d['jd'],d['flx'],d['flx_err'],fmt='o',ecolor='black',color='dimgray',markersize=3,label='season 3')#,barsabove=True)#,uplims=True,lolims=True)\n",
    "\n",
    "plt.xlabel('time (JD)')\n",
    "plt.ylabel('Flux')\n",
    "plt.title('Kic '+name)\n",
    "plt.legend()\n",
    "\n",
    "plt.savefig('/home/usuario/lc_figs/'+name+'flux.png', dpi=300)"
   ]
  },
  {
   "cell_type": "code",
   "execution_count": 234,
   "metadata": {
    "scrolled": true
   },
   "outputs": [
    {
     "data": {
      "image/png": "[encoded data removed]",
      "text/plain": [
       "<Figure size 432x288 with 1 Axes>"
      ]
     },
     "metadata": {},
     "output_type": "display_data"
    }
   ],
   "source": [
    "plt.errorbar(a['jd'],a['mag'],a['magerr'],fmt='s',capsize=2,ecolor='black',color='green',markersize=3,label='season 0')\n",
    "plt.errorbar(b['jd'],b['mag'],b['magerr'],fmt='^',capsize=2,ecolor='black',color='red',markersize=3,label='season 1')\n",
    "plt.errorbar(c['jd'],c['mag'],c['magerr'],fmt='v',capsize=2,ecolor='black',color='b',markersize=3,label='season 2')\n",
    "plt.errorbar(d['jd'],d['mag'],d['magerr'],fmt='o',capsize=2,ecolor='black',color='dimgray',markersize=3,label='season 3')\n",
    "\n",
    "plt.xlabel('time (JD)')\n",
    "plt.ylabel('Magnitude')\n",
    "plt.title('Kic '+name)\n",
    "plt.gca().invert_yaxis()\n",
    "\n",
    "\n",
    "plt.legend(loc=(0,0.6))\n",
    "plt.savefig('/home/usuario/lc_figs/'+name+'mag.png', dpi=300)"
   ]
  },
  {
   "cell_type": "markdown",
   "metadata": {},
   "source": [
    "# Open the catalogue"
   ]
  },
  {
   "cell_type": "code",
   "execution_count": 3,
   "metadata": {},
   "outputs": [],
   "source": [
    "import pandas as pd\n",
    "file = \"/home/usuario/Documents/Mestrado/FFIs/testeall/clean/masters/kic_cut.csv\"\n",
    "kic2 = pd.read_csv(file,sep=',',header=[0])"
   ]
  },
  {
   "cell_type": "code",
   "execution_count": 4,
   "metadata": {},
   "outputs": [
    {
     "data": {
      "text/html": [
       "<div>\n",
       "<style scoped>\n",
       "    .dataframe tbody tr th:only-of-type {\n",
       "        vertical-align: middle;\n",
       "    }\n",
       "\n",
       "    .dataframe tbody tr th {\n",
       "        vertical-align: top;\n",
       "    }\n",
       "\n",
       "    .dataframe thead th {\n",
       "        text-align: right;\n",
       "    }\n",
       "</style>\n",
       "<table border=\"1\" class=\"dataframe\">\n",
       "  <thead>\n",
       "    <tr style=\"text-align: right;\">\n",
       "      <th></th>\n",
       "      <th>Unnamed: 0</th>\n",
       "      <th>kic_kepler_id</th>\n",
       "      <th>kic_ra</th>\n",
       "      <th>kic_degree_ra</th>\n",
       "      <th>kic_dec</th>\n",
       "      <th>kic_kepmag</th>\n",
       "      <th>kct_sky_group_id_value</th>\n",
       "      <th>kct_num_season_onCCD</th>\n",
       "      <th>kic_variable</th>\n",
       "      <th>kct_distance_0</th>\n",
       "      <th>...</th>\n",
       "      <th>kic_umag</th>\n",
       "      <th>kic_gmag</th>\n",
       "      <th>kic_rmag</th>\n",
       "      <th>kic_imag</th>\n",
       "      <th>kic_zmag</th>\n",
       "      <th>kic_gredmag</th>\n",
       "      <th>kic_d51mag</th>\n",
       "      <th>kic_jmag</th>\n",
       "      <th>kic_hmag</th>\n",
       "      <th>kic_kmag</th>\n",
       "    </tr>\n",
       "  </thead>\n",
       "  <tbody>\n",
       "    <tr>\n",
       "      <th>3798661</th>\n",
       "      <td>3798661</td>\n",
       "      <td>8462852</td>\n",
       "      <td>20.104292</td>\n",
       "      <td>301.56439</td>\n",
       "      <td>44.456875</td>\n",
       "      <td>11.912</td>\n",
       "      <td>56.0</td>\n",
       "      <td>4</td>\n",
       "      <td>0</td>\n",
       "      <td>106.0</td>\n",
       "      <td>...</td>\n",
       "      <td>NaN</td>\n",
       "      <td>12.796</td>\n",
       "      <td>12.02</td>\n",
       "      <td>NaN</td>\n",
       "      <td>NaN</td>\n",
       "      <td>NaN</td>\n",
       "      <td>NaN</td>\n",
       "      <td>10.763</td>\n",
       "      <td>10.551</td>\n",
       "      <td>10.499</td>\n",
       "    </tr>\n",
       "  </tbody>\n",
       "</table>\n",
       "<p>1 rows × 23 columns</p>\n",
       "</div>"
      ],
      "text/plain": [
       "         Unnamed: 0  kic_kepler_id     kic_ra  kic_degree_ra    kic_dec  \\\n",
       "3798661     3798661        8462852  20.104292      301.56439  44.456875   \n",
       "\n",
       "         kic_kepmag  kct_sky_group_id_value  kct_num_season_onCCD  \\\n",
       "3798661      11.912                    56.0                     4   \n",
       "\n",
       "         kic_variable  kct_distance_0    ...     kic_umag  kic_gmag  kic_rmag  \\\n",
       "3798661             0           106.0    ...          NaN    12.796     12.02   \n",
       "\n",
       "         kic_imag  kic_zmag  kic_gredmag  kic_d51mag  kic_jmag  kic_hmag  \\\n",
       "3798661       NaN       NaN          NaN         NaN    10.763    10.551   \n",
       "\n",
       "         kic_kmag  \n",
       "3798661    10.499  \n",
       "\n",
       "[1 rows x 23 columns]"
      ]
     },
     "execution_count": 4,
     "metadata": {},
     "output_type": "execute_result"
    }
   ],
   "source": [
    "kic2[kic2.kct_sky_group_id_value==56]\n",
    "kic2[kic2.kic_kepler_id==8462852]"
   ]
  },
  {
   "cell_type": "code",
   "execution_count": null,
   "metadata": {},
   "outputs": [],
   "source": []
  },
  {
   "cell_type": "code",
   "execution_count": null,
   "metadata": {},
   "outputs": [],
   "source": []
  }
 ],
 "metadata": {
  "kernelspec": {
   "display_name": "Python 3",
   "language": "python",
   "name": "python3"
  },
  "language_info": {
   "codemirror_mode": {
    "name": "ipython",
    "version": 3
   },
   "file_extension": ".py",
   "mimetype": "text/x-python",
   "name": "python",
   "nbconvert_exporter": "python",
   "pygments_lexer": "ipython3",
   "version": "3.6.5"
  }
 },
 "nbformat": 4,
 "nbformat_minor": 2
}
