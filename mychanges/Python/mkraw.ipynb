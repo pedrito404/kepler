{
 "cells": [
  {
   "cell_type": "code",
   "execution_count": 1,
   "metadata": {},
   "outputs": [],
   "source": [
    "#this program will make the raw magnitude data files\n",
    "\n",
    "#if you use this code, please cite Oelkers & Stassun 2018\n",
    "#import the relevant libraries for basic tools\n",
    "import numpy\n",
    "\n",
    "#import relevant libraries for a list\n",
    "import glob, os\n",
    "from os import listdir\n",
    "from os.path import isfile, join, exists\n",
    "from time import strftime"
   ]
  },
  {
   "cell_type": "code",
   "execution_count": null,
   "metadata": {
    "collapsed": true
   },
   "outputs": [],
   "source": [
    "####UPDATE INFORMATION HERE####\n",
    "###be sure to update the number of light curves on line 40, now for simplicity, it is set to 100\n",
    "#useful directories\n",
    "cdedir = '../code/phot/' # code directory\n",
    "difdir = '../test/dif/' # directory to put the differenced images\n",
    "caldir = '../code/master/fin/' # directory with master frame information\n",
    "lcdir  = '../lc/' # directory to put the light curves\n",
    "\n",
    "camera = '2'\n",
    "ccd = '2'\n",
    "####END UPDATE INFORMATION####\n",
    "\n",
    "#get the flux lists\n",
    "os.chdir(difdir) #changes to the raw image direcotory\n",
    "files = [f for f in glob.glob(\"*.flux\") if isfile(join(difdir, f))] #gets the relevant files with the proper extension\n",
    "files.sort()\n",
    "nfiles = len(files)\n",
    "os.chdir(cdedir) #changes back to the code directory\n",
    "\n",
    "#read in the master frame information to get the star count\n",
    "ids, xm, ym, ttmg, mstmg, mstmge = numpy.loadtxt(caldir+camera+'_'+ccd+'_master.ap', unpack =1, usecols=(0,1,2,3,4,5))\n",
    "nstars = len(ids)\n",
    "\n",
    "jd = numpy.zeros(nfiles)\n",
    "mg = numpy.zeros((nfiles, nstars))-99.00\n",
    "er = numpy.zeros((nfiles, nstars))-99.00\n",
    "\n",
    "print 'Splitting photometry files at '+strftime(\"%a, %d %b %Y %H:%M:%S\")+'.'\n",
    "#loop through each file to combine the files\n",
    "for ii in range(0, 10):#nfiles):\n",
    "        \n",
    "        #read in the frame file\n",
    "        idd, mx, my, jdh, mgh, mgeh = numpy.loadtxt(difdir+files[ii], unpack =1, usecols=(0,1,2,3,4,5),dtype = 'string')\n",
    "\n",
    "        #put the data in the holder vectors\n",
    "        jd[ii] = jdh[0]\n",
    "        mg[ii, :] = mgh\n",
    "        #guard against bad magnitude errors\n",
    "        bd = numpy.where(mgeh == '********')\n",
    "        if (len(bd) > 0):\n",
    "                mgeh[bd]='-9.999999'\n",
    "        er[ii, :] = mgeh\n",
    "\n",
    "\n",
    "#loop through the stars make the light curves right now it is set to 100 to simiplify the code\n",
    "output2=open(lcdir+'starinfo.txtxx', 'w')\n",
    "for ii in range(0, 10):#nstars): \n",
    "        #make a file name from the ticid\n",
    "        nm=str(long(ids[ii]))+'.lcxx'\n",
    "\n",
    "        #write out the light curve\n",
    "        output1=open(lcdir+nm, 'w')\n",
    "        for jj in range(0, nfiles):\n",
    "                 output1.write('%f %f %f\\n' % (numpy.round(jd[jj], decimals = 6), numpy.round(mg[jj,ii], decimals = 6), numpy.round(er[jj,ii], decimals = 6)))\n",
    "        output1.close()\n",
    "        \n",
    "        #write out the star information for easy access\n",
    "        output2.write('%s %f %f %f %f\\n' %(nm, numpy.round(xm[ii], decimals = 2), numpy.round(ym[ii], decimals = 2), numpy.round(mstmg[ii], decimals = 6), numpy.round(mstmge[ii], decimals = 6)))\n",
    "\n",
    "output2.close()\n",
    "print 'All done at '+strftime(\"%a, %d %b %Y %H:%M:%S\")+'. See ya later alligator.'"
   ]
  }
 ],
 "metadata": {
  "kernelspec": {
   "display_name": "Python 3",
   "language": "python",
   "name": "python3"
  },
  "language_info": {
   "codemirror_mode": {
    "name": "ipython",
    "version": 3
   },
   "file_extension": ".py",
   "mimetype": "text/x-python",
   "name": "python",
   "nbconvert_exporter": "python",
   "pygments_lexer": "ipython3",
   "version": "3.6.4"
  }
 },
 "nbformat": 4,
 "nbformat_minor": 2
}
