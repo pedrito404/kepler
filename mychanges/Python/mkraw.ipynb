{
 "cells": [
  {
   "cell_type": "code",
   "execution_count": 1,
   "metadata": {},
   "outputs": [],
   "source": [
    "#this program will make the raw magnitude data files\n",
    "\n",
    "#if you use this code, please cite Oelkers & Stassun 2018\n",
    "#import the relevant libraries for basic tools\n",
    "import numpy\n",
    "\n",
    "#import relevant libraries for a list\n",
    "import glob, os\n",
    "from os import listdir\n",
    "from os.path import isfile, join, exists\n",
    "from time import strftime"
   ]
  },
  {
   "cell_type": "code",
   "execution_count": 2,
   "metadata": {},
   "outputs": [],
   "source": [
    "season = 0\n",
    "skygroup = 1\n",
    "skygroup = str(skygroup)\n",
    "season = str(season)\n",
    "sky = str(skygroup).zfill(2)"
   ]
  },
  {
   "cell_type": "code",
   "execution_count": 3,
   "metadata": {},
   "outputs": [],
   "source": [
    "comp = 'sonic'\n",
    "####UPDATE INFORMATION HERE####\n",
    "###be sure to update the number of light curves on line 40, now for simplicity, it is set to 100\n",
    "#useful directories\n",
    "cdedir = '/home/'+comp+'/dia_kepler/mychanges/Python/' # code directory\n",
    "difer = '/home/'+comp+'/Documents/Mestrado/FFIs/testeall/clean/s'+season\n",
    "difdir = '/home/'+comp+'/Documents/Mestrado/FFIs/testeall/clean/s'+season+'/dif'+season # directory to put the differenced images\n",
    "caldir = '/home/'+comp+'/Documents/Mestrado/FFIs/testeall/clean/masters/season' # directory with master frame information\n",
    "lcdir  = '/home/sonic/lc/' # directory to put the light curves\n",
    "\n",
    "# camera = '2'\n",
    "# ccd = '2'\n",
    "####END UPDATE INFORMATION####\n",
    "\n",
    "#get the flux lists\n",
    "os.chdir(difer) #changes to the raw image direcotory\n",
    "files = [f for f in glob.glob(\"*.flux\") if isfile(join(difer, f))] #gets the relevant files with the proper extension\n",
    "files.sort()\n",
    "nfiles = len(files)\n",
    "os.chdir(cdedir) #changes back to the code directory\n",
    "\n",
    "#read in the master frame information to get the star count\n",
    "ids, xm, ym, ttmg, mstmg, mstmge = numpy.loadtxt(caldir+season+'/'+skygroup+'_master.ap', unpack =1,delimiter=',',usecols=(0,1,2,3,4,5))\n",
    "nstars = len(ids)"
   ]
  },
  {
   "cell_type": "code",
   "execution_count": 4,
   "metadata": {},
   "outputs": [
    {
     "data": {
      "text/plain": [
       "['dif0kplr2009231194831_ffi-cal_sa.flux',\n",
       " 'dif0kplr2009260000800_ffi-cal_sa.flux',\n",
       " 'dif0kplr2010203012215_ffi-cal_sa.flux',\n",
       " 'dif0kplr2010234192745_ffi-cal_sa.flux',\n",
       " 'dif0kplr2010265195356_ffi-cal_sa.flux',\n",
       " 'dif0kplr2011208112727_ffi-cal_sa.flux',\n",
       " 'dif0kplr2011240181752_ffi-cal_sa.flux',\n",
       " 'dif0kplr2011271191331_ffi-cal_sa.flux',\n",
       " 'dif0kplr2012211123923_ffi-cal_sa.flux',\n",
       " 'dif0kplr2012242195726_ffi-cal_sa.flux',\n",
       " 'dif0kplr2012277203051_ffi-cal_sa.flux']"
      ]
     },
     "execution_count": 4,
     "metadata": {},
     "output_type": "execute_result"
    }
   ],
   "source": [
    "files"
   ]
  },
  {
   "cell_type": "code",
   "execution_count": 5,
   "metadata": {},
   "outputs": [
    {
     "name": "stdout",
     "output_type": "stream",
     "text": [
      "Splitting photometry files at Fri, 08 Nov 2019 11:00:13.\n"
     ]
    }
   ],
   "source": [
    "jd = numpy.zeros(nfiles)\n",
    "mg = numpy.zeros((nfiles, nstars))-99.00\n",
    "er = numpy.zeros((nfiles, nstars))-99.00\n",
    "\n",
    "print('Splitting photometry files at '+strftime(\"%a, %d %b %Y %H:%M:%S\")+'.')\n",
    "#loop through each file to combine the files\n",
    "for ii in range(0, nfiles):#nfiles):\n",
    "        \n",
    "        #read in the frame file\n",
    "        idd, mx, my, jdh, mgh, mgeh = numpy.loadtxt(difer+'/'+files[ii], unpack =1, usecols=(0,1,2,3,4,5),delimiter=',',dtype = 'str')\n",
    "\n",
    "        #put the data in the holder vectors\n",
    "        jd[ii] = jdh[0]\n",
    "        mg[ii, :] = mgh\n",
    "        #guard against bad magnitude errors\n",
    "        bd = numpy.where(mgeh == '********')\n",
    "        if (len(bd) > 0):\n",
    "                mgeh[bd]='-9.999999'\n",
    "        er[ii, :] = mgeh"
   ]
  },
  {
   "cell_type": "code",
   "execution_count": 7,
   "metadata": {},
   "outputs": [
    {
     "ename": "TypeError",
     "evalue": "write() takes exactly one argument (3 given)",
     "output_type": "error",
     "traceback": [
      "\u001b[0;31m---------------------------------------------------------------------------\u001b[0m",
      "\u001b[0;31mTypeError\u001b[0m                                 Traceback (most recent call last)",
      "\u001b[0;32m<ipython-input-7-f84b1e714b6d>\u001b[0m in \u001b[0;36m<module>\u001b[0;34m\u001b[0m\n\u001b[1;32m      8\u001b[0m     \u001b[0moutput1\u001b[0m\u001b[0;34m=\u001b[0m\u001b[0mopen\u001b[0m\u001b[0;34m(\u001b[0m\u001b[0mlcdir\u001b[0m\u001b[0;34m+\u001b[0m\u001b[0mnm\u001b[0m\u001b[0;34m,\u001b[0m \u001b[0;34m'w'\u001b[0m\u001b[0;34m)\u001b[0m\u001b[0;34m\u001b[0m\u001b[0;34m\u001b[0m\u001b[0m\n\u001b[1;32m      9\u001b[0m     \u001b[0;32mfor\u001b[0m \u001b[0mjj\u001b[0m \u001b[0;32min\u001b[0m \u001b[0mrange\u001b[0m\u001b[0;34m(\u001b[0m\u001b[0;36m0\u001b[0m\u001b[0;34m,\u001b[0m \u001b[0mnfiles\u001b[0m\u001b[0;34m)\u001b[0m\u001b[0;34m:\u001b[0m\u001b[0;34m\u001b[0m\u001b[0;34m\u001b[0m\u001b[0m\n\u001b[0;32m---> 10\u001b[0;31m         \u001b[0moutput1\u001b[0m\u001b[0;34m.\u001b[0m\u001b[0mwrite\u001b[0m\u001b[0;34m(\u001b[0m\u001b[0mstr\u001b[0m\u001b[0;34m(\u001b[0m\u001b[0mnumpy\u001b[0m\u001b[0;34m.\u001b[0m\u001b[0mround\u001b[0m\u001b[0;34m(\u001b[0m\u001b[0mjd\u001b[0m\u001b[0;34m[\u001b[0m\u001b[0mjj\u001b[0m\u001b[0;34m]\u001b[0m\u001b[0;34m,\u001b[0m \u001b[0mdecimals\u001b[0m \u001b[0;34m=\u001b[0m \u001b[0;36m6\u001b[0m\u001b[0;34m)\u001b[0m\u001b[0;34m)\u001b[0m\u001b[0;34m,\u001b[0m \u001b[0mstr\u001b[0m\u001b[0;34m(\u001b[0m\u001b[0mnumpy\u001b[0m\u001b[0;34m.\u001b[0m\u001b[0mround\u001b[0m\u001b[0;34m(\u001b[0m\u001b[0mmg\u001b[0m\u001b[0;34m[\u001b[0m\u001b[0mjj\u001b[0m\u001b[0;34m,\u001b[0m\u001b[0mii\u001b[0m\u001b[0;34m]\u001b[0m\u001b[0;34m,\u001b[0m \u001b[0mdecimals\u001b[0m \u001b[0;34m=\u001b[0m \u001b[0;36m6\u001b[0m\u001b[0;34m)\u001b[0m\u001b[0;34m)\u001b[0m\u001b[0;34m,\u001b[0m \u001b[0mstr\u001b[0m\u001b[0;34m(\u001b[0m\u001b[0mnumpy\u001b[0m\u001b[0;34m.\u001b[0m\u001b[0mround\u001b[0m\u001b[0;34m(\u001b[0m\u001b[0mer\u001b[0m\u001b[0;34m[\u001b[0m\u001b[0mjj\u001b[0m\u001b[0;34m,\u001b[0m\u001b[0mii\u001b[0m\u001b[0;34m]\u001b[0m\u001b[0;34m,\u001b[0m \u001b[0mdecimals\u001b[0m \u001b[0;34m=\u001b[0m \u001b[0;36m6\u001b[0m\u001b[0;34m)\u001b[0m\u001b[0;34m)\u001b[0m\u001b[0;34m)\u001b[0m\u001b[0;34m\u001b[0m\u001b[0;34m\u001b[0m\u001b[0m\n\u001b[0m\u001b[1;32m     11\u001b[0m         \u001b[0moutput1\u001b[0m\u001b[0;34m.\u001b[0m\u001b[0mclose\u001b[0m\u001b[0;34m(\u001b[0m\u001b[0;34m)\u001b[0m\u001b[0;34m\u001b[0m\u001b[0;34m\u001b[0m\u001b[0m\n\u001b[1;32m     12\u001b[0m \u001b[0;34m\u001b[0m\u001b[0m\n",
      "\u001b[0;31mTypeError\u001b[0m: write() takes exactly one argument (3 given)"
     ]
    }
   ],
   "source": [
    "#loop through the stars make the light curves right now it is set to 100 to simiplify the code\n",
    "output2=open(lcdir+'starinfo.txtxx', 'w')\n",
    "for ii in range(0, len(idd)): #nstars): \n",
    "    #make a file name from the ticid\n",
    "    nm=str(ids[ii])+'.lcxx'\n",
    "\n",
    "    #write out the light curve\n",
    "    output1=open(lcdir+nm, 'w')\n",
    "    for jj in range(0, nfiles):\n",
    "        output1.write(str(numpy.round(jd[jj], decimals = 6)), str(numpy.round(mg[jj,ii], decimals = 6)), str(numpy.round(er[jj,ii], decimals = 6)))\n",
    "        output1.close()\n",
    "        \n",
    "        #write out the star information for easy access\n",
    "        output2.write('%s %f %f %f %f\\n' %(nm, numpy.round(xm[ii], decimals = 2), numpy.round(ym[ii], decimals = 2), numpy.round(mstmg[ii], decimals = 6), numpy.round(mstmge[ii], decimals = 6)))\n",
    "\n",
    "output2.close()\n",
    "print('All done at '+strftime(\"%a, %d %b %Y %H:%M:%S\")+'. See ya later alligator.')"
   ]
  },
  {
   "cell_type": "code",
   "execution_count": null,
   "metadata": {},
   "outputs": [],
   "source": []
  }
 ],
 "metadata": {
  "kernelspec": {
   "display_name": "Python 3",
   "language": "python",
   "name": "python3"
  },
  "language_info": {
   "codemirror_mode": {
    "name": "ipython",
    "version": 3
   },
   "file_extension": ".py",
   "mimetype": "text/x-python",
   "name": "python",
   "nbconvert_exporter": "python",
   "pygments_lexer": "ipython3",
   "version": "3.6.5"
  }
 },
 "nbformat": 4,
 "nbformat_minor": 2
}
