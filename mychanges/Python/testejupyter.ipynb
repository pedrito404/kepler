{
 "cells": [
  {
   "cell_type": "code",
   "execution_count": 1,
   "metadata": {},
   "outputs": [],
   "source": [
    "#relevant libraries\n",
    "import numpy\n",
    "import astropy\n",
    "import matplotlib.pyplot as plt\n",
    "import matplotlib.image as mpimg\n",
    "from astropy.io import fits"
   ]
  },
  {
   "cell_type": "code",
   "execution_count": 2,
   "metadata": {},
   "outputs": [
    {
     "name": "stdout",
     "output_type": "stream",
     "text": [
      "Filename: gll_iem_v02_P6_V11_DIFFUSE.fit\n",
      "No.    Name      Ver    Type      Cards   Dimensions   Format\n",
      "  0  PRIMARY       1 PrimaryHDU      34   (720, 360, 30)   float32   \n",
      "  1  ENERGIES      1 BinTableHDU     19   30R x 1C   [D]   \n"
     ]
    }
   ],
   "source": [
    "hdulist = fits.open('gll_iem_v02_P6_V11_DIFFUSE.fit')\n",
    "hdulist.info()"
   ]
  },
  {
   "cell_type": "code",
   "execution_count": 3,
   "metadata": {},
   "outputs": [
    {
     "name": "stdout",
     "output_type": "stream",
     "text": [
      "(30, 360, 720)\n"
     ]
    }
   ],
   "source": [
    "hdu = hdulist[0]\n",
    "hdu.data.shape\n",
    "print(hdu.data.shape)"
   ]
  },
  {
   "cell_type": "code",
   "execution_count": 4,
   "metadata": {},
   "outputs": [
    {
     "name": "stdout",
     "output_type": "stream",
     "text": [
      "SIMPLE  =                    T / Written by IDL:  Thu Jan 20 07:19:05 2011      BITPIX  =                  -32 /                                                NAXIS   =                    3 / number of data axes                            NAXIS1  =                  720 / length of data axis 1                          NAXIS2  =                  360 / length of data axis 2                          NAXIS3  =                   30 / length of data axis 3                          EXTEND  =                    T / FITS dataset may contain extensions            COMMENT   FITS (Flexible Image Transport System) format is defined in 'AstronomyCOMMENT   and Astrophysics', volume 376, page 359; bibcode: 2001A&A...376..359H FLUX    =        8.42259635886 /                                                CRVAL1  =                   0. / Value of longitude in pixel CRPIX1             CDELT1  =                  0.5 / Step size in longitude                         CRPIX1  =                360.5 / Pixel that has value CRVAL1                    CTYPE1  = 'GLON-CAR'           / The type of parameter 1 (Galactic longitude in CUNIT1  = 'deg     '           / The unit of parameter 1                        CRVAL2  =                   0. / Value of latitude in pixel CRPIX2              CDELT2  =                  0.5 / Step size in latitude                          CRPIX2  =                180.5 / Pixel that has value CRVAL2                    CTYPE2  = 'GLAT-CAR'           / The type of parameter 2 (Galactic latitude in CCUNIT2  = 'deg     '           / The unit of parameter 2                        CRVAL3  =                  50. / Energy of pixel CRPIX3                         CDELT3  =    0.113828620540137 / log10 of step size in energy (if it is logarithCRPIX3  =                   1. / Pixel that has value CRVAL3                    CTYPE3  = 'photon energy'      / Axis 3 is the spectra                          CUNIT3  = 'MeV     '           / The unit of axis 3                             CHECKSUM= '3fdO3caL3caL3caL'   / HDU checksum updated 2009-07-07T22:31:18       DATASUM = '2184619035'         / data unit checksum updated 2009-07-07T22:31:18 DATE    = '2009-07-07'         /                                                FILENAME= '$TEMPDIR/diffuse/gll_iem_v02.fit' /File name with version number     TELESCOP= 'GLAST   '           /                                                INSTRUME= 'LAT     '           /                                                ORIGIN  = 'LISOC   '           /LAT team product delivered from the LISOC       OBSERVER= 'MICHELSON'          /Instrument PI                                   HISTORY Scaled version of gll_iem_v02.fit for use with P6_V11_DIFFUSE           END                                                                                                                                                             \n"
     ]
    }
   ],
   "source": [
    "hdu.header\n",
    "print(hdu.header)"
   ]
  },
  {
   "cell_type": "code",
   "execution_count": 5,
   "metadata": {},
   "outputs": [
    {
     "data": {
      "text/plain": [
       "'LAT'"
      ]
     },
     "execution_count": 5,
     "metadata": {},
     "output_type": "execute_result"
    }
   ],
   "source": [
    "hdu.header['TELESCOP']\n",
    "hdu.header['INSTRUME']"
   ]
  },
  {
   "cell_type": "code",
   "execution_count": 6,
   "metadata": {},
   "outputs": [
    {
     "data": {
      "text/plain": [
       "<matplotlib.image.AxesImage at 0x7ff8c1d0c080>"
      ]
     },
     "execution_count": 6,
     "metadata": {},
     "output_type": "execute_result"
    },
    {
     "data": {
      "image/png": "[encoded data removed]",
      "text/plain": [
       "<Figure size 432x288 with 1 Axes>"
      ]
     },
     "metadata": {
      "needs_background": "light"
     },
     "output_type": "display_data"
    }
   ],
   "source": [
    "plt.imshow(hdu.data[0,:,:], origin = 'lower')"
   ]
  }
 ],
 "metadata": {
  "kernelspec": {
   "display_name": "Python 3",
   "language": "python",
   "name": "python3"
  },
  "language_info": {
   "codemirror_mode": {
    "name": "ipython",
    "version": 3
   },
   "file_extension": ".py",
   "mimetype": "text/x-python",
   "name": "python",
   "nbconvert_exporter": "python",
   "pygments_lexer": "ipython3",
   "version": "3.7.2"
  }
 },
 "nbformat": 4,
 "nbformat_minor": 2
}
