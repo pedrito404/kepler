{
 "cells": [
  {
   "cell_type": "markdown",
   "metadata": {},
   "source": [
    "# opening a fits"
   ]
  },
  {
   "cell_type": "markdown",
   "metadata": {},
   "source": [
    "### 53 FFIs in total. Each FFI has 84 subfits (85 values, the first is the primary header). I will cut the non scientific lines"
   ]
  },
  {
   "cell_type": "code",
   "execution_count": 4,
   "metadata": {},
   "outputs": [
    {
     "data": {
      "text/html": [
       "<style>.container { width:100% !important; }</style>"
      ],
      "text/plain": [
       "<IPython.core.display.HTML object>"
      ]
     },
     "metadata": {},
     "output_type": "display_data"
    }
   ],
   "source": [
    "%matplotlib inline                           \n",
    "%config InlineBackend.figure_format='retina'       # Melhora a resolucao do plot\n",
    "from IPython.core.display import display, HTML\n",
    "display(HTML(\"<style>.container { width:100% !important; }</style>\"))\n",
    "import matplotlib.pylab as plt                     \n",
    "plt.rcParams['figure.figsize'] = (18.0, 18.0)      \n",
    "from astropy.io import fits, votable               \n",
    "from astropy.table import Table                    \n",
    "from astropy import wcs                            \n",
    "import numpy as np         \n",
    "\n",
    "import scipy\n",
    "from scipy import stats\n",
    "import scipy.ndimage as ndimage\n",
    "import astropy\n",
    "from astropy.io import fits\n",
    "from astropy.nddata.utils import Cutout2D\n",
    "from astropy.wcs import WCS\n",
    "\n",
    "\n",
    "#libraries for image registration\n",
    "import FITS_tools\n",
    "from FITS_tools.hcongrid import hcongrid\n",
    "\n",
    "#import relevant libraries for a list\n",
    "import glob, os\n",
    "from os import listdir\n",
    "from os.path import isfile, join\n",
    "\n",
    "#import relevant spline libraries\n",
    "from scipy.interpolate import Rbf\n",
    "\n",
    "from astropy.stats import biweight_location\n",
    "\n",
    "user = 'usuario'"
   ]
  },
  {
   "cell_type": "markdown",
   "metadata": {},
   "source": [
    "#!/usr/bin/env bash\n",
    "\n",
    "cd if [ -a golden.txt ]; then rm golden.txt fi\n",
    "\n",
    "#find /home/sonic/Documents/Mestrado/FFIs/8_golden/*.fits -type f -execdir basename '{}' ';' > /home/sonic/dia_kepler/mychanges/Python/golden.txt\n",
    "\n",
    "find /home/sonic/Documents/Mestrado/FFIs/8_golden/*.fits -type f > /home/sonic/dia_kepler/mychanges/Python/golden.txt\n",
    "\n",
    "find /home/sonic/Documents/Mestrado/FFIs/*.fits -type f > /home/sonic/dia_kepler/mychanges/Python/allffis.txt"
   ]
  },
  {
   "cell_type": "code",
   "execution_count": null,
   "metadata": {},
   "outputs": [],
   "source": [
    "arquivos = !find *.txt\n",
    "arquivos\n",
    "arq=[]\n",
    "for l in arquivos:\n",
    "    with open(l) as f:\n",
    "        arq.append(f.read().splitlines())\n",
    "for y in range(len(arq)):\n",
    "     arq[y] = np.sort(arq[y])\n",
    "allffis = arq[0]\n",
    "golden = arq[1]"
   ]
  },
  {
   "cell_type": "markdown",
   "metadata": {},
   "source": [
    "### Kepler CCD\n",
    "<img src=\"CCD_blockdiagram1.jpg\">\n",
    "### Tess CCD\n",
    "<img src=\"./tess_ccd.png\">"
   ]
  },
  {
   "cell_type": "code",
   "execution_count": null,
   "metadata": {},
   "outputs": [],
   "source": [
    "for i in allffis:\n",
    "    hdul = fits.HDUList()\n",
    "    hdul.append(fits.PrimaryHDU())\n",
    "    hdulist = fits.open(i)\n",
    "    for j in range(1,len(hdulist)):#      cada uma das 84 imagens\n",
    "        data2 = hdulist[j].data[20:1044,12:1112]\n",
    "        header1 = hdulist[0].header\n",
    "        header = hdulist[j].header\n",
    "        w = astropy.wcs.WCS(header)\n",
    "        header['NAXIS1']=1100\n",
    "        header['NAXIS2']=1024\n",
    "        header['CRPIX1']=533\n",
    "        header['CRPIX2']=521\n",
    "        header['QUARTER']=header1['QUARTER']\n",
    "        header['SEASON']=header1['SEASON']\n",
    "        wcs_cropped = w[20:1044,12:1112]\n",
    "        header.update(wcs_cropped.to_header(relax=True))\n",
    "\n",
    "        hdul.append(fits.ImageHDU(data2,header = header))\n",
    "\n",
    "        hdul.writeto('/home/' + user + '/Documents/Mestrado/FFIs/testeall/'+ i.split('/')[-1], overwrite=True)"
   ]
  }
 ],
 "metadata": {
  "kernelspec": {
   "display_name": "Python 3",
   "language": "python",
   "name": "python3"
  },
  "language_info": {
   "codemirror_mode": {
    "name": "ipython",
    "version": 3
   },
   "file_extension": ".py",
   "mimetype": "text/x-python",
   "name": "python",
   "nbconvert_exporter": "python",
   "pygments_lexer": "ipython3",
   "version": "3.6.5"
  }
 },
 "nbformat": 4,
 "nbformat_minor": 2
}
