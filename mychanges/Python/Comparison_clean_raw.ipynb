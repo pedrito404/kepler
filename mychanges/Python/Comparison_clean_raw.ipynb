{
 "cells": [
  {
   "cell_type": "code",
   "execution_count": 33,
   "metadata": {},
   "outputs": [],
   "source": [
    "#this program will combine images to make a master frame\n",
    "\n",
    "#if you use this code, please cite Oelkers & Stassun 2018\n",
    "\n",
    "#import the relevant libraries for basic tools\n",
    "#import pyfits\n",
    "import astropy.io.fits\n",
    "import numpy as np\n",
    "import scipy\n",
    "from scipy import stats\n",
    "from os import path\n",
    "import math\n",
    "import time\n",
    "import csv\n",
    "import astropy\n",
    "#import pyearth\n",
    "\n",
    "#import relevant libraries for a list\n",
    "import glob, os\n",
    "from os import listdir\n",
    "from os.path import isfile, join, exists\n",
    "#from pyfits import getheader #new libraries added\n",
    "from astropy.io import fits\n",
    "from astropy.wcs import wcs\n",
    "from astropy.io.fits import getval\n",
    "from astropy.nddata.utils import Cutout2D"
   ]
  },
  {
   "cell_type": "code",
   "execution_count": 34,
   "metadata": {},
   "outputs": [],
   "source": [
    "import pandas as pd\n",
    "\n",
    "user='usuario'\n",
    "#useful directories\n",
    "rawdir = '/home/'+user+'/Documents/Mestrado/FFIs/testeall/' #directory with the raw images\n",
    "cdedir = '/home/'+user+'/dia_kepler/mychanges/Python/' #directory where the code 'lives'\n",
    "clndir = '/home/'+user+'/Documents/Mestrado/FFIs/testeall/clean/'#directory for the cleaned images to be output\n",
    "old='/home/'+user+'/Documents/Mestrado/FFIs/'\n",
    "#get the image list and the number of files which need reduction\n",
    "os.chdir(rawdir) #changes to the raw image direcotory\n",
    "files = [f for f in glob.glob(\"*.fits\") if isfile(join(rawdir, f))] #gets the relevant files with the proper extension\n",
    "files.sort()\n",
    "nfiles = len(files)\n",
    "os.chdir(cdedir) #changes back to the code directory"
   ]
  },
  {
   "cell_type": "code",
   "execution_count": 35,
   "metadata": {},
   "outputs": [
    {
     "data": {
      "text/plain": [
       "'kplr2009114174833_ffi-cal_sa.fits'"
      ]
     },
     "execution_count": 35,
     "metadata": {},
     "output_type": "execute_result"
    }
   ],
   "source": [
    "import matplotlib.pyplot as plt\n",
    "file_test = files[0]\n",
    "\n",
    "cleansplit = file_test.split(\".\")\n",
    "\n",
    "file_test_clean = cleansplit[0]+\"_sa.\" +cleansplit[1]\n",
    "file_test_clean"
   ]
  },
  {
   "cell_type": "code",
   "execution_count": 48,
   "metadata": {
    "collapsed": true
   },
   "outputs": [
    {
     "name": "stdout",
     "output_type": "stream",
     "text": [
      "0.3383301033501318\n",
      "0.07722832089054621\n",
      "0.12514502400259706\n",
      "0.49923735961977306\n",
      "0.21217899145922942\n",
      "0.5383930299038701\n",
      "0.11093238046334358\n",
      "0.18906376829508395\n",
      "0.8266640455086609\n",
      "0.5598736798558975\n",
      "0.014934620740599246\n",
      "0.47555311056082145\n",
      "0.3622492405145266\n",
      "0.28549261108717616\n",
      "0.2710849935551769\n",
      "1.082934942309525\n",
      "-0.04677726705998855\n",
      "0.7787104986279187\n",
      "0.006121826882899945\n",
      "0.13369203021420617\n",
      "1.3746114465310162\n",
      "0.1691453696047955\n",
      "0.8814577867439481\n",
      "0.09833672033794581\n",
      "0.6323723472974321\n",
      "0.767196264356772\n",
      "0.5016069194629368\n",
      "0.3611343155763106\n",
      "0.9755395057143914\n",
      "-0.02119338242492682\n",
      "-0.143720464177657\n",
      "0.4355831945789783\n",
      "0.1192031675825182\n",
      "0.17374449088900867\n",
      "0.18600372863849052\n",
      "-0.16317886435267587\n",
      "0.6777718631603382\n",
      "0.62675630917935\n",
      "0.021508999732567525\n",
      "0.3846488537149226\n",
      "0.5389043897920636\n",
      "0.7405287932933888\n",
      "1.3912764377152531\n",
      "0.7236065188014676\n",
      "0.1811357583989772\n",
      "0.4413769148824896\n",
      "-0.18503214181547434\n",
      "0.868787127099311\n",
      "0.24056128832302173\n",
      "1.020933065791184\n",
      "0.7186729877250894\n",
      "-0.5082390978017802\n",
      "0.3774217261714074\n",
      "0.21088937878462563\n",
      "0.46883900745725343\n",
      "0.7852404931158088\n",
      "0.34527434046814465\n",
      "0.8147513410825282\n",
      "0.5925537321297089\n",
      "0.42586396619647937\n",
      "0.1821020843424437\n",
      "0.9531939273589665\n",
      "1.0067241811132943\n",
      "1.5030030545908826\n",
      "1.183325356565633\n",
      "0.8649788848093115\n",
      "0.747656065378389\n",
      "2.6991981943481065\n",
      "0.03351342965354506\n",
      "0.8454938529920615\n",
      "1.7440365109232774\n",
      "0.13317511016557773\n",
      "0.3189120699680374\n",
      "0.7738999814175717\n",
      "0.6112802627009594\n",
      "0.25434644132461287\n",
      "1.3297532820719271\n",
      "0.3525396277735852\n",
      "1.8862694305324317\n",
      "1.4936349441157404\n",
      "0.26943335461364976\n",
      "0.618904445399735\n",
      "-0.14310909370295122\n",
      "0.32617702406257587\n"
     ]
    }
   ],
   "source": [
    "hdu = fits.open(rawdir+file_test)\n",
    "hdu2 = fits.open(clndir+file_test_clean)\n",
    "len(hdu)\n",
    "noise_median = []\n",
    "for i in range(1,len(hdu)):#,10):\n",
    "    data_raw = hdu[i].data\n",
    "    data_clean = hdu2[i].data\n",
    "    noise = data_raw - data_clean\n",
    "    dif = np.median(data_raw)-np.median(data_clean)\n",
    "    noise_percent_raw = 100*dif/np.median(data_raw)\n",
    "    print(noise_percent_raw)\n",
    "    #print(i,' eh ',noise_percent)\n",
    "    result = fits.PrimaryHDU(noise)\n",
    "    result.writeto(clndir+'noise'+str(i),overwrite=True)"
   ]
  }
 ],
 "metadata": {
  "kernelspec": {
   "display_name": "Python 3",
   "language": "python",
   "name": "python3"
  },
  "language_info": {
   "codemirror_mode": {
    "name": "ipython",
    "version": 3
   },
   "file_extension": ".py",
   "mimetype": "text/x-python",
   "name": "python",
   "nbconvert_exporter": "python",
   "pygments_lexer": "ipython3",
   "version": "3.6.5"
  }
 },
 "nbformat": 4,
 "nbformat_minor": 2
}
