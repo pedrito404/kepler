{
 "cells": [
  {
   "cell_type": "code",
   "execution_count": 14,
   "metadata": {},
   "outputs": [],
   "source": [
    "import numpy as np\n",
    "import scipy\n",
    "from scipy import stats\n",
    "import scipy.ndimage as ndimage\n",
    "import astropy\n",
    "from astropy.stats import sigma_clipped_stats\n",
    "import math\n",
    "import time\n",
    "from photutils import DAOStarFinder\n",
    "from photutils import aperture_photometry\n",
    "from photutils import CircularAperture\n",
    "from photutils import CircularAnnulus\n",
    "\n",
    "#for reading in fits files\n",
    "from astropy.io import fits\n",
    "from astropy.wcs import WCS\n",
    "\n",
    "#import relevant libraries for a list\n",
    "import glob, os\n",
    "from os import listdir\n",
    "from os.path import isfile, join, exists\n",
    "%matplotlib inline                           \n",
    "%config InlineBackend.figure_format='retina'      \n",
    "from IPython.core.display import display, HTML\n",
    "#display(HTML(\"<style>.container { width:100% !important; }</style>\"))\n",
    "import matplotlib.pylab as plt                     \n",
    "plt.rcParams['figure.figsize'] = (14.0, 14.0)    \n",
    "import pandas as pd"
   ]
  },
  {
   "cell_type": "code",
   "execution_count": 15,
   "metadata": {},
   "outputs": [],
   "source": [
    "file = \"/home/usuario/Documents/Mestrado/FFIs/testeall/clean/masters/kic_cut.csv\"\n",
    "kic2 = pd.read_csv(file,sep=',',header=[0])\n",
    "\n",
    "kic_sem_mag = kic2[(kic2.kic_kepmag.isna()) & (kic2.kct_num_season_onCCD!=0)]\n",
    "kic_com_mag = kic2[(kic2.kic_kepmag.notna()) & (kic2.kct_num_season_onCCD!=0)]\n",
    "kic_visto = kic2[(kic2.kct_num_season_onCCD!=0)]"
   ]
  },
  {
   "cell_type": "code",
   "execution_count": 16,
   "metadata": {},
   "outputs": [],
   "source": [
    "def kic_skygroup(vector,n_sky):\n",
    "    new = vector[(vector.kct_sky_group_id_value==n_sky)]\n",
    "    return new"
   ]
  },
  {
   "cell_type": "code",
   "execution_count": 17,
   "metadata": {},
   "outputs": [],
   "source": [
    "def coord_min(x,y,xs,ys):\n",
    "    array=[]\n",
    "    dif=[]\n",
    "    closest=[]\n",
    "    sigmax = np.std(xs)\n",
    "    sigmay = np.std(ys)\n",
    "    for i in range(len(xs)):\n",
    "        if abs(x - xs[i])<sigmax/50 and abs(y - ys[i])<sigmay/50:\n",
    "            #array.append([xs[i],ys[i]])\n",
    "            dif.append(np.sqrt((x - xs[i])**2+(y - ys[i])**2))\n",
    "            if np.min(dif) == np.sqrt((x - xs[i])**2+(y - ys[i])**2):\n",
    "                closest.append([xs[i],ys[i]])\n",
    "    return closest[-1]"
   ]
  },
  {
   "cell_type": "markdown",
   "metadata": {},
   "source": [
    "## Here I define which season"
   ]
  },
  {
   "cell_type": "code",
   "execution_count": 18,
   "metadata": {},
   "outputs": [],
   "source": [
    "caldir = '/home/usuario/Documents/Mestrado/FFIs/testeall/clean/masters/season3/'\n",
    "#get the positions from the star list if one is provided \n",
    "os.chdir(caldir) #changes to the raw image directory\n",
    "files = [f for f in glob.glob(\"*.fits\") if isfile(join(caldir, f))]\n",
    "files.sort()"
   ]
  },
  {
   "cell_type": "code",
   "execution_count": 19,
   "metadata": {},
   "outputs": [
    {
     "name": "stdout",
     "output_type": "stream",
     "text": [
      "/home/usuario/Documents/Mestrado/FFIs/testeall/clean/masters/season3\r\n"
     ]
    }
   ],
   "source": [
    "!pwd"
   ]
  },
  {
   "cell_type": "code",
   "execution_count": 20,
   "metadata": {},
   "outputs": [
    {
     "name": "stdout",
     "output_type": "stream",
     "text": [
      "16\n",
      "17\n",
      "18\n",
      "19\n",
      "20\n"
     ]
    },
    {
     "name": "stderr",
     "output_type": "stream",
     "text": [
      "/home/usuario/anaconda3/lib/python3.6/site-packages/ipykernel_launcher.py:57: RuntimeWarning: invalid value encountered in sqrt\n",
      "/home/usuario/anaconda3/lib/python3.6/site-packages/ipykernel_launcher.py:62: RuntimeWarning: invalid value encountered in log10\n"
     ]
    },
    {
     "name": "stdout",
     "output_type": "stream",
     "text": [
      "21\n",
      "22\n",
      "23\n",
      "24\n",
      "25\n",
      "26\n",
      "27\n",
      "28\n",
      "29\n",
      "30\n",
      "31\n",
      "32\n",
      "33\n",
      "34\n",
      "35\n",
      "36\n",
      "37\n",
      "38\n",
      "39\n",
      "40\n",
      "41\n",
      "42\n",
      "43\n",
      "44\n",
      "45\n",
      "46\n",
      "47\n",
      "48\n",
      "49\n"
     ]
    },
    {
     "name": "stderr",
     "output_type": "stream",
     "text": [
      "/home/usuario/anaconda3/lib/python3.6/site-packages/ipykernel_launcher.py:29: RuntimeWarning: invalid value encountered in log10\n",
      "/home/usuario/anaconda3/lib/python3.6/site-packages/ipykernel_launcher.py:30: RuntimeWarning: invalid value encountered in log10\n",
      "/home/usuario/anaconda3/lib/python3.6/site-packages/numpy/lib/function_base.py:4033: RuntimeWarning: Invalid value encountered in median\n",
      "  r = func(a, **kwargs)\n"
     ]
    },
    {
     "name": "stdout",
     "output_type": "stream",
     "text": [
      "50\n",
      "51\n",
      "52\n",
      "53\n",
      "54\n",
      "55\n",
      "56\n",
      "57\n",
      "58\n",
      "59\n"
     ]
    },
    {
     "name": "stderr",
     "output_type": "stream",
     "text": [
      "/home/usuario/anaconda3/lib/python3.6/site-packages/ipykernel_launcher.py:62: RuntimeWarning: divide by zero encountered in log10\n",
      "/home/usuario/anaconda3/lib/python3.6/site-packages/ipykernel_launcher.py:63: RuntimeWarning: divide by zero encountered in true_divide\n",
      "/home/usuario/anaconda3/lib/python3.6/site-packages/ipykernel_launcher.py:63: RuntimeWarning: invalid value encountered in true_divide\n"
     ]
    },
    {
     "name": "stdout",
     "output_type": "stream",
     "text": [
      "60\n",
      "61\n",
      "62\n",
      "63\n",
      "64\n",
      "65\n",
      "66\n",
      "67\n",
      "68\n",
      "69\n",
      "70\n",
      "71\n",
      "72\n",
      "73\n",
      "74\n",
      "75\n",
      "76\n",
      "77\n",
      "78\n",
      "79\n",
      "80\n",
      "81\n",
      "82\n",
      "83\n",
      "84\n"
     ]
    }
   ],
   "source": [
    "for i in range(16,len(files)+1):\n",
    "    print(i)\n",
    "    a = fits.open(files[i-1])\n",
    "    mast = fits.getdata(caldir+files[i-1])\n",
    "    w = WCS(a[1].header,'image')\n",
    "    table = kic_skygroup(kic_visto,i)\n",
    "    kicid = np.array(table.kic_kepler_id)\n",
    "    kmag = np.array(table.kic_kepmag)\n",
    "    ra = table.kic_degree_ra\n",
    "    dec = table.kic_dec\n",
    "    #print(len(ra),len(dec))\n",
    "    x, y = w.all_world2pix(ra, dec,0,ra_dec_order=True,detect_divergence=True)\n",
    "    positions = (x, y)\n",
    "\n",
    "    rads = np.arange(2,5,.25) \n",
    "\n",
    "    #do the aperture photometry and find the optimal aperture\n",
    "    apertures = [CircularAperture(positions, r=r) for r in rads]\n",
    "    phot_table = aperture_photometry(mast, apertures, method = 'exact')\n",
    "    idx = 0\n",
    "\n",
    "    offset = np.zeros((len(rads),len(x)))\n",
    "    for ii in range(0, len(x)):\n",
    "        if (x[ii] > 3) and (x[ii] < 1097) and (y[ii] > 3) and (y[ii] < 1021):\n",
    "            dist = np.sqrt((x[ii]-x)**2+(y[ii]-y)**2)\n",
    "            chk = np.where(dist < 6.)\n",
    "            if (len(chk[0]) == 1):\n",
    "                for jj in range(1, len(rads)):\n",
    "                    mg1 = 25.-2.5*np.log10(phot_table[ii][jj+3])\n",
    "                    mg0 = 25.-2.5*np.log10(phot_table[ii][jj+2])\n",
    "                    offset[jj,ii] = mg1-mg0\n",
    "    \n",
    "\n",
    "    prv = 1.\n",
    "    opt_rad = 10.\n",
    "    for ii in range(0, len(rads)):\n",
    "        chk = np.median(offset[ii,:])\n",
    "\n",
    "        if (np.abs(chk-prv) <= 0.001) and (rads[ii] < opt_rad):\t\n",
    "            opt_rad = rads[ii]\n",
    "            #print('The optimal aperture size is '+str(opt_rad)+'.')\n",
    "        if (np.abs(chk-prv) > 0.001):\n",
    "            prv = chk\n",
    "\n",
    "    #do the aperture photometry\n",
    "    apertures = CircularAperture(positions, r = opt_rad)\n",
    "    phot_table = aperture_photometry(mast, apertures, method = 'exact')\n",
    "\n",
    "    #get the background of the image\n",
    "    cimg, clow, chigh = scipy.stats.sigmaclip(mast, low=2.5, high = 2.5) #do a 2.5 sigma clipping\n",
    "    bkg_mean = np.median(cimg) #determine the sky value\n",
    "    sig = np.std(cimg) #determine the sigma(sky)\n",
    "\n",
    "    #convert to magnitudes\n",
    "    #aqui nao estou retirando background das imagens de ref\n",
    "    flx = phot_table['aperture_sum']#-(bkg_mean*(np.pi*opt_rad**2))\n",
    "    flx_er = np.sqrt(phot_table['aperture_sum'])\n",
    "    x_pix = x\n",
    "    y_pix = y\n",
    "\n",
    "    #create the magnitudes from the flux\n",
    "    mag = 25.0-2.5*np.log10(flx)\n",
    "    err = (2.5/np.log(10.))*(flx_er/flx)\n",
    "\n",
    "    #write the magnitudes to a file\n",
    "    output = open(caldir+str(i)+'_master.ap', 'w')\n",
    "    for ii in range(0,len(phot_table['id'])):\n",
    "        if (x_pix[ii] > 3) and (x_pix[ii] < 1097) and (y_pix[ii] > 3) and (y_pix[ii] < 1021) and (np.isnan(mag[ii]) == False):\n",
    "            output.write(str(kicid[ii])+','+str(x_pix[ii])+','+str(y_pix[ii])+','+str(kmag[ii])+','+str(mag[ii])+','+str(err[ii])+'\\n')\n",
    "    output.close()\n",
    "\n",
    "    #write the fluxes to a file\n",
    "    output = open(caldir+str(i)+'_master.flux', 'w')\n",
    "    for ii in range(0, len(phot_table['id'])):\n",
    "        if (x_pix[ii] > 3) and (x_pix[ii] < 1097) and (y_pix[ii] > 3) and (y_pix[ii] < 1021) and (np.isnan(mag[ii]) == False):\n",
    "            output.write(str(kicid[ii])+','+str(x_pix[ii])+','+str(y_pix[ii])+','+str(flx[ii])+','+str(flx_er[ii])+'\\n')\n",
    "    output.close()\n",
    "\n",
    "    #write the star list to a file\n",
    "    output = open(caldir+str(i)+'_starlist.txt', 'w')\n",
    "    for ii in range(0, len(phot_table['id'])):\n",
    "        if (x_pix[ii] > 3) and (x_pix[ii] < 1097) and (y_pix[ii] > 3) and (y_pix[ii] < 1021) and (np.isnan(mag[ii]) == False):\n",
    "            output.write(str(kicid[ii])+','+str(x_pix[ii])+','+str(y_pix[ii])+'\\n')\n",
    "    output.close()"
   ]
  },
  {
   "cell_type": "markdown",
   "metadata": {},
   "source": [
    "## After you have to take out the module_3 images and tables of each season, which are:"
   ]
  },
  {
   "cell_type": "markdown",
   "metadata": {},
   "source": [
    "### 77,78,79,80 for season 0\n",
    "### 33,34,35,36 for season 1\n",
    "### 5,6,7,8         for season 2\n",
    "### 49,50,51,52 for season 3"
   ]
  }
 ],
 "metadata": {
  "kernelspec": {
   "display_name": "Python 3",
   "language": "python",
   "name": "python3"
  },
  "language_info": {
   "codemirror_mode": {
    "name": "ipython",
    "version": 3
   },
   "file_extension": ".py",
   "mimetype": "text/x-python",
   "name": "python",
   "nbconvert_exporter": "python",
   "pygments_lexer": "ipython3",
   "version": "3.6.5"
  }
 },
 "nbformat": 4,
 "nbformat_minor": 2
}
