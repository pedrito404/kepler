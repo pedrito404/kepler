{
 "cells": [
  {
   "cell_type": "code",
   "execution_count": null,
   "metadata": {},
   "outputs": [],
   "source": [
    "import glob, os\n",
    "from os import listdir\n",
    "from os.path import isfile, join\n",
    "from astropy.io import fits\n",
    "import numpy as np\n",
    "from astropy.wcs import WCS\n",
    "from FITS_tools.hcongrid import hcongrid\n",
    "from astropy.nddata.utils import Cutout2D\n",
    "from astropy.stats import sigma_clipped_stats\n",
    "import scipy\n",
    "from scipy import stats"
   ]
  },
  {
   "cell_type": "markdown",
   "metadata": {},
   "source": [
    "# Functions"
   ]
  },
  {
   "cell_type": "code",
   "execution_count": 1,
   "metadata": {},
   "outputs": [
    {
     "data": {
      "text/plain": [
       "(256.0, 275.0)"
      ]
     },
     "execution_count": 1,
     "metadata": {},
     "output_type": "execute_result"
    }
   ],
   "source": [
    "#creating a new background program for rectangle images\n",
    "\n",
    "#maximo divisor comum\n",
    "def mdc(m,n):\n",
    "    div = min(m,n)\n",
    "    big = max(m,n)\n",
    "    remain = big % div\n",
    "    while remain != 0:\n",
    "        big = div\n",
    "        div = remain\n",
    "        remain = big % div\n",
    "    return div\n",
    "\n",
    "# retorna os valores de x e y divididos pelo mdc deles\n",
    "def mdc_div(x,y):\n",
    "    first = mdc(x,y)\n",
    "    xn,yn = x/first,y/first\n",
    "    if first != 1:\n",
    "        return xn,yn\n",
    "\n",
    "mdc_div(1024,1100)"
   ]
  },
  {
   "cell_type": "code",
   "execution_count": 39,
   "metadata": {},
   "outputs": [],
   "source": [
    "user='sonic'\n",
    "\n",
    "rawdir = '/home/'+user+'/Documents/Mestrado/FFIs/8_golden/teste/' #directory with the raw images\n",
    "cdedir = '/home/'+user+'/dia_kepler/mychanges/Python/' #directory where the code 'lives'\n",
    "clndir = '/home/'+user+'/Documents/Mestrado/FFIs/8_golden/teste/teste_clean/'#directory for the cleaned images to be output\n",
    "\n",
    "#get the image list and the numberuction\n",
    "os.chdir(rawdir) #changes to the raw image direcotory\n",
    "files = [f for f in glob.glob(\"*.fits\") if isfile(join(rawdir, f))] #gets the relevant files with the proper extension\n",
    "files.sort()\n",
    "nfiles = len(files)\n",
    "os.chdir(cdedir) #changes back to the code directory\n",
    "\n",
    "hdulist = fits.open(rawdir+files[0])\n",
    "n_images = len(hdulist)-1\n",
    "\n",
    "#if your matrix begins in zero:\n",
    "\n",
    "# for j in range(1,len(hdulist)):\n",
    "header = hdulist[1].header\n",
    "w=WCS(header)\n",
    "orgimg = hdulist[1].data\n",
    "\n",
    "axs1, axs2 = np.shape(orgimg)\n",
    "#se os axs1 e axs2 forem par, essa posição central será deslocada para uma a direita na linha e uma abaixo na col\n",
    "#se ímpar sera no centro mesmo\n",
    "cut = Cutout2D(orgimg,(int(axs2/2),int(axs1/2)),(axs1,axs2), wcs=w)\n",
    "bigimg=cut.data\n",
    "if np.min(bigimg) < 0:\n",
    "    bigimg=bigimg+np.min(bigimg)\n",
    "    add=1# variavel que eu vou ver se foi adicionado no final - lembrar dela\n",
    "\n",
    "#creating the matrices that will be populate by the bck, sky values and etc\n",
    "background = np.zeros((axs1,axs2))\n",
    "mini_back = np.zeros((axs1,axs2))"
   ]
  },
  {
   "cell_type": "code",
   "execution_count": 18,
   "metadata": {},
   "outputs": [
    {
     "data": {
      "text/plain": [
       "(array([0, 1, 1, 2]), array([1, 0, 1, 2]))"
      ]
     },
     "execution_count": 18,
     "metadata": {},
     "output_type": "execute_result"
    }
   ],
   "source": [
    "teste= np.array([[1,2,1],[2,2,1],[1,1,2]])\n",
    "teste1 = np.where(teste==1,teste,0)\n",
    "teste2=np.where(teste==2,teste,0)\n",
    "teste3=np.where(teste>1)\n",
    "teste3"
   ]
  },
  {
   "cell_type": "code",
   "execution_count": 5,
   "metadata": {},
   "outputs": [],
   "source": [
    "#comparing blocks of 256 X 275 and mini blocks of 64 X 55 \n",
    "cut_line = int(mdc_div(1024,1100)[0])\n",
    "cut_mini_line = int(cut_line/4)\n",
    "\n",
    "cut_col = int(mdc_div(1024,1100)[1])\n",
    "cut_mini_col = int(cut_col/5)"
   ]
  },
  {
   "cell_type": "markdown",
   "metadata": {},
   "source": [
    "# astropy image"
   ]
  },
  {
   "cell_type": "code",
   "execution_count": 6,
   "metadata": {
    "scrolled": false
   },
   "outputs": [],
   "source": [
    "for k in range(0,axs2,cut_col):\n",
    "    for l in range(0,axs1,cut_line):\n",
    "        img = bigimg[l:l+cut_line,k:k+cut_col]\n",
    "        \n",
    "        #astropy routine - uses the median to define the center - slower:\n",
    "        mean, sky, sig = sigma_clipped_stats(img, sigma=2.5)\n",
    "        background[l:l+cut_line,k:k+cut_col] = sky\n",
    "        sigma[l:l+cut_line,k:k+cut_col] = sig\n",
    "            \n",
    "for m in range(0,axs2,cut_mini_col):\n",
    "    for n in range(0,axs1,cut_mini_line):\n",
    "        mini_img = bigimg[n:n+cut_mini_line,m:m+cut_mini_col]\n",
    "        \n",
    "        #astropy routine - uses the median to define the center - slower:\n",
    "        mmean, msky, msig = sigma_clipped_stats(mini_img, sigma = 2.5)\n",
    "        mini_back[n:n+cut_mini_line,m:m+cut_mini_col] = msky\n",
    "\n",
    "sub = bigimg - mini_back + background\n",
    "\n",
    "finme = \"astropy.fits\"       \n",
    "shd = fits.PrimaryHDU(sub, header=header)\n",
    "shd.writeto(clndir+finme,overwrite=True)"
   ]
  },
  {
   "cell_type": "markdown",
   "metadata": {},
   "source": [
    "# scipy image"
   ]
  },
  {
   "cell_type": "code",
   "execution_count": 7,
   "metadata": {},
   "outputs": [],
   "source": [
    "for k in range(0,axs2,cut_col):\n",
    "    for l in range(0,axs1,cut_line):\n",
    "        #creating the small matrices\n",
    "        img = bigimg[l:l+cut_line,k:k+cut_col]\n",
    "        \n",
    "        #scipy routine- uses the mean to define the center - faster:       \n",
    "        cimg, clow, chigh = scipy.stats.sigmaclip(img, low=2.5, high = 2.5) #do a 2.5 sigma clipping\n",
    "        sky = np.median(cimg) #determine the sky value\n",
    "        background[l:l+cut_line,k:k+cut_col] = sky\n",
    "            \n",
    "for m in range(0,axs2,cut_mini_col):\n",
    "    for n in range(0,axs1,cut_mini_line):\n",
    "        mini_img = bigimg[n:n+cut_mini_line,m:m+cut_mini_col]\n",
    "        \n",
    "        #scipy routine - uses the mean to define the center - faster:        \n",
    "        cc, cclow, cchigh = scipy.stats.sigmaclip(mini_img, low=2.5, high = 2.5) #do a 2.5 sigma clipping\n",
    "        msky = np.median(cc) #determine the sky value\n",
    "        mini_back[n:n+cut_mini_line,m:m+cut_mini_col] = msky\n",
    "\n",
    "sub = bigimg - mini_back + background\n",
    "\n",
    "finme = \"scipy.fits\"       \n",
    "chd = fits.PrimaryHDU(sub, header=header)\n",
    "chd.writeto(clndir+finme,overwrite=True)"
   ]
  },
  {
   "cell_type": "code",
   "execution_count": 41,
   "metadata": {},
   "outputs": [],
   "source": [
    "clndir = '/home/'+user+'/Documents/Mestrado/FFIs/8_golden/teste/teste_clean/'#directory for the cleaned images to be output\n",
    "\n",
    "#get the image list and the numberuction\n",
    "os.chdir(clndir) \n",
    "\n",
    "original = \"kplr2009114174833_ffi-cal.fits\"\n",
    "astropy = \"astropy.fits\"\n",
    "scipy= \"scipy.fits\"\n",
    "ryan=\"ryan.fits\"\n",
    "orig = fits.getdata(clndir+original)\n",
    "ast = fits.getdata(clndir+astropy)\n",
    "sci = fits.getdata(clndir+scipy)\n",
    "ry=fits.getdata(clndir+ryan)"
   ]
  },
  {
   "cell_type": "markdown",
   "metadata": {},
   "source": [
    "# Astropy-orig"
   ]
  },
  {
   "cell_type": "code",
   "execution_count": 8,
   "metadata": {},
   "outputs": [],
   "source": [
    "a = ast-orig\n",
    "hdu = fits.PrimaryHDU(a)\n",
    "hdu.writeto(clndir+'ast-or',overwrite=True)"
   ]
  },
  {
   "cell_type": "markdown",
   "metadata": {},
   "source": [
    "# Scipy-orig"
   ]
  },
  {
   "cell_type": "code",
   "execution_count": 9,
   "metadata": {},
   "outputs": [],
   "source": [
    "b = sci-orig\n",
    "hdv = fits.PrimaryHDU(b)\n",
    "hdv.writeto(clndir+'sci-or',overwrite=True)"
   ]
  },
  {
   "cell_type": "markdown",
   "metadata": {},
   "source": [
    "# Scipy-astropy"
   ]
  },
  {
   "cell_type": "code",
   "execution_count": 10,
   "metadata": {},
   "outputs": [],
   "source": [
    "c = sci-ast\n",
    "hdw = fits.PrimaryHDU(c)\n",
    "hdw.writeto(clndir+'sci-ast',overwrite=True)"
   ]
  },
  {
   "cell_type": "markdown",
   "metadata": {},
   "source": [
    "# Astropy-Scipy"
   ]
  },
  {
   "cell_type": "code",
   "execution_count": 11,
   "metadata": {},
   "outputs": [],
   "source": [
    "d = ast-sci\n",
    "hdx = fits.PrimaryHDU(d)\n",
    "hdx.writeto(clndir+'ast-sci',overwrite=True)"
   ]
  },
  {
   "cell_type": "markdown",
   "metadata": {},
   "source": [
    "# Ryan-orig"
   ]
  },
  {
   "cell_type": "code",
   "execution_count": 44,
   "metadata": {},
   "outputs": [],
   "source": [
    "e= ry-orig[:,:1024]\n",
    "hdz=fits.PrimaryHDU(e)\n",
    "hdz.writeto(clndir+'ryan-orig',overwrite=True)"
   ]
  },
  {
   "cell_type": "markdown",
   "metadata": {},
   "source": [
    "# Astropy-ryan"
   ]
  },
  {
   "cell_type": "code",
   "execution_count": 45,
   "metadata": {},
   "outputs": [],
   "source": [
    "f= ast[:,:1024]-ry\n",
    "hda=fits.PrimaryHDU(f)\n",
    "hda.writeto(clndir+'ast-ryan',overwrite=True)"
   ]
  },
  {
   "cell_type": "markdown",
   "metadata": {},
   "source": [
    "## Vamos modificar o meu astropy para o ryan aqui"
   ]
  },
  {
   "cell_type": "code",
   "execution_count": null,
   "metadata": {},
   "outputs": [],
   "source": [
    "#teste para o astropy parecer o Ryan\n",
    "\n",
    "# for k in range(0,axs2,cut_col):\n",
    "#     for l in range(0,axs1,cut_line):\n",
    "#         img = bigimg[l:l+cut_line,k:k+cut_col]\n",
    "        \n",
    "#         #astropy routine - uses the median to define the center - slower:\n",
    "#         mean, sky, sig = sigma_clipped_stats(img, sigma=2.5)\n",
    "#         background[l:l+cut_line,k:k+cut_col] = sky\n",
    "#         sigma[l:l+cut_line,k:k+cut_col] = sig\n",
    "            \n",
    "# for m in range(0,axs2,cut_mini_col):\n",
    "#     for n in range(0,axs1,cut_mini_line):\n",
    "#         mini_img = bigimg[n:n+cut_mini_line,m:m+cut_mini_col]\n",
    "        \n",
    "#         #astropy routine - uses the median to define the center - slower:\n",
    "#         mmean, msky, msig = sigma_clipped_stats(mini_img, sigma = 2.5)\n",
    "#         mini_back[n:n+cut_mini_line,m:m+cut_mini_col] = msky\n",
    "\n",
    "# sub = bigimg - mini_back + background\n",
    "\n",
    "# finme = \"astropy.fits\"       \n",
    "# shd = fits.PrimaryHDU(sub, header=header)\n",
    "# shd.writeto(clndir+finme,overwrite=True)"
   ]
  },
  {
   "cell_type": "code",
   "execution_count": 12,
   "metadata": {},
   "outputs": [],
   "source": [
    "# def dif_div(x,y):\n",
    "#     b = min(x,y)\n",
    "#     a = max(x,y)\n",
    "#     if a%b ==0:\n",
    "#         c = b-1\n",
    "#         while b % c != 0:\n",
    "#             c = c-1\n",
    "#             if x == a:\n",
    "#                 return b,a\n",
    "#             else:\n",
    "#                 return a,b\n",
    "#     else:\n",
    "#         while a % b != 0:\n",
    "#             b=b-1\n",
    "#         c = min(x,y)\n",
    "#         d=c-1\n",
    "#         while c % d != 0:\n",
    "#             d = d-1\n",
    "#         #print('maior divisao de ',a,'eh ', b, \"e de \", c, \"eh\", d)\n",
    "#         if x == a:\n",
    "#             return b,d\n",
    "#         else:\n",
    "#             return d,b\n",
    "# #     else:\n",
    "# #         print(\"There is an mdc but the numbers are\")\n",
    "# #         if x == a:\n",
    "# #             return b,d\n",
    "# #         else:\n",
    "# #             return d,b}\n",
    "\n",
    "# def max_div(x,y):\n",
    "#     while mdc(x,y)!=1:\n",
    "#         x,y = grid(x,y)\n",
    "#     return x,y\n",
    "\n",
    "\n",
    "# def loco(x,y):\n",
    "#     a = max(x,y)\n",
    "#     b = min(x,y)\n",
    "#     list_x_div = []\n",
    "#     list_y_div = []\n",
    "#     for i in range(1,b+1):\n",
    "#         c = b%i\n",
    "#         d = a%(b/i)\n",
    "#         if c == 0:\n",
    "#             if a%(b/i)== 0:\n",
    "#                 list_x_div.append(i)\n",
    "#                 list_y_div.append(a/(b/i))\n",
    "#     return list_x_div,list_y_div"
   ]
  }
 ],
 "metadata": {
  "kernelspec": {
   "display_name": "Python 3",
   "language": "python",
   "name": "python3"
  },
  "language_info": {
   "codemirror_mode": {
    "name": "ipython",
    "version": 3
   },
   "file_extension": ".py",
   "mimetype": "text/x-python",
   "name": "python",
   "nbconvert_exporter": "python",
   "pygments_lexer": "ipython3",
   "version": "3.6.7"
  }
 },
 "nbformat": 4,
 "nbformat_minor": 2
}
