{
 "cells": [
  {
   "cell_type": "code",
   "execution_count": 5,
   "metadata": {},
   "outputs": [],
   "source": [
    "import numpy as np\n",
    "import scipy\n",
    "from scipy import stats\n",
    "import scipy.ndimage as ndimage\n",
    "import astropy\n",
    "from astropy.io import fits\n",
    "from astropy.nddata.utils import Cutout2D\n",
    "from astropy.wcs import WCS\n",
    "import math\n",
    "import time\n",
    "from photutils import centroid_com, centroid_1dg, centroid_2dg\n",
    "\n",
    "#libraries for image registration\n",
    "import FITS_tools\n",
    "from FITS_tools.hcongrid import hcongrid\n",
    "\n",
    "#import relevant libraries for a list\n",
    "import glob, os\n",
    "from os import listdir\n",
    "from os.path import isfile, join\n",
    "user = 'sonic'"
   ]
  },
  {
   "cell_type": "code",
   "execution_count": 6,
   "metadata": {},
   "outputs": [
    {
     "data": {
      "text/plain": [
       "['kplr2009114174833_ffi-cal.fits',\n",
       " 'kplr2009114204835_ffi-cal.fits',\n",
       " 'kplr2009115002613_ffi-cal.fits',\n",
       " 'kplr2009115053616_ffi-cal.fits',\n",
       " 'kplr2009115080620_ffi-cal.fits',\n",
       " 'kplr2009115131122_ffi-cal.fits',\n",
       " 'kplr2009115173611_ffi-cal.fits',\n",
       " 'kplr2009116035924_ffi-cal.fits']"
      ]
     },
     "execution_count": 6,
     "metadata": {},
     "output_type": "execute_result"
    }
   ],
   "source": [
    "rawdir = '/home/'+user+'/Documents/Mestrado/FFIs/8_golden/teste/' #directory with the raw images\n",
    "cdedir = '/home/'+user+'/dia_kepler/mychanges/Python/' #directory where the code 'lives'\n",
    "clndir = '/home/'+user+'/Documents/Mestrado/FFIs/8_golden/teste/teste_clean/'#directory for the cleaned images to be output\n",
    "\n",
    "#get the image list and the number of files which need reduction\n",
    "os.chdir(rawdir) #changes to the raw image direcotory\n",
    "files = [f for f in glob.glob(\"*.fits\") if isfile(join(rawdir, f))] #gets the relevant files with the proper extension\n",
    "files.sort()\n",
    "nfiles = len(files)\n",
    "os.chdir(cdedir) #changes back to the code directory\n",
    "\n",
    "ref, rhead = fits.getdata(rawdir+files[0], header = True)\n",
    "\n",
    "files"
   ]
  },
  {
   "cell_type": "code",
   "execution_count": null,
   "metadata": {},
   "outputs": [],
   "source": [
    "for i in files:\n",
    "    hdulist = fits.open(i)\n",
    "    for j in range(1,len(hdulist)):#      cada uma das 84 imagens"
   ]
  },
  {
   "cell_type": "code",
   "execution_count": 14,
   "metadata": {},
   "outputs": [
    {
     "name": "stdout",
     "output_type": "stream",
     "text": [
      "Filename: /home/sonic/Documents/Mestrado/FFIs/8_golden/teste/kplr2009114174833_ffi-cal.fits\n",
      "No.    Name      Ver    Type      Cards   Dimensions   Format\n",
      "  0  PRIMARY       1 PrimaryHDU       4   ()      \n",
      "  1  MOD.OUT 2.1    1 ImageHDU       100   (1100, 1024)   float32   \n",
      "  2  MOD.OUT 2.2    1 ImageHDU       100   (1100, 1024)   float32   \n",
      "  3  MOD.OUT 2.3    1 ImageHDU       100   (1100, 1024)   float32   \n",
      "  4  MOD.OUT 2.4    1 ImageHDU       100   (1100, 1024)   float32   \n",
      "  5  MOD.OUT 3.1    1 ImageHDU       100   (1100, 1024)   float32   \n",
      "  6  MOD.OUT 3.2    1 ImageHDU       100   (1100, 1024)   float32   \n",
      "  7  MOD.OUT 3.3    1 ImageHDU       100   (1100, 1024)   float32   \n",
      "  8  MOD.OUT 3.4    1 ImageHDU       100   (1100, 1024)   float32   \n",
      "  9  MOD.OUT 4.1    1 ImageHDU       100   (1100, 1024)   float32   \n",
      " 10  MOD.OUT 4.2    1 ImageHDU       100   (1100, 1024)   float32   \n",
      " 11  MOD.OUT 4.3    1 ImageHDU       100   (1100, 1024)   float32   \n",
      " 12  MOD.OUT 4.4    1 ImageHDU       100   (1100, 1024)   float32   \n",
      " 13  MOD.OUT 6.1    1 ImageHDU       100   (1100, 1024)   float32   \n",
      " 14  MOD.OUT 6.2    1 ImageHDU       100   (1100, 1024)   float32   \n",
      " 15  MOD.OUT 6.3    1 ImageHDU       100   (1100, 1024)   float32   \n",
      " 16  MOD.OUT 6.4    1 ImageHDU       100   (1100, 1024)   float32   \n",
      " 17  MOD.OUT 7.1    1 ImageHDU       100   (1100, 1024)   float32   \n",
      " 18  MOD.OUT 7.2    1 ImageHDU       100   (1100, 1024)   float32   \n",
      " 19  MOD.OUT 7.3    1 ImageHDU       100   (1100, 1024)   float32   \n",
      " 20  MOD.OUT 7.4    1 ImageHDU       100   (1100, 1024)   float32   \n",
      " 21  MOD.OUT 8.1    1 ImageHDU       100   (1100, 1024)   float32   \n",
      " 22  MOD.OUT 8.2    1 ImageHDU       100   (1100, 1024)   float32   \n",
      " 23  MOD.OUT 8.3    1 ImageHDU       100   (1100, 1024)   float32   \n",
      " 24  MOD.OUT 8.4    1 ImageHDU       100   (1100, 1024)   float32   \n",
      " 25  MOD.OUT 9.1    1 ImageHDU       100   (1100, 1024)   float32   \n",
      " 26  MOD.OUT 9.2    1 ImageHDU       100   (1100, 1024)   float32   \n",
      " 27  MOD.OUT 9.3    1 ImageHDU       100   (1100, 1024)   float32   \n",
      " 28  MOD.OUT 9.4    1 ImageHDU       100   (1100, 1024)   float32   \n",
      " 29  MOD.OUT 10.1    1 ImageHDU       100   (1100, 1024)   float32   \n",
      " 30  MOD.OUT 10.2    1 ImageHDU       100   (1100, 1024)   float32   \n",
      " 31  MOD.OUT 10.3    1 ImageHDU       100   (1100, 1024)   float32   \n",
      " 32  MOD.OUT 10.4    1 ImageHDU       100   (1100, 1024)   float32   \n",
      " 33  MOD.OUT 11.1    1 ImageHDU       100   (1100, 1024)   float32   \n",
      " 34  MOD.OUT 11.2    1 ImageHDU       100   (1100, 1024)   float32   \n",
      " 35  MOD.OUT 11.3    1 ImageHDU       100   (1100, 1024)   float32   \n",
      " 36  MOD.OUT 11.4    1 ImageHDU       100   (1100, 1024)   float32   \n",
      " 37  MOD.OUT 12.1    1 ImageHDU       100   (1100, 1024)   float32   \n",
      " 38  MOD.OUT 12.2    1 ImageHDU       100   (1100, 1024)   float32   \n",
      " 39  MOD.OUT 12.3    1 ImageHDU       100   (1100, 1024)   float32   \n",
      " 40  MOD.OUT 12.4    1 ImageHDU       100   (1100, 1024)   float32   \n",
      " 41  MOD.OUT 13.1    1 ImageHDU       100   (1100, 1024)   float32   \n",
      " 42  MOD.OUT 13.2    1 ImageHDU       100   (1100, 1024)   float32   \n",
      " 43  MOD.OUT 13.3    1 ImageHDU       100   (1100, 1024)   float32   \n",
      " 44  MOD.OUT 13.4    1 ImageHDU       100   (1100, 1024)   float32   \n",
      " 45  MOD.OUT 14.1    1 ImageHDU       100   (1100, 1024)   float32   \n",
      " 46  MOD.OUT 14.2    1 ImageHDU       100   (1100, 1024)   float32   \n",
      " 47  MOD.OUT 14.3    1 ImageHDU       100   (1100, 1024)   float32   \n",
      " 48  MOD.OUT 14.4    1 ImageHDU       100   (1100, 1024)   float32   \n",
      " 49  MOD.OUT 15.1    1 ImageHDU       100   (1100, 1024)   float32   \n",
      " 50  MOD.OUT 15.2    1 ImageHDU       100   (1100, 1024)   float32   \n",
      " 51  MOD.OUT 15.3    1 ImageHDU       100   (1100, 1024)   float32   \n",
      " 52  MOD.OUT 15.4    1 ImageHDU       100   (1100, 1024)   float32   \n",
      " 53  MOD.OUT 16.1    1 ImageHDU       100   (1100, 1024)   float32   \n",
      " 54  MOD.OUT 16.2    1 ImageHDU       100   (1100, 1024)   float32   \n",
      " 55  MOD.OUT 16.3    1 ImageHDU       100   (1100, 1024)   float32   \n",
      " 56  MOD.OUT 16.4    1 ImageHDU       100   (1100, 1024)   float32   \n",
      " 57  MOD.OUT 17.1    1 ImageHDU       100   (1100, 1024)   float32   \n",
      " 58  MOD.OUT 17.2    1 ImageHDU       100   (1100, 1024)   float32   \n",
      " 59  MOD.OUT 17.3    1 ImageHDU       100   (1100, 1024)   float32   \n",
      " 60  MOD.OUT 17.4    1 ImageHDU       100   (1100, 1024)   float32   \n",
      " 61  MOD.OUT 18.1    1 ImageHDU       100   (1100, 1024)   float32   \n",
      " 62  MOD.OUT 18.2    1 ImageHDU       100   (1100, 1024)   float32   \n",
      " 63  MOD.OUT 18.3    1 ImageHDU       100   (1100, 1024)   float32   \n",
      " 64  MOD.OUT 18.4    1 ImageHDU       100   (1100, 1024)   float32   \n",
      " 65  MOD.OUT 19.1    1 ImageHDU       100   (1100, 1024)   float32   \n",
      " 66  MOD.OUT 19.2    1 ImageHDU       100   (1100, 1024)   float32   \n",
      " 67  MOD.OUT 19.3    1 ImageHDU       100   (1100, 1024)   float32   \n",
      " 68  MOD.OUT 19.4    1 ImageHDU       100   (1100, 1024)   float32   \n",
      " 69  MOD.OUT 20.1    1 ImageHDU       100   (1100, 1024)   float32   \n",
      " 70  MOD.OUT 20.2    1 ImageHDU       100   (1100, 1024)   float32   \n",
      " 71  MOD.OUT 20.3    1 ImageHDU       100   (1100, 1024)   float32   \n",
      " 72  MOD.OUT 20.4    1 ImageHDU       100   (1100, 1024)   float32   \n",
      " 73  MOD.OUT 22.1    1 ImageHDU       100   (1100, 1024)   float32   \n",
      " 74  MOD.OUT 22.2    1 ImageHDU       100   (1100, 1024)   float32   \n",
      " 75  MOD.OUT 22.3    1 ImageHDU       100   (1100, 1024)   float32   \n",
      " 76  MOD.OUT 22.4    1 ImageHDU       100   (1100, 1024)   float32   \n",
      " 77  MOD.OUT 23.1    1 ImageHDU       100   (1100, 1024)   float32   \n",
      " 78  MOD.OUT 23.2    1 ImageHDU       100   (1100, 1024)   float32   \n",
      " 79  MOD.OUT 23.3    1 ImageHDU       100   (1100, 1024)   float32   \n",
      " 80  MOD.OUT 23.4    1 ImageHDU       100   (1100, 1024)   float32   \n",
      " 81  MOD.OUT 24.1    1 ImageHDU       100   (1100, 1024)   float32   \n",
      " 82  MOD.OUT 24.2    1 ImageHDU       100   (1100, 1024)   float32   \n",
      " 83  MOD.OUT 24.3    1 ImageHDU       100   (1100, 1024)   float32   \n",
      " 84  MOD.OUT 24.4    1 ImageHDU       100   (1100, 1024)   float32   \n"
     ]
    }
   ],
   "source": [
    "from astropy.io import fits\n",
    "\n",
    "\n",
    "fit = fits.open(rawdir+files[0])\n",
    "fit1 = fits.open(rawdir+files[1])\n",
    "\n",
    "fit.info()"
   ]
  }
 ],
 "metadata": {
  "kernelspec": {
   "display_name": "Python 3",
   "language": "python",
   "name": "python3"
  },
  "language_info": {
   "codemirror_mode": {
    "name": "ipython",
    "version": 3
   },
   "file_extension": ".py",
   "mimetype": "text/x-python",
   "name": "python",
   "nbconvert_exporter": "python",
   "pygments_lexer": "ipython3",
   "version": "3.6.4"
  }
 },
 "nbformat": 4,
 "nbformat_minor": 2
}
